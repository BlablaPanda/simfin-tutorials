{
 "cells": [
  {
   "cell_type": "markdown",
   "metadata": {},
   "source": [
    "# SimFin Tutorial 01 - The Basics\n",
    "\n",
    "[Original repository on GitHub](https://github.com/simfin/simfin-tutorials)\n",
    "\n",
    "This tutorial was originally written by [Hvass Labs](https://github.com/Hvass-Labs)"
   ]
  },
  {
   "cell_type": "markdown",
   "metadata": {},
   "source": [
    "## Introduction\n",
    "\n",
    "Financial data used to be very expensive, typically costing USD 10-20,000 for an annual subscription, making it impossible for ordinary people to obtain the data. It was limited to banks and hedge funds which usually keep their research private, and academia which has proven unable to turn finance theory into a real science.\n",
    "\n",
    "With the advent of XBRL data, US companies are now required to publish their financial data in digital form, which means it can be collected automatically into a database. Unfortunately, there are several challenges in collecting and standardizing the data, so companies have sprung up to provide that service at a very low cost.\n",
    "\n",
    "However, the new data providers often have a complicated API, which is very far from how people will actually use the data. Every user has to build the infrastructure for downloading the data, saving it to disk, and loading it into a format that can actually be used in research and production.\n",
    "\n",
    "The [SimFin Python API](https://www.github.com/SimFin/simfin) solves all these problems with a simple and elegant API, making it very easy to download and use the financial data. Furthermore, the basic SimFin datasets are all free, so you can easily share your research in Python Notebooks that automatically download the financial data, when people run the Notebook on their own computer or in the cloud using e.g. Google Colab.\n",
    "\n",
    "This is a game-changer in how financial research can be created and shared. Hopefully it can break the monopoly of academia and the financial industry, so everyone with a good idea can now do research in finance.\n",
    "\n",
    "This tutorial shows the basics of using the SimFin Python API."
   ]
  },
  {
   "cell_type": "markdown",
   "metadata": {},
   "source": [
    "## Installation\n",
    "\n",
    "SimFin is available as a Python package for easy installation. To install SimFin you simply need to execute the following command (remove the \\# first)."
   ]
  },
  {
   "cell_type": "code",
   "execution_count": 1,
   "metadata": {},
   "outputs": [],
   "source": [
    "# !pip install simfin"
   ]
  },
  {
   "cell_type": "markdown",
   "metadata": {},
   "source": [
    "### Virtual Environments\n",
    "\n",
    "It is best to use a virtual environment when installing Python packages, so they are not installed inside your main Python installation. That makes it easy to remove the packages if something goes wrong. Please see the README file for this tutorial, for a detailed explanation on how to create virtual environments."
   ]
  },
  {
   "cell_type": "markdown",
   "metadata": {},
   "source": [
    "### Google Colab\n",
    "\n",
    "If you do not wish to install anything on your local computer, you can run these tutorials entirely in the cloud using the free [Google Colab](https://colab.research.google.com) service. All the required Python packages should already be installed on Google Colab, except for SimFin which you can install by executing the above command. A virtual / temporary environment is automatically created on Google Colab each time you login, so you can install SimFin directly."
   ]
  },
  {
   "cell_type": "markdown",
   "metadata": {},
   "source": [
    "## Imports"
   ]
  },
  {
   "cell_type": "code",
   "execution_count": 2,
   "metadata": {},
   "outputs": [],
   "source": [
    "%matplotlib inline\n",
    "import pandas as pd\n",
    "import seaborn as sns\n",
    "\n",
    "# Import the main functionality from the SimFin Python API.\n",
    "import simfin as sf\n",
    "\n",
    "# Import names used for easy access to SimFin's data-columns.\n",
    "from simfin.names import *"
   ]
  },
  {
   "cell_type": "code",
   "execution_count": 3,
   "metadata": {},
   "outputs": [
    {
     "data": {
      "text/plain": [
       "'0.1.0'"
      ]
     },
     "execution_count": 3,
     "metadata": {},
     "output_type": "execute_result"
    }
   ],
   "source": [
    "# Version of the SimFin Python API.\n",
    "sf.__version__"
   ]
  },
  {
   "cell_type": "code",
   "execution_count": 4,
   "metadata": {},
   "outputs": [],
   "source": [
    "# Set the plotting style for Seaborn.\n",
    "sns.set_style(\"whitegrid\")"
   ]
  },
  {
   "cell_type": "markdown",
   "metadata": {},
   "source": [
    "## Data Directory\n",
    "\n",
    "Before using SimFin, you need to set the directory where the data is downloaded and stored. The directory is created automatically if it does not exist. If you forget to set this, then the data will be stored in your current directory."
   ]
  },
  {
   "cell_type": "code",
   "execution_count": 5,
   "metadata": {},
   "outputs": [],
   "source": [
    "sf.set_data_dir('~/simfin_data/')"
   ]
  },
  {
   "cell_type": "markdown",
   "metadata": {},
   "source": [
    "## API Key\n",
    "\n",
    "SimFin provides both free and paid versions of its data. Anyone can download the free data by using the API key 'free'. Visit (??? better link to dataset comparison) [SimFin](https://www.simfin.com) for a comparison of the free and paid versions, and to obtain your own API key."
   ]
  },
  {
   "cell_type": "code",
   "execution_count": 6,
   "metadata": {},
   "outputs": [],
   "source": [
    "sf.set_api_key(api_key='free')"
   ]
  },
  {
   "cell_type": "markdown",
   "metadata": {},
   "source": [
    "The API key can also be loaded from disk. If the file doesn't exist, then it uses the default 'free' API key. This is useful if you want to share your Notebooks with others, without revealing your private API key."
   ]
  },
  {
   "cell_type": "code",
   "execution_count": 7,
   "metadata": {},
   "outputs": [],
   "source": [
    "# sf.load_api_key(path='~/simfin_api_key.txt', default_key='free')"
   ]
  },
  {
   "cell_type": "markdown",
   "metadata": {},
   "source": [
    "## General Load Function\n",
    "\n",
    "The general function for downloading and loading the bulk-data from the SimFin server is `sf.load()` which takes several arguments, with the main arguments being:\n",
    "\n",
    "- The `dataset` to download e.g. 'income' for Income Statements, 'balance' for Balance Sheets, or 'cashflow' for Cash-Flow Statements, 'shareprices' for Share Prices, etc.\n",
    "\n",
    "- The `variant` of the given dataset e.g. 'annual', 'quarterly' or 'ttm' (Trailing-Twelve-Months) for financial reports, or 'daily' for share-price data.\n",
    "\n",
    "- The `market` for the dataset e.g. 'usa' or 'uk'. Note that this is currently not supported and should be left to `None` for all markets. ???\n",
    "\n",
    "For example, we can use the `sf.load()` function to download and load all the annual Income Statements from the SimFin database into a Pandas DataFrame. The fundamental datasets are fairly small (a few MB per file) and should download and load very quickly."
   ]
  },
  {
   "cell_type": "code",
   "execution_count": 8,
   "metadata": {},
   "outputs": [
    {
     "name": "stdout",
     "output_type": "stream",
     "text": [
      "Loading \"income-annual\" from disk (0 days old).\n"
     ]
    }
   ],
   "source": [
    "df1 = sf.load(dataset='income', variant='annual', market=None)"
   ]
  },
  {
   "cell_type": "markdown",
   "metadata": {},
   "source": [
    "This gives us a Pandas DataFrame with all the data."
   ]
  },
  {
   "cell_type": "code",
   "execution_count": 9,
   "metadata": {},
   "outputs": [
    {
     "data": {
      "text/html": [
       "<div>\n",
       "<style scoped>\n",
       "    .dataframe tbody tr th:only-of-type {\n",
       "        vertical-align: middle;\n",
       "    }\n",
       "\n",
       "    .dataframe tbody tr th {\n",
       "        vertical-align: top;\n",
       "    }\n",
       "\n",
       "    .dataframe thead th {\n",
       "        text-align: right;\n",
       "    }\n",
       "</style>\n",
       "<table border=\"1\" class=\"dataframe\">\n",
       "  <thead>\n",
       "    <tr style=\"text-align: right;\">\n",
       "      <th></th>\n",
       "      <th>Ticker</th>\n",
       "      <th>SimFinId</th>\n",
       "      <th>Currency</th>\n",
       "      <th>Fiscal Year</th>\n",
       "      <th>Fiscal Period</th>\n",
       "      <th>Report Date</th>\n",
       "      <th>Publish Date</th>\n",
       "      <th>Shares (Basic)</th>\n",
       "      <th>Shares (Diluted)</th>\n",
       "      <th>Revenue</th>\n",
       "      <th>...</th>\n",
       "      <th>Non-Operating Income (Loss)</th>\n",
       "      <th>Interest Expense, net</th>\n",
       "      <th>Pretax Income (Loss), Adjusted</th>\n",
       "      <th>Abnormal Gains (Losses)</th>\n",
       "      <th>Pretax Income (Loss)</th>\n",
       "      <th>Income Tax (Expense) Benefit, net</th>\n",
       "      <th>Income (Loss) from Continuing Operations</th>\n",
       "      <th>Net Extraordinary Gains (Losses)</th>\n",
       "      <th>Net Income</th>\n",
       "      <th>Net Income Available to Common Shareholders</th>\n",
       "    </tr>\n",
       "  </thead>\n",
       "  <tbody>\n",
       "    <tr>\n",
       "      <td>0</td>\n",
       "      <td>DAI.DE</td>\n",
       "      <td>825113</td>\n",
       "      <td>USD</td>\n",
       "      <td>1996</td>\n",
       "      <td>FY</td>\n",
       "      <td>1996-12-31</td>\n",
       "      <td>2019-01-15</td>\n",
       "      <td>NaN</td>\n",
       "      <td>NaN</td>\n",
       "      <td>5.548000e+09</td>\n",
       "      <td>...</td>\n",
       "      <td>NaN</td>\n",
       "      <td>NaN</td>\n",
       "      <td>6.070000e+08</td>\n",
       "      <td>3.710000e+08</td>\n",
       "      <td>978000000</td>\n",
       "      <td>NaN</td>\n",
       "      <td>978000000</td>\n",
       "      <td>NaN</td>\n",
       "      <td>976000000</td>\n",
       "      <td>976000000</td>\n",
       "    </tr>\n",
       "    <tr>\n",
       "      <td>1</td>\n",
       "      <td>DAI.DE</td>\n",
       "      <td>825113</td>\n",
       "      <td>EUR</td>\n",
       "      <td>1997</td>\n",
       "      <td>FY</td>\n",
       "      <td>1997-12-31</td>\n",
       "      <td>2019-01-15</td>\n",
       "      <td>NaN</td>\n",
       "      <td>NaN</td>\n",
       "      <td>1.175720e+11</td>\n",
       "      <td>...</td>\n",
       "      <td>633000000.0</td>\n",
       "      <td>NaN</td>\n",
       "      <td>6.180000e+09</td>\n",
       "      <td>6.547000e+09</td>\n",
       "      <td>12727000000</td>\n",
       "      <td>4.820000e+08</td>\n",
       "      <td>13209000000</td>\n",
       "      <td>NaN</td>\n",
       "      <td>13094000000</td>\n",
       "      <td>13094000000</td>\n",
       "    </tr>\n",
       "    <tr>\n",
       "      <td>2</td>\n",
       "      <td>DAI.DE</td>\n",
       "      <td>825113</td>\n",
       "      <td>USD</td>\n",
       "      <td>1998</td>\n",
       "      <td>FY</td>\n",
       "      <td>1998-12-31</td>\n",
       "      <td>2019-01-15</td>\n",
       "      <td>NaN</td>\n",
       "      <td>NaN</td>\n",
       "      <td>1.546150e+11</td>\n",
       "      <td>...</td>\n",
       "      <td>896000000.0</td>\n",
       "      <td>NaN</td>\n",
       "      <td>1.037000e+10</td>\n",
       "      <td>5.004000e+09</td>\n",
       "      <td>15374000000</td>\n",
       "      <td>NaN</td>\n",
       "      <td>15374000000</td>\n",
       "      <td>NaN</td>\n",
       "      <td>15221000000</td>\n",
       "      <td>15221000000</td>\n",
       "    </tr>\n",
       "    <tr>\n",
       "      <td>3</td>\n",
       "      <td>DAI.DE</td>\n",
       "      <td>825113</td>\n",
       "      <td>USD</td>\n",
       "      <td>1999</td>\n",
       "      <td>FY</td>\n",
       "      <td>1999-12-31</td>\n",
       "      <td>2019-01-15</td>\n",
       "      <td>NaN</td>\n",
       "      <td>NaN</td>\n",
       "      <td>1.510350e+11</td>\n",
       "      <td>...</td>\n",
       "      <td>335000000.0</td>\n",
       "      <td>NaN</td>\n",
       "      <td>9.724000e+09</td>\n",
       "      <td>6.460000e+08</td>\n",
       "      <td>10370000000</td>\n",
       "      <td>-3.747000e+09</td>\n",
       "      <td>6623000000</td>\n",
       "      <td>NaN</td>\n",
       "      <td>6623000000</td>\n",
       "      <td>6623000000</td>\n",
       "    </tr>\n",
       "    <tr>\n",
       "      <td>4</td>\n",
       "      <td>DAI.DE</td>\n",
       "      <td>825113</td>\n",
       "      <td>USD</td>\n",
       "      <td>2000</td>\n",
       "      <td>FY</td>\n",
       "      <td>2000-12-31</td>\n",
       "      <td>2019-01-15</td>\n",
       "      <td>NaN</td>\n",
       "      <td>NaN</td>\n",
       "      <td>1.524460e+11</td>\n",
       "      <td>...</td>\n",
       "      <td>NaN</td>\n",
       "      <td>NaN</td>\n",
       "      <td>4.056000e+09</td>\n",
       "      <td>4.923300e+09</td>\n",
       "      <td>8979300000</td>\n",
       "      <td>-1.630000e+09</td>\n",
       "      <td>7349300000</td>\n",
       "      <td>NaN</td>\n",
       "      <td>7349300000</td>\n",
       "      <td>7349300000</td>\n",
       "    </tr>\n",
       "  </tbody>\n",
       "</table>\n",
       "<p>5 rows × 27 columns</p>\n",
       "</div>"
      ],
      "text/plain": [
       "   Ticker  SimFinId Currency  Fiscal Year Fiscal Period Report Date  \\\n",
       "0  DAI.DE    825113      USD         1996            FY  1996-12-31   \n",
       "1  DAI.DE    825113      EUR         1997            FY  1997-12-31   \n",
       "2  DAI.DE    825113      USD         1998            FY  1998-12-31   \n",
       "3  DAI.DE    825113      USD         1999            FY  1999-12-31   \n",
       "4  DAI.DE    825113      USD         2000            FY  2000-12-31   \n",
       "\n",
       "  Publish Date  Shares (Basic)  Shares (Diluted)       Revenue  ...  \\\n",
       "0   2019-01-15             NaN               NaN  5.548000e+09  ...   \n",
       "1   2019-01-15             NaN               NaN  1.175720e+11  ...   \n",
       "2   2019-01-15             NaN               NaN  1.546150e+11  ...   \n",
       "3   2019-01-15             NaN               NaN  1.510350e+11  ...   \n",
       "4   2019-01-15             NaN               NaN  1.524460e+11  ...   \n",
       "\n",
       "   Non-Operating Income (Loss)  Interest Expense, net  \\\n",
       "0                          NaN                    NaN   \n",
       "1                  633000000.0                    NaN   \n",
       "2                  896000000.0                    NaN   \n",
       "3                  335000000.0                    NaN   \n",
       "4                          NaN                    NaN   \n",
       "\n",
       "   Pretax Income (Loss), Adjusted  Abnormal Gains (Losses)  \\\n",
       "0                    6.070000e+08             3.710000e+08   \n",
       "1                    6.180000e+09             6.547000e+09   \n",
       "2                    1.037000e+10             5.004000e+09   \n",
       "3                    9.724000e+09             6.460000e+08   \n",
       "4                    4.056000e+09             4.923300e+09   \n",
       "\n",
       "   Pretax Income (Loss)  Income Tax (Expense) Benefit, net  \\\n",
       "0             978000000                                NaN   \n",
       "1           12727000000                       4.820000e+08   \n",
       "2           15374000000                                NaN   \n",
       "3           10370000000                      -3.747000e+09   \n",
       "4            8979300000                      -1.630000e+09   \n",
       "\n",
       "   Income (Loss) from Continuing Operations  Net Extraordinary Gains (Losses)  \\\n",
       "0                                 978000000                               NaN   \n",
       "1                               13209000000                               NaN   \n",
       "2                               15374000000                               NaN   \n",
       "3                                6623000000                               NaN   \n",
       "4                                7349300000                               NaN   \n",
       "\n",
       "    Net Income  Net Income Available to Common Shareholders  \n",
       "0    976000000                                    976000000  \n",
       "1  13094000000                                  13094000000  \n",
       "2  15221000000                                  15221000000  \n",
       "3   6623000000                                   6623000000  \n",
       "4   7349300000                                   7349300000  \n",
       "\n",
       "[5 rows x 27 columns]"
      ]
     },
     "execution_count": 9,
     "metadata": {},
     "output_type": "execute_result"
    }
   ],
   "source": [
    "df1.head()"
   ]
  },
  {
   "cell_type": "markdown",
   "metadata": {},
   "source": [
    "### Refresh Data\n",
    "\n",
    "By default the data-files are downloaded every 30 days, which is a good choice for the free datasets, because the free data is several months old and is updated infrequently. We can set a different time-limit by passing the argument `refresh_days` to the `load()` function and its specializations described below. A value of `refresh_days=0` forces download of the dataset, regardless of when you downloaded it last and how old the data-file is on your disk. But even for paying subscribers, the SimFin server only updates the data-files daily, so you would normally use `refresh_days >= 1`. For example, if we want to refresh the data every 3 days:"
   ]
  },
  {
   "cell_type": "code",
   "execution_count": 10,
   "metadata": {},
   "outputs": [
    {
     "name": "stdout",
     "output_type": "stream",
     "text": [
      "Loading \"income-annual\" from disk (0 days old).\n"
     ]
    }
   ],
   "source": [
    "df1 = sf.load(dataset='income', variant='annual', market=None,\n",
    "             refresh_days=3)"
   ]
  },
  {
   "cell_type": "markdown",
   "metadata": {},
   "source": [
    "### Data Names\n",
    "\n",
    "The data columns can be selected by their full names, for example:"
   ]
  },
  {
   "cell_type": "code",
   "execution_count": 11,
   "metadata": {},
   "outputs": [
    {
     "data": {
      "text/plain": [
       "0       -6.520000e+08\n",
       "1       -1.562100e+10\n",
       "2       -1.904100e+10\n",
       "3       -1.765500e+10\n",
       "4       -1.677200e+10\n",
       "             ...     \n",
       "19377   -1.605800e+09\n",
       "19378   -5.605500e+07\n",
       "19379   -3.710820e+08\n",
       "19380   -4.323700e+07\n",
       "19381   -8.764800e+07\n",
       "Name: Selling, General & Administrative, Length: 19382, dtype: float64"
      ]
     },
     "execution_count": 11,
     "metadata": {},
     "output_type": "execute_result"
    }
   ],
   "source": [
    "df1['Selling, General & Administrative']"
   ]
  },
  {
   "cell_type": "markdown",
   "metadata": {},
   "source": [
    "Some of the column-names are long and it is easy to make a mistake when typing them, so for convenience, there are short-hand names and brief explanations of all the data-columns in the `names` module that was imported further above. For example:"
   ]
  },
  {
   "cell_type": "code",
   "execution_count": 12,
   "metadata": {},
   "outputs": [
    {
     "data": {
      "text/plain": [
       "'Selling, General & Administrative'"
      ]
     },
     "execution_count": 12,
     "metadata": {},
     "output_type": "execute_result"
    }
   ],
   "source": [
    "SGA"
   ]
  },
  {
   "cell_type": "code",
   "execution_count": 13,
   "metadata": {},
   "outputs": [
    {
     "data": {
      "text/plain": [
       "0       -6.520000e+08\n",
       "1       -1.562100e+10\n",
       "2       -1.904100e+10\n",
       "3       -1.765500e+10\n",
       "4       -1.677200e+10\n",
       "             ...     \n",
       "19377   -1.605800e+09\n",
       "19378   -5.605500e+07\n",
       "19379   -3.710820e+08\n",
       "19380   -4.323700e+07\n",
       "19381   -8.764800e+07\n",
       "Name: Selling, General & Administrative, Length: 19382, dtype: float64"
      ]
     },
     "execution_count": 13,
     "metadata": {},
     "output_type": "execute_result"
    }
   ],
   "source": [
    "df1[SGA]"
   ]
  },
  {
   "cell_type": "markdown",
   "metadata": {},
   "source": [
    "### Indexing the DataFrame\n",
    "\n",
    "The above DataFrame is not indexed by either the Ticker or any of the dates, so it is difficult to work with. The `sf.load()` function can also do this indexing for us, if we provide more arguments to the function. For example, if we want to index by the columns named \"Ticker\" and \"Report Date\" we pass those as an argument to the `sf.load()` function. Furthermore, we can instruct the `sf.load()` function to parse columns in the DataFrame that contain dates.\n",
    "\n",
    "The reason these arguments have to be specified, is that the names of these data-columns are different amongst datasets. Specialized functions are shown further below, where the correct arguments are passed automatically."
   ]
  },
  {
   "cell_type": "code",
   "execution_count": 14,
   "metadata": {},
   "outputs": [
    {
     "name": "stdout",
     "output_type": "stream",
     "text": [
      "Loading \"income-annual\" from disk (0 days old).\n"
     ]
    }
   ],
   "source": [
    "df2 = sf.load(dataset='income', variant='annual', market=None,\n",
    "              index=[TICKER, REPORT_DATE],\n",
    "              parse_dates=[REPORT_DATE, PUBLISH_DATE])"
   ]
  },
  {
   "cell_type": "code",
   "execution_count": 15,
   "metadata": {
    "scrolled": true
   },
   "outputs": [
    {
     "data": {
      "text/html": [
       "<div>\n",
       "<style scoped>\n",
       "    .dataframe tbody tr th:only-of-type {\n",
       "        vertical-align: middle;\n",
       "    }\n",
       "\n",
       "    .dataframe tbody tr th {\n",
       "        vertical-align: top;\n",
       "    }\n",
       "\n",
       "    .dataframe thead th {\n",
       "        text-align: right;\n",
       "    }\n",
       "</style>\n",
       "<table border=\"1\" class=\"dataframe\">\n",
       "  <thead>\n",
       "    <tr style=\"text-align: right;\">\n",
       "      <th></th>\n",
       "      <th></th>\n",
       "      <th>SimFinId</th>\n",
       "      <th>Currency</th>\n",
       "      <th>Fiscal Year</th>\n",
       "      <th>Fiscal Period</th>\n",
       "      <th>Publish Date</th>\n",
       "      <th>Shares (Basic)</th>\n",
       "      <th>Shares (Diluted)</th>\n",
       "      <th>Revenue</th>\n",
       "      <th>Cost of Revenue</th>\n",
       "      <th>Gross Profit</th>\n",
       "      <th>...</th>\n",
       "      <th>Non-Operating Income (Loss)</th>\n",
       "      <th>Interest Expense, net</th>\n",
       "      <th>Pretax Income (Loss), Adjusted</th>\n",
       "      <th>Abnormal Gains (Losses)</th>\n",
       "      <th>Pretax Income (Loss)</th>\n",
       "      <th>Income Tax (Expense) Benefit, net</th>\n",
       "      <th>Income (Loss) from Continuing Operations</th>\n",
       "      <th>Net Extraordinary Gains (Losses)</th>\n",
       "      <th>Net Income</th>\n",
       "      <th>Net Income Available to Common Shareholders</th>\n",
       "    </tr>\n",
       "    <tr>\n",
       "      <th>Ticker</th>\n",
       "      <th>Report Date</th>\n",
       "      <th></th>\n",
       "      <th></th>\n",
       "      <th></th>\n",
       "      <th></th>\n",
       "      <th></th>\n",
       "      <th></th>\n",
       "      <th></th>\n",
       "      <th></th>\n",
       "      <th></th>\n",
       "      <th></th>\n",
       "      <th></th>\n",
       "      <th></th>\n",
       "      <th></th>\n",
       "      <th></th>\n",
       "      <th></th>\n",
       "      <th></th>\n",
       "      <th></th>\n",
       "      <th></th>\n",
       "      <th></th>\n",
       "      <th></th>\n",
       "      <th></th>\n",
       "    </tr>\n",
       "  </thead>\n",
       "  <tbody>\n",
       "    <tr>\n",
       "      <td rowspan=\"5\" valign=\"top\">A</td>\n",
       "      <td>2007-10-31</td>\n",
       "      <td>45846</td>\n",
       "      <td>USD</td>\n",
       "      <td>2007</td>\n",
       "      <td>FY</td>\n",
       "      <td>2009-10-05</td>\n",
       "      <td>NaN</td>\n",
       "      <td>NaN</td>\n",
       "      <td>5.420000e+09</td>\n",
       "      <td>-2.451000e+09</td>\n",
       "      <td>2.969000e+09</td>\n",
       "      <td>...</td>\n",
       "      <td>86000000.0</td>\n",
       "      <td>81000000.0</td>\n",
       "      <td>6.700000e+08</td>\n",
       "      <td>NaN</td>\n",
       "      <td>670000000</td>\n",
       "      <td>-32000000.0</td>\n",
       "      <td>638000000</td>\n",
       "      <td>NaN</td>\n",
       "      <td>638000000</td>\n",
       "      <td>638000000</td>\n",
       "    </tr>\n",
       "    <tr>\n",
       "      <td>2008-10-31</td>\n",
       "      <td>45846</td>\n",
       "      <td>USD</td>\n",
       "      <td>2008</td>\n",
       "      <td>FY</td>\n",
       "      <td>2009-10-05</td>\n",
       "      <td>508200000.0</td>\n",
       "      <td>519400000.0</td>\n",
       "      <td>5.774000e+09</td>\n",
       "      <td>-2.578000e+09</td>\n",
       "      <td>3.196000e+09</td>\n",
       "      <td>...</td>\n",
       "      <td>20000000.0</td>\n",
       "      <td>-10000000.0</td>\n",
       "      <td>8.150000e+08</td>\n",
       "      <td>0.0</td>\n",
       "      <td>815000000</td>\n",
       "      <td>-122000000.0</td>\n",
       "      <td>693000000</td>\n",
       "      <td>NaN</td>\n",
       "      <td>693000000</td>\n",
       "      <td>693000000</td>\n",
       "    </tr>\n",
       "    <tr>\n",
       "      <td>2009-10-31</td>\n",
       "      <td>45846</td>\n",
       "      <td>USD</td>\n",
       "      <td>2009</td>\n",
       "      <td>FY</td>\n",
       "      <td>2009-12-21</td>\n",
       "      <td>484400000.0</td>\n",
       "      <td>484400000.0</td>\n",
       "      <td>4.481000e+09</td>\n",
       "      <td>-2.189000e+09</td>\n",
       "      <td>2.292000e+09</td>\n",
       "      <td>...</td>\n",
       "      <td>-40000000.0</td>\n",
       "      <td>-59000000.0</td>\n",
       "      <td>7.000000e+06</td>\n",
       "      <td>0.0</td>\n",
       "      <td>7000000</td>\n",
       "      <td>-38000000.0</td>\n",
       "      <td>-31000000</td>\n",
       "      <td>NaN</td>\n",
       "      <td>-31000000</td>\n",
       "      <td>-31000000</td>\n",
       "    </tr>\n",
       "    <tr>\n",
       "      <td>2010-10-31</td>\n",
       "      <td>45846</td>\n",
       "      <td>USD</td>\n",
       "      <td>2010</td>\n",
       "      <td>FY</td>\n",
       "      <td>2010-12-20</td>\n",
       "      <td>485800000.0</td>\n",
       "      <td>494200000.0</td>\n",
       "      <td>5.444000e+09</td>\n",
       "      <td>-2.514000e+09</td>\n",
       "      <td>2.930000e+09</td>\n",
       "      <td>...</td>\n",
       "      <td>-6000000.0</td>\n",
       "      <td>-76000000.0</td>\n",
       "      <td>5.600000e+08</td>\n",
       "      <td>132000000.0</td>\n",
       "      <td>692000000</td>\n",
       "      <td>-8000000.0</td>\n",
       "      <td>684000000</td>\n",
       "      <td>NaN</td>\n",
       "      <td>684000000</td>\n",
       "      <td>684000000</td>\n",
       "    </tr>\n",
       "    <tr>\n",
       "      <td>2011-10-31</td>\n",
       "      <td>45846</td>\n",
       "      <td>USD</td>\n",
       "      <td>2011</td>\n",
       "      <td>FY</td>\n",
       "      <td>2011-12-16</td>\n",
       "      <td>485800000.0</td>\n",
       "      <td>497000000.0</td>\n",
       "      <td>6.615000e+09</td>\n",
       "      <td>-3.086000e+09</td>\n",
       "      <td>3.529000e+09</td>\n",
       "      <td>...</td>\n",
       "      <td>-39000000.0</td>\n",
       "      <td>-72000000.0</td>\n",
       "      <td>1.032000e+09</td>\n",
       "      <td>NaN</td>\n",
       "      <td>1032000000</td>\n",
       "      <td>-20000000.0</td>\n",
       "      <td>1012000000</td>\n",
       "      <td>NaN</td>\n",
       "      <td>1012000000</td>\n",
       "      <td>1012000000</td>\n",
       "    </tr>\n",
       "  </tbody>\n",
       "</table>\n",
       "<p>5 rows × 25 columns</p>\n",
       "</div>"
      ],
      "text/plain": [
       "                    SimFinId Currency  Fiscal Year Fiscal Period Publish Date  \\\n",
       "Ticker Report Date                                                              \n",
       "A      2007-10-31      45846      USD         2007            FY   2009-10-05   \n",
       "       2008-10-31      45846      USD         2008            FY   2009-10-05   \n",
       "       2009-10-31      45846      USD         2009            FY   2009-12-21   \n",
       "       2010-10-31      45846      USD         2010            FY   2010-12-20   \n",
       "       2011-10-31      45846      USD         2011            FY   2011-12-16   \n",
       "\n",
       "                    Shares (Basic)  Shares (Diluted)       Revenue  \\\n",
       "Ticker Report Date                                                   \n",
       "A      2007-10-31              NaN               NaN  5.420000e+09   \n",
       "       2008-10-31      508200000.0       519400000.0  5.774000e+09   \n",
       "       2009-10-31      484400000.0       484400000.0  4.481000e+09   \n",
       "       2010-10-31      485800000.0       494200000.0  5.444000e+09   \n",
       "       2011-10-31      485800000.0       497000000.0  6.615000e+09   \n",
       "\n",
       "                    Cost of Revenue  Gross Profit  ...  \\\n",
       "Ticker Report Date                                 ...   \n",
       "A      2007-10-31     -2.451000e+09  2.969000e+09  ...   \n",
       "       2008-10-31     -2.578000e+09  3.196000e+09  ...   \n",
       "       2009-10-31     -2.189000e+09  2.292000e+09  ...   \n",
       "       2010-10-31     -2.514000e+09  2.930000e+09  ...   \n",
       "       2011-10-31     -3.086000e+09  3.529000e+09  ...   \n",
       "\n",
       "                    Non-Operating Income (Loss)  Interest Expense, net  \\\n",
       "Ticker Report Date                                                       \n",
       "A      2007-10-31                    86000000.0             81000000.0   \n",
       "       2008-10-31                    20000000.0            -10000000.0   \n",
       "       2009-10-31                   -40000000.0            -59000000.0   \n",
       "       2010-10-31                    -6000000.0            -76000000.0   \n",
       "       2011-10-31                   -39000000.0            -72000000.0   \n",
       "\n",
       "                    Pretax Income (Loss), Adjusted  Abnormal Gains (Losses)  \\\n",
       "Ticker Report Date                                                            \n",
       "A      2007-10-31                     6.700000e+08                      NaN   \n",
       "       2008-10-31                     8.150000e+08                      0.0   \n",
       "       2009-10-31                     7.000000e+06                      0.0   \n",
       "       2010-10-31                     5.600000e+08              132000000.0   \n",
       "       2011-10-31                     1.032000e+09                      NaN   \n",
       "\n",
       "                    Pretax Income (Loss)  Income Tax (Expense) Benefit, net  \\\n",
       "Ticker Report Date                                                            \n",
       "A      2007-10-31              670000000                        -32000000.0   \n",
       "       2008-10-31              815000000                       -122000000.0   \n",
       "       2009-10-31                7000000                        -38000000.0   \n",
       "       2010-10-31              692000000                         -8000000.0   \n",
       "       2011-10-31             1032000000                        -20000000.0   \n",
       "\n",
       "                    Income (Loss) from Continuing Operations  \\\n",
       "Ticker Report Date                                             \n",
       "A      2007-10-31                                  638000000   \n",
       "       2008-10-31                                  693000000   \n",
       "       2009-10-31                                  -31000000   \n",
       "       2010-10-31                                  684000000   \n",
       "       2011-10-31                                 1012000000   \n",
       "\n",
       "                    Net Extraordinary Gains (Losses)  Net Income  \\\n",
       "Ticker Report Date                                                 \n",
       "A      2007-10-31                                NaN   638000000   \n",
       "       2008-10-31                                NaN   693000000   \n",
       "       2009-10-31                                NaN   -31000000   \n",
       "       2010-10-31                                NaN   684000000   \n",
       "       2011-10-31                                NaN  1012000000   \n",
       "\n",
       "                    Net Income Available to Common Shareholders  \n",
       "Ticker Report Date                                               \n",
       "A      2007-10-31                                     638000000  \n",
       "       2008-10-31                                     693000000  \n",
       "       2009-10-31                                     -31000000  \n",
       "       2010-10-31                                     684000000  \n",
       "       2011-10-31                                    1012000000  \n",
       "\n",
       "[5 rows x 25 columns]"
      ]
     },
     "execution_count": 15,
     "metadata": {},
     "output_type": "execute_result"
    }
   ],
   "source": [
    "df2.head()"
   ]
  },
  {
   "cell_type": "markdown",
   "metadata": {},
   "source": [
    "### Lookup Ticker\n",
    "\n",
    "The DataFrame has now been indexed by both the Ticker and Report Date, so we can easily lookup the data for individual tickers e.g. MSFT for Microsoft:"
   ]
  },
  {
   "cell_type": "code",
   "execution_count": 16,
   "metadata": {},
   "outputs": [
    {
     "data": {
      "text/html": [
       "<div>\n",
       "<style scoped>\n",
       "    .dataframe tbody tr th:only-of-type {\n",
       "        vertical-align: middle;\n",
       "    }\n",
       "\n",
       "    .dataframe tbody tr th {\n",
       "        vertical-align: top;\n",
       "    }\n",
       "\n",
       "    .dataframe thead th {\n",
       "        text-align: right;\n",
       "    }\n",
       "</style>\n",
       "<table border=\"1\" class=\"dataframe\">\n",
       "  <thead>\n",
       "    <tr style=\"text-align: right;\">\n",
       "      <th></th>\n",
       "      <th>SimFinId</th>\n",
       "      <th>Currency</th>\n",
       "      <th>Fiscal Year</th>\n",
       "      <th>Fiscal Period</th>\n",
       "      <th>Publish Date</th>\n",
       "      <th>Shares (Basic)</th>\n",
       "      <th>Shares (Diluted)</th>\n",
       "      <th>Revenue</th>\n",
       "      <th>Cost of Revenue</th>\n",
       "      <th>Gross Profit</th>\n",
       "      <th>...</th>\n",
       "      <th>Non-Operating Income (Loss)</th>\n",
       "      <th>Interest Expense, net</th>\n",
       "      <th>Pretax Income (Loss), Adjusted</th>\n",
       "      <th>Abnormal Gains (Losses)</th>\n",
       "      <th>Pretax Income (Loss)</th>\n",
       "      <th>Income Tax (Expense) Benefit, net</th>\n",
       "      <th>Income (Loss) from Continuing Operations</th>\n",
       "      <th>Net Extraordinary Gains (Losses)</th>\n",
       "      <th>Net Income</th>\n",
       "      <th>Net Income Available to Common Shareholders</th>\n",
       "    </tr>\n",
       "    <tr>\n",
       "      <th>Report Date</th>\n",
       "      <th></th>\n",
       "      <th></th>\n",
       "      <th></th>\n",
       "      <th></th>\n",
       "      <th></th>\n",
       "      <th></th>\n",
       "      <th></th>\n",
       "      <th></th>\n",
       "      <th></th>\n",
       "      <th></th>\n",
       "      <th></th>\n",
       "      <th></th>\n",
       "      <th></th>\n",
       "      <th></th>\n",
       "      <th></th>\n",
       "      <th></th>\n",
       "      <th></th>\n",
       "      <th></th>\n",
       "      <th></th>\n",
       "      <th></th>\n",
       "      <th></th>\n",
       "    </tr>\n",
       "  </thead>\n",
       "  <tbody>\n",
       "    <tr>\n",
       "      <td>2008-06-30</td>\n",
       "      <td>59265</td>\n",
       "      <td>USD</td>\n",
       "      <td>2008</td>\n",
       "      <td>FY</td>\n",
       "      <td>2009-10-23</td>\n",
       "      <td>9.328000e+09</td>\n",
       "      <td>9.470000e+09</td>\n",
       "      <td>6.042000e+10</td>\n",
       "      <td>-1.159800e+10</td>\n",
       "      <td>4.882200e+10</td>\n",
       "      <td>...</td>\n",
       "      <td>1.543000e+09</td>\n",
       "      <td>NaN</td>\n",
       "      <td>2.381400e+10</td>\n",
       "      <td>0.000000e+00</td>\n",
       "      <td>23814000000</td>\n",
       "      <td>-6.133000e+09</td>\n",
       "      <td>17681000000</td>\n",
       "      <td>NaN</td>\n",
       "      <td>17681000000</td>\n",
       "      <td>17681000000</td>\n",
       "    </tr>\n",
       "    <tr>\n",
       "      <td>2009-06-30</td>\n",
       "      <td>59265</td>\n",
       "      <td>USD</td>\n",
       "      <td>2009</td>\n",
       "      <td>FY</td>\n",
       "      <td>2009-10-23</td>\n",
       "      <td>8.945000e+09</td>\n",
       "      <td>8.996000e+09</td>\n",
       "      <td>5.843700e+10</td>\n",
       "      <td>-1.215500e+10</td>\n",
       "      <td>4.628200e+10</td>\n",
       "      <td>...</td>\n",
       "      <td>-5.420000e+08</td>\n",
       "      <td>NaN</td>\n",
       "      <td>1.982100e+10</td>\n",
       "      <td>NaN</td>\n",
       "      <td>19821000000</td>\n",
       "      <td>-5.252000e+09</td>\n",
       "      <td>14569000000</td>\n",
       "      <td>NaN</td>\n",
       "      <td>14569000000</td>\n",
       "      <td>14569000000</td>\n",
       "    </tr>\n",
       "    <tr>\n",
       "      <td>2010-06-30</td>\n",
       "      <td>59265</td>\n",
       "      <td>USD</td>\n",
       "      <td>2010</td>\n",
       "      <td>FY</td>\n",
       "      <td>2010-07-30</td>\n",
       "      <td>8.813000e+09</td>\n",
       "      <td>8.927000e+09</td>\n",
       "      <td>6.248400e+10</td>\n",
       "      <td>-1.239500e+10</td>\n",
       "      <td>5.008900e+10</td>\n",
       "      <td>...</td>\n",
       "      <td>9.150000e+08</td>\n",
       "      <td>NaN</td>\n",
       "      <td>2.501300e+10</td>\n",
       "      <td>0.000000e+00</td>\n",
       "      <td>25013000000</td>\n",
       "      <td>-6.253000e+09</td>\n",
       "      <td>18760000000</td>\n",
       "      <td>NaN</td>\n",
       "      <td>18760000000</td>\n",
       "      <td>18760000000</td>\n",
       "    </tr>\n",
       "    <tr>\n",
       "      <td>2011-06-30</td>\n",
       "      <td>59265</td>\n",
       "      <td>USD</td>\n",
       "      <td>2011</td>\n",
       "      <td>FY</td>\n",
       "      <td>2011-07-28</td>\n",
       "      <td>8.490000e+09</td>\n",
       "      <td>8.593000e+09</td>\n",
       "      <td>6.994300e+10</td>\n",
       "      <td>-1.557700e+10</td>\n",
       "      <td>5.436600e+10</td>\n",
       "      <td>...</td>\n",
       "      <td>9.100000e+08</td>\n",
       "      <td>NaN</td>\n",
       "      <td>2.807100e+10</td>\n",
       "      <td>0.000000e+00</td>\n",
       "      <td>28071000000</td>\n",
       "      <td>-4.921000e+09</td>\n",
       "      <td>23150000000</td>\n",
       "      <td>NaN</td>\n",
       "      <td>23150000000</td>\n",
       "      <td>23150000000</td>\n",
       "    </tr>\n",
       "    <tr>\n",
       "      <td>2012-06-30</td>\n",
       "      <td>59265</td>\n",
       "      <td>USD</td>\n",
       "      <td>2012</td>\n",
       "      <td>FY</td>\n",
       "      <td>2012-07-26</td>\n",
       "      <td>8.396000e+09</td>\n",
       "      <td>8.506000e+09</td>\n",
       "      <td>7.372300e+10</td>\n",
       "      <td>-1.753000e+10</td>\n",
       "      <td>5.619300e+10</td>\n",
       "      <td>...</td>\n",
       "      <td>5.040000e+08</td>\n",
       "      <td>NaN</td>\n",
       "      <td>2.846000e+10</td>\n",
       "      <td>-6.193000e+09</td>\n",
       "      <td>22267000000</td>\n",
       "      <td>-5.289000e+09</td>\n",
       "      <td>16978000000</td>\n",
       "      <td>NaN</td>\n",
       "      <td>16978000000</td>\n",
       "      <td>16978000000</td>\n",
       "    </tr>\n",
       "    <tr>\n",
       "      <td>2013-06-30</td>\n",
       "      <td>59265</td>\n",
       "      <td>USD</td>\n",
       "      <td>2013</td>\n",
       "      <td>FY</td>\n",
       "      <td>2013-07-30</td>\n",
       "      <td>8.375000e+09</td>\n",
       "      <td>8.470000e+09</td>\n",
       "      <td>7.784900e+10</td>\n",
       "      <td>-2.038500e+10</td>\n",
       "      <td>5.746400e+10</td>\n",
       "      <td>...</td>\n",
       "      <td>2.880000e+08</td>\n",
       "      <td>NaN</td>\n",
       "      <td>2.705200e+10</td>\n",
       "      <td>0.000000e+00</td>\n",
       "      <td>27052000000</td>\n",
       "      <td>-5.189000e+09</td>\n",
       "      <td>21863000000</td>\n",
       "      <td>NaN</td>\n",
       "      <td>21863000000</td>\n",
       "      <td>21863000000</td>\n",
       "    </tr>\n",
       "    <tr>\n",
       "      <td>2014-06-30</td>\n",
       "      <td>59265</td>\n",
       "      <td>USD</td>\n",
       "      <td>2014</td>\n",
       "      <td>FY</td>\n",
       "      <td>2014-07-31</td>\n",
       "      <td>8.299000e+09</td>\n",
       "      <td>8.399000e+09</td>\n",
       "      <td>8.683300e+10</td>\n",
       "      <td>-2.707800e+10</td>\n",
       "      <td>5.975500e+10</td>\n",
       "      <td>...</td>\n",
       "      <td>6.100000e+07</td>\n",
       "      <td>NaN</td>\n",
       "      <td>2.794700e+10</td>\n",
       "      <td>-1.270000e+08</td>\n",
       "      <td>27820000000</td>\n",
       "      <td>-5.746000e+09</td>\n",
       "      <td>22074000000</td>\n",
       "      <td>NaN</td>\n",
       "      <td>22074000000</td>\n",
       "      <td>22074000000</td>\n",
       "    </tr>\n",
       "    <tr>\n",
       "      <td>2015-06-30</td>\n",
       "      <td>59265</td>\n",
       "      <td>USD</td>\n",
       "      <td>2015</td>\n",
       "      <td>FY</td>\n",
       "      <td>2015-07-31</td>\n",
       "      <td>8.177000e+09</td>\n",
       "      <td>8.254000e+09</td>\n",
       "      <td>9.358000e+10</td>\n",
       "      <td>-3.303800e+10</td>\n",
       "      <td>6.054200e+10</td>\n",
       "      <td>...</td>\n",
       "      <td>3.460000e+08</td>\n",
       "      <td>NaN</td>\n",
       "      <td>2.851800e+10</td>\n",
       "      <td>-1.001100e+10</td>\n",
       "      <td>18507000000</td>\n",
       "      <td>-6.314000e+09</td>\n",
       "      <td>12193000000</td>\n",
       "      <td>NaN</td>\n",
       "      <td>12193000000</td>\n",
       "      <td>12193000000</td>\n",
       "    </tr>\n",
       "    <tr>\n",
       "      <td>2016-06-30</td>\n",
       "      <td>59265</td>\n",
       "      <td>USD</td>\n",
       "      <td>2016</td>\n",
       "      <td>FY</td>\n",
       "      <td>2016-07-28</td>\n",
       "      <td>7.925000e+09</td>\n",
       "      <td>8.013000e+09</td>\n",
       "      <td>9.115400e+10</td>\n",
       "      <td>-3.278000e+10</td>\n",
       "      <td>5.837400e+10</td>\n",
       "      <td>...</td>\n",
       "      <td>-4.390000e+08</td>\n",
       "      <td>NaN</td>\n",
       "      <td>2.674900e+10</td>\n",
       "      <td>-1.110000e+09</td>\n",
       "      <td>25639000000</td>\n",
       "      <td>-5.100000e+09</td>\n",
       "      <td>20539000000</td>\n",
       "      <td>NaN</td>\n",
       "      <td>20539000000</td>\n",
       "      <td>20539000000</td>\n",
       "    </tr>\n",
       "    <tr>\n",
       "      <td>2017-06-30</td>\n",
       "      <td>59265</td>\n",
       "      <td>USD</td>\n",
       "      <td>2017</td>\n",
       "      <td>FY</td>\n",
       "      <td>2017-04-27</td>\n",
       "      <td>7.746000e+09</td>\n",
       "      <td>7.832000e+09</td>\n",
       "      <td>9.657100e+10</td>\n",
       "      <td>-3.426100e+10</td>\n",
       "      <td>6.231000e+10</td>\n",
       "      <td>...</td>\n",
       "      <td>8.760000e+08</td>\n",
       "      <td>NaN</td>\n",
       "      <td>3.020700e+10</td>\n",
       "      <td>-3.060000e+08</td>\n",
       "      <td>29901000000</td>\n",
       "      <td>-4.412000e+09</td>\n",
       "      <td>25489000000</td>\n",
       "      <td>NaN</td>\n",
       "      <td>25489000000</td>\n",
       "      <td>25489000000</td>\n",
       "    </tr>\n",
       "    <tr>\n",
       "      <td>2018-06-30</td>\n",
       "      <td>59265</td>\n",
       "      <td>USD</td>\n",
       "      <td>2018</td>\n",
       "      <td>FY</td>\n",
       "      <td>2018-08-03</td>\n",
       "      <td>7.700000e+09</td>\n",
       "      <td>7.794000e+09</td>\n",
       "      <td>1.103600e+11</td>\n",
       "      <td>-3.835300e+10</td>\n",
       "      <td>7.200700e+10</td>\n",
       "      <td>...</td>\n",
       "      <td>1.416000e+09</td>\n",
       "      <td>NaN</td>\n",
       "      <td>3.647400e+10</td>\n",
       "      <td>0.000000e+00</td>\n",
       "      <td>36474000000</td>\n",
       "      <td>-1.990300e+10</td>\n",
       "      <td>16571000000</td>\n",
       "      <td>NaN</td>\n",
       "      <td>16571000000</td>\n",
       "      <td>16571000000</td>\n",
       "    </tr>\n",
       "    <tr>\n",
       "      <td>2019-06-30</td>\n",
       "      <td>59265</td>\n",
       "      <td>USD</td>\n",
       "      <td>2019</td>\n",
       "      <td>FY</td>\n",
       "      <td>2019-08-01</td>\n",
       "      <td>7.673000e+09</td>\n",
       "      <td>7.753000e+09</td>\n",
       "      <td>1.258430e+11</td>\n",
       "      <td>-4.291000e+10</td>\n",
       "      <td>8.293300e+10</td>\n",
       "      <td>...</td>\n",
       "      <td>7.290000e+08</td>\n",
       "      <td>NaN</td>\n",
       "      <td>4.368800e+10</td>\n",
       "      <td>0.000000e+00</td>\n",
       "      <td>43688000000</td>\n",
       "      <td>-4.448000e+09</td>\n",
       "      <td>39240000000</td>\n",
       "      <td>NaN</td>\n",
       "      <td>39240000000</td>\n",
       "      <td>39240000000</td>\n",
       "    </tr>\n",
       "  </tbody>\n",
       "</table>\n",
       "<p>12 rows × 25 columns</p>\n",
       "</div>"
      ],
      "text/plain": [
       "             SimFinId Currency  Fiscal Year Fiscal Period Publish Date  \\\n",
       "Report Date                                                              \n",
       "2008-06-30      59265      USD         2008            FY   2009-10-23   \n",
       "2009-06-30      59265      USD         2009            FY   2009-10-23   \n",
       "2010-06-30      59265      USD         2010            FY   2010-07-30   \n",
       "2011-06-30      59265      USD         2011            FY   2011-07-28   \n",
       "2012-06-30      59265      USD         2012            FY   2012-07-26   \n",
       "2013-06-30      59265      USD         2013            FY   2013-07-30   \n",
       "2014-06-30      59265      USD         2014            FY   2014-07-31   \n",
       "2015-06-30      59265      USD         2015            FY   2015-07-31   \n",
       "2016-06-30      59265      USD         2016            FY   2016-07-28   \n",
       "2017-06-30      59265      USD         2017            FY   2017-04-27   \n",
       "2018-06-30      59265      USD         2018            FY   2018-08-03   \n",
       "2019-06-30      59265      USD         2019            FY   2019-08-01   \n",
       "\n",
       "             Shares (Basic)  Shares (Diluted)       Revenue  Cost of Revenue  \\\n",
       "Report Date                                                                    \n",
       "2008-06-30     9.328000e+09      9.470000e+09  6.042000e+10    -1.159800e+10   \n",
       "2009-06-30     8.945000e+09      8.996000e+09  5.843700e+10    -1.215500e+10   \n",
       "2010-06-30     8.813000e+09      8.927000e+09  6.248400e+10    -1.239500e+10   \n",
       "2011-06-30     8.490000e+09      8.593000e+09  6.994300e+10    -1.557700e+10   \n",
       "2012-06-30     8.396000e+09      8.506000e+09  7.372300e+10    -1.753000e+10   \n",
       "2013-06-30     8.375000e+09      8.470000e+09  7.784900e+10    -2.038500e+10   \n",
       "2014-06-30     8.299000e+09      8.399000e+09  8.683300e+10    -2.707800e+10   \n",
       "2015-06-30     8.177000e+09      8.254000e+09  9.358000e+10    -3.303800e+10   \n",
       "2016-06-30     7.925000e+09      8.013000e+09  9.115400e+10    -3.278000e+10   \n",
       "2017-06-30     7.746000e+09      7.832000e+09  9.657100e+10    -3.426100e+10   \n",
       "2018-06-30     7.700000e+09      7.794000e+09  1.103600e+11    -3.835300e+10   \n",
       "2019-06-30     7.673000e+09      7.753000e+09  1.258430e+11    -4.291000e+10   \n",
       "\n",
       "             Gross Profit  ...  Non-Operating Income (Loss)  \\\n",
       "Report Date                ...                                \n",
       "2008-06-30   4.882200e+10  ...                 1.543000e+09   \n",
       "2009-06-30   4.628200e+10  ...                -5.420000e+08   \n",
       "2010-06-30   5.008900e+10  ...                 9.150000e+08   \n",
       "2011-06-30   5.436600e+10  ...                 9.100000e+08   \n",
       "2012-06-30   5.619300e+10  ...                 5.040000e+08   \n",
       "2013-06-30   5.746400e+10  ...                 2.880000e+08   \n",
       "2014-06-30   5.975500e+10  ...                 6.100000e+07   \n",
       "2015-06-30   6.054200e+10  ...                 3.460000e+08   \n",
       "2016-06-30   5.837400e+10  ...                -4.390000e+08   \n",
       "2017-06-30   6.231000e+10  ...                 8.760000e+08   \n",
       "2018-06-30   7.200700e+10  ...                 1.416000e+09   \n",
       "2019-06-30   8.293300e+10  ...                 7.290000e+08   \n",
       "\n",
       "             Interest Expense, net  Pretax Income (Loss), Adjusted  \\\n",
       "Report Date                                                          \n",
       "2008-06-30                     NaN                    2.381400e+10   \n",
       "2009-06-30                     NaN                    1.982100e+10   \n",
       "2010-06-30                     NaN                    2.501300e+10   \n",
       "2011-06-30                     NaN                    2.807100e+10   \n",
       "2012-06-30                     NaN                    2.846000e+10   \n",
       "2013-06-30                     NaN                    2.705200e+10   \n",
       "2014-06-30                     NaN                    2.794700e+10   \n",
       "2015-06-30                     NaN                    2.851800e+10   \n",
       "2016-06-30                     NaN                    2.674900e+10   \n",
       "2017-06-30                     NaN                    3.020700e+10   \n",
       "2018-06-30                     NaN                    3.647400e+10   \n",
       "2019-06-30                     NaN                    4.368800e+10   \n",
       "\n",
       "             Abnormal Gains (Losses)  Pretax Income (Loss)  \\\n",
       "Report Date                                                  \n",
       "2008-06-30              0.000000e+00           23814000000   \n",
       "2009-06-30                       NaN           19821000000   \n",
       "2010-06-30              0.000000e+00           25013000000   \n",
       "2011-06-30              0.000000e+00           28071000000   \n",
       "2012-06-30             -6.193000e+09           22267000000   \n",
       "2013-06-30              0.000000e+00           27052000000   \n",
       "2014-06-30             -1.270000e+08           27820000000   \n",
       "2015-06-30             -1.001100e+10           18507000000   \n",
       "2016-06-30             -1.110000e+09           25639000000   \n",
       "2017-06-30             -3.060000e+08           29901000000   \n",
       "2018-06-30              0.000000e+00           36474000000   \n",
       "2019-06-30              0.000000e+00           43688000000   \n",
       "\n",
       "             Income Tax (Expense) Benefit, net  \\\n",
       "Report Date                                      \n",
       "2008-06-30                       -6.133000e+09   \n",
       "2009-06-30                       -5.252000e+09   \n",
       "2010-06-30                       -6.253000e+09   \n",
       "2011-06-30                       -4.921000e+09   \n",
       "2012-06-30                       -5.289000e+09   \n",
       "2013-06-30                       -5.189000e+09   \n",
       "2014-06-30                       -5.746000e+09   \n",
       "2015-06-30                       -6.314000e+09   \n",
       "2016-06-30                       -5.100000e+09   \n",
       "2017-06-30                       -4.412000e+09   \n",
       "2018-06-30                       -1.990300e+10   \n",
       "2019-06-30                       -4.448000e+09   \n",
       "\n",
       "             Income (Loss) from Continuing Operations  \\\n",
       "Report Date                                             \n",
       "2008-06-30                                17681000000   \n",
       "2009-06-30                                14569000000   \n",
       "2010-06-30                                18760000000   \n",
       "2011-06-30                                23150000000   \n",
       "2012-06-30                                16978000000   \n",
       "2013-06-30                                21863000000   \n",
       "2014-06-30                                22074000000   \n",
       "2015-06-30                                12193000000   \n",
       "2016-06-30                                20539000000   \n",
       "2017-06-30                                25489000000   \n",
       "2018-06-30                                16571000000   \n",
       "2019-06-30                                39240000000   \n",
       "\n",
       "             Net Extraordinary Gains (Losses)   Net Income  \\\n",
       "Report Date                                                  \n",
       "2008-06-30                                NaN  17681000000   \n",
       "2009-06-30                                NaN  14569000000   \n",
       "2010-06-30                                NaN  18760000000   \n",
       "2011-06-30                                NaN  23150000000   \n",
       "2012-06-30                                NaN  16978000000   \n",
       "2013-06-30                                NaN  21863000000   \n",
       "2014-06-30                                NaN  22074000000   \n",
       "2015-06-30                                NaN  12193000000   \n",
       "2016-06-30                                NaN  20539000000   \n",
       "2017-06-30                                NaN  25489000000   \n",
       "2018-06-30                                NaN  16571000000   \n",
       "2019-06-30                                NaN  39240000000   \n",
       "\n",
       "             Net Income Available to Common Shareholders  \n",
       "Report Date                                               \n",
       "2008-06-30                                   17681000000  \n",
       "2009-06-30                                   14569000000  \n",
       "2010-06-30                                   18760000000  \n",
       "2011-06-30                                   23150000000  \n",
       "2012-06-30                                   16978000000  \n",
       "2013-06-30                                   21863000000  \n",
       "2014-06-30                                   22074000000  \n",
       "2015-06-30                                   12193000000  \n",
       "2016-06-30                                   20539000000  \n",
       "2017-06-30                                   25489000000  \n",
       "2018-06-30                                   16571000000  \n",
       "2019-06-30                                   39240000000  \n",
       "\n",
       "[12 rows x 25 columns]"
      ]
     },
     "execution_count": 16,
     "metadata": {},
     "output_type": "execute_result"
    }
   ],
   "source": [
    "df2.loc['MSFT']"
   ]
  },
  {
   "cell_type": "markdown",
   "metadata": {},
   "source": [
    "From this DataFrame we can easily extract individual columns such as the Revenue:"
   ]
  },
  {
   "cell_type": "code",
   "execution_count": 17,
   "metadata": {},
   "outputs": [
    {
     "data": {
      "text/plain": [
       "Report Date\n",
       "2008-06-30    6.042000e+10\n",
       "2009-06-30    5.843700e+10\n",
       "2010-06-30    6.248400e+10\n",
       "2011-06-30    6.994300e+10\n",
       "2012-06-30    7.372300e+10\n",
       "2013-06-30    7.784900e+10\n",
       "2014-06-30    8.683300e+10\n",
       "2015-06-30    9.358000e+10\n",
       "2016-06-30    9.115400e+10\n",
       "2017-06-30    9.657100e+10\n",
       "2018-06-30    1.103600e+11\n",
       "2019-06-30    1.258430e+11\n",
       "Name: Revenue, dtype: float64"
      ]
     },
     "execution_count": 17,
     "metadata": {},
     "output_type": "execute_result"
    }
   ],
   "source": [
    "df2.loc['MSFT'][REVENUE]"
   ]
  },
  {
   "cell_type": "markdown",
   "metadata": {},
   "source": [
    "We can also plot this data:"
   ]
  },
  {
   "cell_type": "code",
   "execution_count": 18,
   "metadata": {},
   "outputs": [
    {
     "data": {
      "text/plain": [
       "<matplotlib.axes._subplots.AxesSubplot at 0x7f8d2637b9b0>"
      ]
     },
     "execution_count": 18,
     "metadata": {},
     "output_type": "execute_result"
    },
    {
     "data": {
      "image/png": "[encoded data removed]",
      "text/plain": [
       "<Figure size 432x288 with 1 Axes>"
      ]
     },
     "metadata": {},
     "output_type": "display_data"
    }
   ],
   "source": [
    "df2.loc['MSFT'][REVENUE].plot(grid=True)"
   ]
  },
  {
   "cell_type": "markdown",
   "metadata": {},
   "source": [
    "## Specialized Load Functions\n",
    "\n",
    "Some of the datasets have specialized load functions that automatically set the correct arguments for indexing and parsing dates."
   ]
  },
  {
   "cell_type": "markdown",
   "metadata": {},
   "source": [
    "### Load Income Statements\n",
    "\n",
    "The dataset for Income Statements can also be loaded with the specialized function `sf.load_income()` which takes a single argument for the dataset variant:"
   ]
  },
  {
   "cell_type": "code",
   "execution_count": 19,
   "metadata": {},
   "outputs": [
    {
     "name": "stdout",
     "output_type": "stream",
     "text": [
      "Loading \"income-annual\" from disk (0 days old).\n"
     ]
    }
   ],
   "source": [
    "df_income = sf.load_income(variant='annual')"
   ]
  },
  {
   "cell_type": "code",
   "execution_count": 20,
   "metadata": {},
   "outputs": [
    {
     "data": {
      "text/html": [
       "<div>\n",
       "<style scoped>\n",
       "    .dataframe tbody tr th:only-of-type {\n",
       "        vertical-align: middle;\n",
       "    }\n",
       "\n",
       "    .dataframe tbody tr th {\n",
       "        vertical-align: top;\n",
       "    }\n",
       "\n",
       "    .dataframe thead th {\n",
       "        text-align: right;\n",
       "    }\n",
       "</style>\n",
       "<table border=\"1\" class=\"dataframe\">\n",
       "  <thead>\n",
       "    <tr style=\"text-align: right;\">\n",
       "      <th></th>\n",
       "      <th></th>\n",
       "      <th>SimFinId</th>\n",
       "      <th>Currency</th>\n",
       "      <th>Fiscal Year</th>\n",
       "      <th>Fiscal Period</th>\n",
       "      <th>Publish Date</th>\n",
       "      <th>Shares (Basic)</th>\n",
       "      <th>Shares (Diluted)</th>\n",
       "      <th>Revenue</th>\n",
       "      <th>Cost of Revenue</th>\n",
       "      <th>Gross Profit</th>\n",
       "      <th>...</th>\n",
       "      <th>Non-Operating Income (Loss)</th>\n",
       "      <th>Interest Expense, net</th>\n",
       "      <th>Pretax Income (Loss), Adjusted</th>\n",
       "      <th>Abnormal Gains (Losses)</th>\n",
       "      <th>Pretax Income (Loss)</th>\n",
       "      <th>Income Tax (Expense) Benefit, net</th>\n",
       "      <th>Income (Loss) from Continuing Operations</th>\n",
       "      <th>Net Extraordinary Gains (Losses)</th>\n",
       "      <th>Net Income</th>\n",
       "      <th>Net Income Available to Common Shareholders</th>\n",
       "    </tr>\n",
       "    <tr>\n",
       "      <th>Ticker</th>\n",
       "      <th>Report Date</th>\n",
       "      <th></th>\n",
       "      <th></th>\n",
       "      <th></th>\n",
       "      <th></th>\n",
       "      <th></th>\n",
       "      <th></th>\n",
       "      <th></th>\n",
       "      <th></th>\n",
       "      <th></th>\n",
       "      <th></th>\n",
       "      <th></th>\n",
       "      <th></th>\n",
       "      <th></th>\n",
       "      <th></th>\n",
       "      <th></th>\n",
       "      <th></th>\n",
       "      <th></th>\n",
       "      <th></th>\n",
       "      <th></th>\n",
       "      <th></th>\n",
       "      <th></th>\n",
       "    </tr>\n",
       "  </thead>\n",
       "  <tbody>\n",
       "    <tr>\n",
       "      <td rowspan=\"5\" valign=\"top\">A</td>\n",
       "      <td>2007-10-31</td>\n",
       "      <td>45846</td>\n",
       "      <td>USD</td>\n",
       "      <td>2007</td>\n",
       "      <td>FY</td>\n",
       "      <td>2009-10-05</td>\n",
       "      <td>NaN</td>\n",
       "      <td>NaN</td>\n",
       "      <td>5.420000e+09</td>\n",
       "      <td>-2.451000e+09</td>\n",
       "      <td>2.969000e+09</td>\n",
       "      <td>...</td>\n",
       "      <td>86000000.0</td>\n",
       "      <td>81000000.0</td>\n",
       "      <td>6.700000e+08</td>\n",
       "      <td>NaN</td>\n",
       "      <td>670000000</td>\n",
       "      <td>-32000000.0</td>\n",
       "      <td>638000000</td>\n",
       "      <td>NaN</td>\n",
       "      <td>638000000</td>\n",
       "      <td>638000000</td>\n",
       "    </tr>\n",
       "    <tr>\n",
       "      <td>2008-10-31</td>\n",
       "      <td>45846</td>\n",
       "      <td>USD</td>\n",
       "      <td>2008</td>\n",
       "      <td>FY</td>\n",
       "      <td>2009-10-05</td>\n",
       "      <td>508200000.0</td>\n",
       "      <td>519400000.0</td>\n",
       "      <td>5.774000e+09</td>\n",
       "      <td>-2.578000e+09</td>\n",
       "      <td>3.196000e+09</td>\n",
       "      <td>...</td>\n",
       "      <td>20000000.0</td>\n",
       "      <td>-10000000.0</td>\n",
       "      <td>8.150000e+08</td>\n",
       "      <td>0.0</td>\n",
       "      <td>815000000</td>\n",
       "      <td>-122000000.0</td>\n",
       "      <td>693000000</td>\n",
       "      <td>NaN</td>\n",
       "      <td>693000000</td>\n",
       "      <td>693000000</td>\n",
       "    </tr>\n",
       "    <tr>\n",
       "      <td>2009-10-31</td>\n",
       "      <td>45846</td>\n",
       "      <td>USD</td>\n",
       "      <td>2009</td>\n",
       "      <td>FY</td>\n",
       "      <td>2009-12-21</td>\n",
       "      <td>484400000.0</td>\n",
       "      <td>484400000.0</td>\n",
       "      <td>4.481000e+09</td>\n",
       "      <td>-2.189000e+09</td>\n",
       "      <td>2.292000e+09</td>\n",
       "      <td>...</td>\n",
       "      <td>-40000000.0</td>\n",
       "      <td>-59000000.0</td>\n",
       "      <td>7.000000e+06</td>\n",
       "      <td>0.0</td>\n",
       "      <td>7000000</td>\n",
       "      <td>-38000000.0</td>\n",
       "      <td>-31000000</td>\n",
       "      <td>NaN</td>\n",
       "      <td>-31000000</td>\n",
       "      <td>-31000000</td>\n",
       "    </tr>\n",
       "    <tr>\n",
       "      <td>2010-10-31</td>\n",
       "      <td>45846</td>\n",
       "      <td>USD</td>\n",
       "      <td>2010</td>\n",
       "      <td>FY</td>\n",
       "      <td>2010-12-20</td>\n",
       "      <td>485800000.0</td>\n",
       "      <td>494200000.0</td>\n",
       "      <td>5.444000e+09</td>\n",
       "      <td>-2.514000e+09</td>\n",
       "      <td>2.930000e+09</td>\n",
       "      <td>...</td>\n",
       "      <td>-6000000.0</td>\n",
       "      <td>-76000000.0</td>\n",
       "      <td>5.600000e+08</td>\n",
       "      <td>132000000.0</td>\n",
       "      <td>692000000</td>\n",
       "      <td>-8000000.0</td>\n",
       "      <td>684000000</td>\n",
       "      <td>NaN</td>\n",
       "      <td>684000000</td>\n",
       "      <td>684000000</td>\n",
       "    </tr>\n",
       "    <tr>\n",
       "      <td>2011-10-31</td>\n",
       "      <td>45846</td>\n",
       "      <td>USD</td>\n",
       "      <td>2011</td>\n",
       "      <td>FY</td>\n",
       "      <td>2011-12-16</td>\n",
       "      <td>485800000.0</td>\n",
       "      <td>497000000.0</td>\n",
       "      <td>6.615000e+09</td>\n",
       "      <td>-3.086000e+09</td>\n",
       "      <td>3.529000e+09</td>\n",
       "      <td>...</td>\n",
       "      <td>-39000000.0</td>\n",
       "      <td>-72000000.0</td>\n",
       "      <td>1.032000e+09</td>\n",
       "      <td>NaN</td>\n",
       "      <td>1032000000</td>\n",
       "      <td>-20000000.0</td>\n",
       "      <td>1012000000</td>\n",
       "      <td>NaN</td>\n",
       "      <td>1012000000</td>\n",
       "      <td>1012000000</td>\n",
       "    </tr>\n",
       "  </tbody>\n",
       "</table>\n",
       "<p>5 rows × 25 columns</p>\n",
       "</div>"
      ],
      "text/plain": [
       "                    SimFinId Currency  Fiscal Year Fiscal Period Publish Date  \\\n",
       "Ticker Report Date                                                              \n",
       "A      2007-10-31      45846      USD         2007            FY   2009-10-05   \n",
       "       2008-10-31      45846      USD         2008            FY   2009-10-05   \n",
       "       2009-10-31      45846      USD         2009            FY   2009-12-21   \n",
       "       2010-10-31      45846      USD         2010            FY   2010-12-20   \n",
       "       2011-10-31      45846      USD         2011            FY   2011-12-16   \n",
       "\n",
       "                    Shares (Basic)  Shares (Diluted)       Revenue  \\\n",
       "Ticker Report Date                                                   \n",
       "A      2007-10-31              NaN               NaN  5.420000e+09   \n",
       "       2008-10-31      508200000.0       519400000.0  5.774000e+09   \n",
       "       2009-10-31      484400000.0       484400000.0  4.481000e+09   \n",
       "       2010-10-31      485800000.0       494200000.0  5.444000e+09   \n",
       "       2011-10-31      485800000.0       497000000.0  6.615000e+09   \n",
       "\n",
       "                    Cost of Revenue  Gross Profit  ...  \\\n",
       "Ticker Report Date                                 ...   \n",
       "A      2007-10-31     -2.451000e+09  2.969000e+09  ...   \n",
       "       2008-10-31     -2.578000e+09  3.196000e+09  ...   \n",
       "       2009-10-31     -2.189000e+09  2.292000e+09  ...   \n",
       "       2010-10-31     -2.514000e+09  2.930000e+09  ...   \n",
       "       2011-10-31     -3.086000e+09  3.529000e+09  ...   \n",
       "\n",
       "                    Non-Operating Income (Loss)  Interest Expense, net  \\\n",
       "Ticker Report Date                                                       \n",
       "A      2007-10-31                    86000000.0             81000000.0   \n",
       "       2008-10-31                    20000000.0            -10000000.0   \n",
       "       2009-10-31                   -40000000.0            -59000000.0   \n",
       "       2010-10-31                    -6000000.0            -76000000.0   \n",
       "       2011-10-31                   -39000000.0            -72000000.0   \n",
       "\n",
       "                    Pretax Income (Loss), Adjusted  Abnormal Gains (Losses)  \\\n",
       "Ticker Report Date                                                            \n",
       "A      2007-10-31                     6.700000e+08                      NaN   \n",
       "       2008-10-31                     8.150000e+08                      0.0   \n",
       "       2009-10-31                     7.000000e+06                      0.0   \n",
       "       2010-10-31                     5.600000e+08              132000000.0   \n",
       "       2011-10-31                     1.032000e+09                      NaN   \n",
       "\n",
       "                    Pretax Income (Loss)  Income Tax (Expense) Benefit, net  \\\n",
       "Ticker Report Date                                                            \n",
       "A      2007-10-31              670000000                        -32000000.0   \n",
       "       2008-10-31              815000000                       -122000000.0   \n",
       "       2009-10-31                7000000                        -38000000.0   \n",
       "       2010-10-31              692000000                         -8000000.0   \n",
       "       2011-10-31             1032000000                        -20000000.0   \n",
       "\n",
       "                    Income (Loss) from Continuing Operations  \\\n",
       "Ticker Report Date                                             \n",
       "A      2007-10-31                                  638000000   \n",
       "       2008-10-31                                  693000000   \n",
       "       2009-10-31                                  -31000000   \n",
       "       2010-10-31                                  684000000   \n",
       "       2011-10-31                                 1012000000   \n",
       "\n",
       "                    Net Extraordinary Gains (Losses)  Net Income  \\\n",
       "Ticker Report Date                                                 \n",
       "A      2007-10-31                                NaN   638000000   \n",
       "       2008-10-31                                NaN   693000000   \n",
       "       2009-10-31                                NaN   -31000000   \n",
       "       2010-10-31                                NaN   684000000   \n",
       "       2011-10-31                                NaN  1012000000   \n",
       "\n",
       "                    Net Income Available to Common Shareholders  \n",
       "Ticker Report Date                                               \n",
       "A      2007-10-31                                     638000000  \n",
       "       2008-10-31                                     693000000  \n",
       "       2009-10-31                                     -31000000  \n",
       "       2010-10-31                                     684000000  \n",
       "       2011-10-31                                    1012000000  \n",
       "\n",
       "[5 rows x 25 columns]"
      ]
     },
     "execution_count": 20,
     "metadata": {},
     "output_type": "execute_result"
    }
   ],
   "source": [
    "df_income.head()"
   ]
  },
  {
   "cell_type": "markdown",
   "metadata": {},
   "source": [
    "### Load Balance Sheets\n",
    "\n",
    "The dataset for Balance Sheets can also be loaded with the specialized function `sf.load_balance()` which takes a single argument for the dataset variant:"
   ]
  },
  {
   "cell_type": "code",
   "execution_count": 21,
   "metadata": {},
   "outputs": [
    {
     "name": "stdout",
     "output_type": "stream",
     "text": [
      "Loading \"balance-annual\" from disk (0 days old).\n"
     ]
    }
   ],
   "source": [
    "df_balance = sf.load_balance(variant='annual')"
   ]
  },
  {
   "cell_type": "code",
   "execution_count": 22,
   "metadata": {},
   "outputs": [
    {
     "data": {
      "text/html": [
       "<div>\n",
       "<style scoped>\n",
       "    .dataframe tbody tr th:only-of-type {\n",
       "        vertical-align: middle;\n",
       "    }\n",
       "\n",
       "    .dataframe tbody tr th {\n",
       "        vertical-align: top;\n",
       "    }\n",
       "\n",
       "    .dataframe thead th {\n",
       "        text-align: right;\n",
       "    }\n",
       "</style>\n",
       "<table border=\"1\" class=\"dataframe\">\n",
       "  <thead>\n",
       "    <tr style=\"text-align: right;\">\n",
       "      <th></th>\n",
       "      <th></th>\n",
       "      <th>SimFinId</th>\n",
       "      <th>Currency</th>\n",
       "      <th>Fiscal Year</th>\n",
       "      <th>Fiscal Period</th>\n",
       "      <th>Publish Date</th>\n",
       "      <th>Shares (Basic)</th>\n",
       "      <th>Shares (Diluted)</th>\n",
       "      <th>Cash, Cash Equivalents &amp; Short Term Investments</th>\n",
       "      <th>Accounts &amp; Notes Receivable</th>\n",
       "      <th>Inventories</th>\n",
       "      <th>...</th>\n",
       "      <th>Short Term Debt</th>\n",
       "      <th>Total Current Liabilities</th>\n",
       "      <th>Long Term Debt</th>\n",
       "      <th>Total Noncurrent Liabilities</th>\n",
       "      <th>Total Liabilities</th>\n",
       "      <th>Share Capital &amp; Additional Paid-In Capital</th>\n",
       "      <th>Treasury Stock</th>\n",
       "      <th>Retained Earnings</th>\n",
       "      <th>Total Equity</th>\n",
       "      <th>Total Liabilities &amp; Equity</th>\n",
       "    </tr>\n",
       "    <tr>\n",
       "      <th>Ticker</th>\n",
       "      <th>Report Date</th>\n",
       "      <th></th>\n",
       "      <th></th>\n",
       "      <th></th>\n",
       "      <th></th>\n",
       "      <th></th>\n",
       "      <th></th>\n",
       "      <th></th>\n",
       "      <th></th>\n",
       "      <th></th>\n",
       "      <th></th>\n",
       "      <th></th>\n",
       "      <th></th>\n",
       "      <th></th>\n",
       "      <th></th>\n",
       "      <th></th>\n",
       "      <th></th>\n",
       "      <th></th>\n",
       "      <th></th>\n",
       "      <th></th>\n",
       "      <th></th>\n",
       "      <th></th>\n",
       "    </tr>\n",
       "  </thead>\n",
       "  <tbody>\n",
       "    <tr>\n",
       "      <td rowspan=\"5\" valign=\"top\">A</td>\n",
       "      <td>2008-10-31</td>\n",
       "      <td>45846</td>\n",
       "      <td>USD</td>\n",
       "      <td>2008</td>\n",
       "      <td>Q4</td>\n",
       "      <td>2009-10-05</td>\n",
       "      <td>499800000.0</td>\n",
       "      <td>502600000.0</td>\n",
       "      <td>1.429000e+09</td>\n",
       "      <td>770000000.0</td>\n",
       "      <td>6.460000e+08</td>\n",
       "      <td>...</td>\n",
       "      <td>NaN</td>\n",
       "      <td>1.330000e+09</td>\n",
       "      <td>2.125000e+09</td>\n",
       "      <td>3.118000e+09</td>\n",
       "      <td>4.448000e+09</td>\n",
       "      <td>7.416000e+09</td>\n",
       "      <td>-7.470000e+09</td>\n",
       "      <td>2.791000e+09</td>\n",
       "      <td>2.559000e+09</td>\n",
       "      <td>7007000000</td>\n",
       "    </tr>\n",
       "    <tr>\n",
       "      <td>2009-10-31</td>\n",
       "      <td>45846</td>\n",
       "      <td>USD</td>\n",
       "      <td>2009</td>\n",
       "      <td>Q4</td>\n",
       "      <td>2009-12-21</td>\n",
       "      <td>480200000.0</td>\n",
       "      <td>480200000.0</td>\n",
       "      <td>2.493000e+09</td>\n",
       "      <td>595000000.0</td>\n",
       "      <td>5.520000e+08</td>\n",
       "      <td>...</td>\n",
       "      <td>1.000000e+06</td>\n",
       "      <td>1.123000e+09</td>\n",
       "      <td>2.904000e+09</td>\n",
       "      <td>3.975000e+09</td>\n",
       "      <td>5.098000e+09</td>\n",
       "      <td>7.558000e+09</td>\n",
       "      <td>-7.627000e+09</td>\n",
       "      <td>2.760000e+09</td>\n",
       "      <td>2.514000e+09</td>\n",
       "      <td>7612000000</td>\n",
       "    </tr>\n",
       "    <tr>\n",
       "      <td>2010-10-31</td>\n",
       "      <td>45846</td>\n",
       "      <td>USD</td>\n",
       "      <td>2010</td>\n",
       "      <td>Q4</td>\n",
       "      <td>2010-12-20</td>\n",
       "      <td>481600000.0</td>\n",
       "      <td>498400000.0</td>\n",
       "      <td>2.649000e+09</td>\n",
       "      <td>869000000.0</td>\n",
       "      <td>7.160000e+08</td>\n",
       "      <td>...</td>\n",
       "      <td>1.501000e+09</td>\n",
       "      <td>3.083000e+09</td>\n",
       "      <td>2.190000e+09</td>\n",
       "      <td>3.377000e+09</td>\n",
       "      <td>6.460000e+09</td>\n",
       "      <td>7.910000e+09</td>\n",
       "      <td>-8.038000e+09</td>\n",
       "      <td>3.444000e+09</td>\n",
       "      <td>3.236000e+09</td>\n",
       "      <td>9696000000</td>\n",
       "    </tr>\n",
       "    <tr>\n",
       "      <td>2011-10-31</td>\n",
       "      <td>45846</td>\n",
       "      <td>USD</td>\n",
       "      <td>2011</td>\n",
       "      <td>Q4</td>\n",
       "      <td>2011-12-16</td>\n",
       "      <td>484400000.0</td>\n",
       "      <td>494200000.0</td>\n",
       "      <td>3.527000e+09</td>\n",
       "      <td>860000000.0</td>\n",
       "      <td>8.980000e+08</td>\n",
       "      <td>...</td>\n",
       "      <td>2.530000e+08</td>\n",
       "      <td>1.837000e+09</td>\n",
       "      <td>1.932000e+09</td>\n",
       "      <td>2.904000e+09</td>\n",
       "      <td>4.741000e+09</td>\n",
       "      <td>8.271000e+09</td>\n",
       "      <td>-8.535000e+09</td>\n",
       "      <td>4.456000e+09</td>\n",
       "      <td>4.316000e+09</td>\n",
       "      <td>9057000000</td>\n",
       "    </tr>\n",
       "    <tr>\n",
       "      <td>2012-10-31</td>\n",
       "      <td>45846</td>\n",
       "      <td>USD</td>\n",
       "      <td>2012</td>\n",
       "      <td>Q4</td>\n",
       "      <td>2012-12-20</td>\n",
       "      <td>-69600000.0</td>\n",
       "      <td>-70600000.0</td>\n",
       "      <td>2.351000e+09</td>\n",
       "      <td>923000000.0</td>\n",
       "      <td>1.014000e+09</td>\n",
       "      <td>...</td>\n",
       "      <td>2.500000e+08</td>\n",
       "      <td>1.893000e+09</td>\n",
       "      <td>2.112000e+09</td>\n",
       "      <td>3.458000e+09</td>\n",
       "      <td>5.351000e+09</td>\n",
       "      <td>8.495000e+09</td>\n",
       "      <td>-8.707000e+09</td>\n",
       "      <td>5.505000e+09</td>\n",
       "      <td>5.185000e+09</td>\n",
       "      <td>10536000000</td>\n",
       "    </tr>\n",
       "  </tbody>\n",
       "</table>\n",
       "<p>5 rows × 27 columns</p>\n",
       "</div>"
      ],
      "text/plain": [
       "                    SimFinId Currency  Fiscal Year Fiscal Period Publish Date  \\\n",
       "Ticker Report Date                                                              \n",
       "A      2008-10-31      45846      USD         2008            Q4   2009-10-05   \n",
       "       2009-10-31      45846      USD         2009            Q4   2009-12-21   \n",
       "       2010-10-31      45846      USD         2010            Q4   2010-12-20   \n",
       "       2011-10-31      45846      USD         2011            Q4   2011-12-16   \n",
       "       2012-10-31      45846      USD         2012            Q4   2012-12-20   \n",
       "\n",
       "                    Shares (Basic)  Shares (Diluted)  \\\n",
       "Ticker Report Date                                     \n",
       "A      2008-10-31      499800000.0       502600000.0   \n",
       "       2009-10-31      480200000.0       480200000.0   \n",
       "       2010-10-31      481600000.0       498400000.0   \n",
       "       2011-10-31      484400000.0       494200000.0   \n",
       "       2012-10-31      -69600000.0       -70600000.0   \n",
       "\n",
       "                    Cash, Cash Equivalents & Short Term Investments  \\\n",
       "Ticker Report Date                                                    \n",
       "A      2008-10-31                                      1.429000e+09   \n",
       "       2009-10-31                                      2.493000e+09   \n",
       "       2010-10-31                                      2.649000e+09   \n",
       "       2011-10-31                                      3.527000e+09   \n",
       "       2012-10-31                                      2.351000e+09   \n",
       "\n",
       "                    Accounts & Notes Receivable   Inventories  ...  \\\n",
       "Ticker Report Date                                             ...   \n",
       "A      2008-10-31                   770000000.0  6.460000e+08  ...   \n",
       "       2009-10-31                   595000000.0  5.520000e+08  ...   \n",
       "       2010-10-31                   869000000.0  7.160000e+08  ...   \n",
       "       2011-10-31                   860000000.0  8.980000e+08  ...   \n",
       "       2012-10-31                   923000000.0  1.014000e+09  ...   \n",
       "\n",
       "                    Short Term Debt  Total Current Liabilities  \\\n",
       "Ticker Report Date                                               \n",
       "A      2008-10-31               NaN               1.330000e+09   \n",
       "       2009-10-31      1.000000e+06               1.123000e+09   \n",
       "       2010-10-31      1.501000e+09               3.083000e+09   \n",
       "       2011-10-31      2.530000e+08               1.837000e+09   \n",
       "       2012-10-31      2.500000e+08               1.893000e+09   \n",
       "\n",
       "                    Long Term Debt  Total Noncurrent Liabilities  \\\n",
       "Ticker Report Date                                                 \n",
       "A      2008-10-31     2.125000e+09                  3.118000e+09   \n",
       "       2009-10-31     2.904000e+09                  3.975000e+09   \n",
       "       2010-10-31     2.190000e+09                  3.377000e+09   \n",
       "       2011-10-31     1.932000e+09                  2.904000e+09   \n",
       "       2012-10-31     2.112000e+09                  3.458000e+09   \n",
       "\n",
       "                    Total Liabilities  \\\n",
       "Ticker Report Date                      \n",
       "A      2008-10-31        4.448000e+09   \n",
       "       2009-10-31        5.098000e+09   \n",
       "       2010-10-31        6.460000e+09   \n",
       "       2011-10-31        4.741000e+09   \n",
       "       2012-10-31        5.351000e+09   \n",
       "\n",
       "                    Share Capital & Additional Paid-In Capital  \\\n",
       "Ticker Report Date                                               \n",
       "A      2008-10-31                                 7.416000e+09   \n",
       "       2009-10-31                                 7.558000e+09   \n",
       "       2010-10-31                                 7.910000e+09   \n",
       "       2011-10-31                                 8.271000e+09   \n",
       "       2012-10-31                                 8.495000e+09   \n",
       "\n",
       "                    Treasury Stock  Retained Earnings  Total Equity  \\\n",
       "Ticker Report Date                                                    \n",
       "A      2008-10-31    -7.470000e+09       2.791000e+09  2.559000e+09   \n",
       "       2009-10-31    -7.627000e+09       2.760000e+09  2.514000e+09   \n",
       "       2010-10-31    -8.038000e+09       3.444000e+09  3.236000e+09   \n",
       "       2011-10-31    -8.535000e+09       4.456000e+09  4.316000e+09   \n",
       "       2012-10-31    -8.707000e+09       5.505000e+09  5.185000e+09   \n",
       "\n",
       "                    Total Liabilities & Equity  \n",
       "Ticker Report Date                              \n",
       "A      2008-10-31                   7007000000  \n",
       "       2009-10-31                   7612000000  \n",
       "       2010-10-31                   9696000000  \n",
       "       2011-10-31                   9057000000  \n",
       "       2012-10-31                  10536000000  \n",
       "\n",
       "[5 rows x 27 columns]"
      ]
     },
     "execution_count": 22,
     "metadata": {},
     "output_type": "execute_result"
    }
   ],
   "source": [
    "df_balance.head()"
   ]
  },
  {
   "cell_type": "markdown",
   "metadata": {},
   "source": [
    "### Load Cash-Flow Statements\n",
    "\n",
    "The dataset for Cash-Flow Statements can also be loaded with the specialized function `sf.load_cashflow()` which takes a single argument for the dataset variant:"
   ]
  },
  {
   "cell_type": "code",
   "execution_count": 23,
   "metadata": {},
   "outputs": [
    {
     "name": "stdout",
     "output_type": "stream",
     "text": [
      "Loading \"cashflow-annual\" from disk (0 days old).\n"
     ]
    }
   ],
   "source": [
    "df_cashflow = sf.load_cashflow(variant='annual')"
   ]
  },
  {
   "cell_type": "code",
   "execution_count": 24,
   "metadata": {
    "scrolled": true
   },
   "outputs": [
    {
     "data": {
      "text/html": [
       "<div>\n",
       "<style scoped>\n",
       "    .dataframe tbody tr th:only-of-type {\n",
       "        vertical-align: middle;\n",
       "    }\n",
       "\n",
       "    .dataframe tbody tr th {\n",
       "        vertical-align: top;\n",
       "    }\n",
       "\n",
       "    .dataframe thead th {\n",
       "        text-align: right;\n",
       "    }\n",
       "</style>\n",
       "<table border=\"1\" class=\"dataframe\">\n",
       "  <thead>\n",
       "    <tr style=\"text-align: right;\">\n",
       "      <th></th>\n",
       "      <th></th>\n",
       "      <th>SimFinId</th>\n",
       "      <th>Currency</th>\n",
       "      <th>Fiscal Year</th>\n",
       "      <th>Fiscal Period</th>\n",
       "      <th>Publish Date</th>\n",
       "      <th>Shares (Basic)</th>\n",
       "      <th>Shares (Diluted)</th>\n",
       "      <th>Net Income/Starting Line</th>\n",
       "      <th>Depreciation &amp; Amortization</th>\n",
       "      <th>Non-Cash Items</th>\n",
       "      <th>...</th>\n",
       "      <th>Cash from Operating Activities</th>\n",
       "      <th>Change in Fixed Assets &amp; Intangibles</th>\n",
       "      <th>Net Change in Long Term Investment</th>\n",
       "      <th>Net Cash From Acquisitions &amp; Divestitures</th>\n",
       "      <th>Cash from Investing Activities</th>\n",
       "      <th>Dividends Paid</th>\n",
       "      <th>Cash From (Repayment of) Debt</th>\n",
       "      <th>Cash From (Repurchase of) Equity</th>\n",
       "      <th>Cash from Financing Activities</th>\n",
       "      <th>Net Changes in Cash</th>\n",
       "    </tr>\n",
       "    <tr>\n",
       "      <th>Ticker</th>\n",
       "      <th>Report Date</th>\n",
       "      <th></th>\n",
       "      <th></th>\n",
       "      <th></th>\n",
       "      <th></th>\n",
       "      <th></th>\n",
       "      <th></th>\n",
       "      <th></th>\n",
       "      <th></th>\n",
       "      <th></th>\n",
       "      <th></th>\n",
       "      <th></th>\n",
       "      <th></th>\n",
       "      <th></th>\n",
       "      <th></th>\n",
       "      <th></th>\n",
       "      <th></th>\n",
       "      <th></th>\n",
       "      <th></th>\n",
       "      <th></th>\n",
       "      <th></th>\n",
       "      <th></th>\n",
       "    </tr>\n",
       "  </thead>\n",
       "  <tbody>\n",
       "    <tr>\n",
       "      <td rowspan=\"5\" valign=\"top\">A</td>\n",
       "      <td>2007-10-31</td>\n",
       "      <td>45846</td>\n",
       "      <td>USD</td>\n",
       "      <td>2007</td>\n",
       "      <td>FY</td>\n",
       "      <td>2009-10-05</td>\n",
       "      <td>NaN</td>\n",
       "      <td>NaN</td>\n",
       "      <td>6.380000e+08</td>\n",
       "      <td>191000000.0</td>\n",
       "      <td>20000000.0</td>\n",
       "      <td>...</td>\n",
       "      <td>969000000</td>\n",
       "      <td>-142000000.0</td>\n",
       "      <td>13000000.0</td>\n",
       "      <td>-3.300000e+08</td>\n",
       "      <td>-4.560000e+08</td>\n",
       "      <td>NaN</td>\n",
       "      <td>5.940000e+08</td>\n",
       "      <td>-1.569000e+09</td>\n",
       "      <td>-9.800000e+08</td>\n",
       "      <td>-436000000</td>\n",
       "    </tr>\n",
       "    <tr>\n",
       "      <td>2008-10-31</td>\n",
       "      <td>45846</td>\n",
       "      <td>USD</td>\n",
       "      <td>2008</td>\n",
       "      <td>FY</td>\n",
       "      <td>2009-10-05</td>\n",
       "      <td>508200000.0</td>\n",
       "      <td>519400000.0</td>\n",
       "      <td>6.930000e+08</td>\n",
       "      <td>201000000.0</td>\n",
       "      <td>41000000.0</td>\n",
       "      <td>...</td>\n",
       "      <td>756000000</td>\n",
       "      <td>-140000000.0</td>\n",
       "      <td>150000000.0</td>\n",
       "      <td>-1.720000e+08</td>\n",
       "      <td>-3.850000e+08</td>\n",
       "      <td>NaN</td>\n",
       "      <td>1.600000e+07</td>\n",
       "      <td>-7.900000e+08</td>\n",
       "      <td>-7.880000e+08</td>\n",
       "      <td>-421000000</td>\n",
       "    </tr>\n",
       "    <tr>\n",
       "      <td>2009-10-31</td>\n",
       "      <td>45846</td>\n",
       "      <td>USD</td>\n",
       "      <td>2009</td>\n",
       "      <td>FY</td>\n",
       "      <td>2009-12-21</td>\n",
       "      <td>484400000.0</td>\n",
       "      <td>484400000.0</td>\n",
       "      <td>-3.100000e+07</td>\n",
       "      <td>162000000.0</td>\n",
       "      <td>215000000.0</td>\n",
       "      <td>...</td>\n",
       "      <td>408000000</td>\n",
       "      <td>-127000000.0</td>\n",
       "      <td>94000000.0</td>\n",
       "      <td>4.300000e+07</td>\n",
       "      <td>-4.000000e+06</td>\n",
       "      <td>NaN</td>\n",
       "      <td>7.480000e+08</td>\n",
       "      <td>-8.600000e+07</td>\n",
       "      <td>6.470000e+08</td>\n",
       "      <td>1074000000</td>\n",
       "    </tr>\n",
       "    <tr>\n",
       "      <td>2010-10-31</td>\n",
       "      <td>45846</td>\n",
       "      <td>USD</td>\n",
       "      <td>2010</td>\n",
       "      <td>FY</td>\n",
       "      <td>2010-12-20</td>\n",
       "      <td>485800000.0</td>\n",
       "      <td>494200000.0</td>\n",
       "      <td>6.840000e+08</td>\n",
       "      <td>202000000.0</td>\n",
       "      <td>-116000000.0</td>\n",
       "      <td>...</td>\n",
       "      <td>718000000</td>\n",
       "      <td>-114000000.0</td>\n",
       "      <td>38000000.0</td>\n",
       "      <td>-1.108000e+09</td>\n",
       "      <td>-1.174000e+09</td>\n",
       "      <td>0.0</td>\n",
       "      <td>7.180000e+08</td>\n",
       "      <td>-1.120000e+08</td>\n",
       "      <td>6.010000e+08</td>\n",
       "      <td>170000000</td>\n",
       "    </tr>\n",
       "    <tr>\n",
       "      <td>2011-10-31</td>\n",
       "      <td>45846</td>\n",
       "      <td>USD</td>\n",
       "      <td>2011</td>\n",
       "      <td>FY</td>\n",
       "      <td>2011-12-16</td>\n",
       "      <td>485800000.0</td>\n",
       "      <td>497000000.0</td>\n",
       "      <td>1.012000e+09</td>\n",
       "      <td>253000000.0</td>\n",
       "      <td>219000000.0</td>\n",
       "      <td>...</td>\n",
       "      <td>1260000000</td>\n",
       "      <td>-170000000.0</td>\n",
       "      <td>16000000.0</td>\n",
       "      <td>-9.700000e+07</td>\n",
       "      <td>1.294000e+09</td>\n",
       "      <td>0.0</td>\n",
       "      <td>-1.500000e+09</td>\n",
       "      <td>-1.930000e+08</td>\n",
       "      <td>-1.693000e+09</td>\n",
       "      <td>878000000</td>\n",
       "    </tr>\n",
       "  </tbody>\n",
       "</table>\n",
       "<p>5 rows × 25 columns</p>\n",
       "</div>"
      ],
      "text/plain": [
       "                    SimFinId Currency  Fiscal Year Fiscal Period Publish Date  \\\n",
       "Ticker Report Date                                                              \n",
       "A      2007-10-31      45846      USD         2007            FY   2009-10-05   \n",
       "       2008-10-31      45846      USD         2008            FY   2009-10-05   \n",
       "       2009-10-31      45846      USD         2009            FY   2009-12-21   \n",
       "       2010-10-31      45846      USD         2010            FY   2010-12-20   \n",
       "       2011-10-31      45846      USD         2011            FY   2011-12-16   \n",
       "\n",
       "                    Shares (Basic)  Shares (Diluted)  \\\n",
       "Ticker Report Date                                     \n",
       "A      2007-10-31              NaN               NaN   \n",
       "       2008-10-31      508200000.0       519400000.0   \n",
       "       2009-10-31      484400000.0       484400000.0   \n",
       "       2010-10-31      485800000.0       494200000.0   \n",
       "       2011-10-31      485800000.0       497000000.0   \n",
       "\n",
       "                    Net Income/Starting Line  Depreciation & Amortization  \\\n",
       "Ticker Report Date                                                          \n",
       "A      2007-10-31               6.380000e+08                  191000000.0   \n",
       "       2008-10-31               6.930000e+08                  201000000.0   \n",
       "       2009-10-31              -3.100000e+07                  162000000.0   \n",
       "       2010-10-31               6.840000e+08                  202000000.0   \n",
       "       2011-10-31               1.012000e+09                  253000000.0   \n",
       "\n",
       "                    Non-Cash Items  ...  Cash from Operating Activities  \\\n",
       "Ticker Report Date                  ...                                   \n",
       "A      2007-10-31       20000000.0  ...                       969000000   \n",
       "       2008-10-31       41000000.0  ...                       756000000   \n",
       "       2009-10-31      215000000.0  ...                       408000000   \n",
       "       2010-10-31     -116000000.0  ...                       718000000   \n",
       "       2011-10-31      219000000.0  ...                      1260000000   \n",
       "\n",
       "                    Change in Fixed Assets & Intangibles  \\\n",
       "Ticker Report Date                                         \n",
       "A      2007-10-31                           -142000000.0   \n",
       "       2008-10-31                           -140000000.0   \n",
       "       2009-10-31                           -127000000.0   \n",
       "       2010-10-31                           -114000000.0   \n",
       "       2011-10-31                           -170000000.0   \n",
       "\n",
       "                    Net Change in Long Term Investment  \\\n",
       "Ticker Report Date                                       \n",
       "A      2007-10-31                           13000000.0   \n",
       "       2008-10-31                          150000000.0   \n",
       "       2009-10-31                           94000000.0   \n",
       "       2010-10-31                           38000000.0   \n",
       "       2011-10-31                           16000000.0   \n",
       "\n",
       "                    Net Cash From Acquisitions & Divestitures  \\\n",
       "Ticker Report Date                                              \n",
       "A      2007-10-31                               -3.300000e+08   \n",
       "       2008-10-31                               -1.720000e+08   \n",
       "       2009-10-31                                4.300000e+07   \n",
       "       2010-10-31                               -1.108000e+09   \n",
       "       2011-10-31                               -9.700000e+07   \n",
       "\n",
       "                    Cash from Investing Activities  Dividends Paid  \\\n",
       "Ticker Report Date                                                   \n",
       "A      2007-10-31                    -4.560000e+08             NaN   \n",
       "       2008-10-31                    -3.850000e+08             NaN   \n",
       "       2009-10-31                    -4.000000e+06             NaN   \n",
       "       2010-10-31                    -1.174000e+09             0.0   \n",
       "       2011-10-31                     1.294000e+09             0.0   \n",
       "\n",
       "                    Cash From (Repayment of) Debt  \\\n",
       "Ticker Report Date                                  \n",
       "A      2007-10-31                    5.940000e+08   \n",
       "       2008-10-31                    1.600000e+07   \n",
       "       2009-10-31                    7.480000e+08   \n",
       "       2010-10-31                    7.180000e+08   \n",
       "       2011-10-31                   -1.500000e+09   \n",
       "\n",
       "                    Cash From (Repurchase of) Equity  \\\n",
       "Ticker Report Date                                     \n",
       "A      2007-10-31                      -1.569000e+09   \n",
       "       2008-10-31                      -7.900000e+08   \n",
       "       2009-10-31                      -8.600000e+07   \n",
       "       2010-10-31                      -1.120000e+08   \n",
       "       2011-10-31                      -1.930000e+08   \n",
       "\n",
       "                    Cash from Financing Activities  Net Changes in Cash  \n",
       "Ticker Report Date                                                       \n",
       "A      2007-10-31                    -9.800000e+08           -436000000  \n",
       "       2008-10-31                    -7.880000e+08           -421000000  \n",
       "       2009-10-31                     6.470000e+08           1074000000  \n",
       "       2010-10-31                     6.010000e+08            170000000  \n",
       "       2011-10-31                    -1.693000e+09            878000000  \n",
       "\n",
       "[5 rows x 25 columns]"
      ]
     },
     "execution_count": 24,
     "metadata": {},
     "output_type": "execute_result"
    }
   ],
   "source": [
    "df_cashflow.head()"
   ]
  },
  {
   "cell_type": "markdown",
   "metadata": {},
   "source": [
    "### Report vs. Publish Date\n",
    "\n",
    "By default the functions `sf.load_income()`, `sf.load_balance()` and `sf.load_cashflow()` use the Report Date as an index, but it can be switched to use the Publish Date instead, by setting the index argument:"
   ]
  },
  {
   "cell_type": "code",
   "execution_count": 25,
   "metadata": {},
   "outputs": [
    {
     "name": "stdout",
     "output_type": "stream",
     "text": [
      "Loading \"income-annual\" from disk (0 days old).\n"
     ]
    }
   ],
   "source": [
    "df_income2 = sf.load_income(variant='annual', index=PUBLISH_DATE)"
   ]
  },
  {
   "cell_type": "code",
   "execution_count": 26,
   "metadata": {},
   "outputs": [
    {
     "data": {
      "text/html": [
       "<div>\n",
       "<style scoped>\n",
       "    .dataframe tbody tr th:only-of-type {\n",
       "        vertical-align: middle;\n",
       "    }\n",
       "\n",
       "    .dataframe tbody tr th {\n",
       "        vertical-align: top;\n",
       "    }\n",
       "\n",
       "    .dataframe thead th {\n",
       "        text-align: right;\n",
       "    }\n",
       "</style>\n",
       "<table border=\"1\" class=\"dataframe\">\n",
       "  <thead>\n",
       "    <tr style=\"text-align: right;\">\n",
       "      <th></th>\n",
       "      <th></th>\n",
       "      <th>SimFinId</th>\n",
       "      <th>Currency</th>\n",
       "      <th>Fiscal Year</th>\n",
       "      <th>Fiscal Period</th>\n",
       "      <th>Report Date</th>\n",
       "      <th>Shares (Basic)</th>\n",
       "      <th>Shares (Diluted)</th>\n",
       "      <th>Revenue</th>\n",
       "      <th>Cost of Revenue</th>\n",
       "      <th>Gross Profit</th>\n",
       "      <th>...</th>\n",
       "      <th>Non-Operating Income (Loss)</th>\n",
       "      <th>Interest Expense, net</th>\n",
       "      <th>Pretax Income (Loss), Adjusted</th>\n",
       "      <th>Abnormal Gains (Losses)</th>\n",
       "      <th>Pretax Income (Loss)</th>\n",
       "      <th>Income Tax (Expense) Benefit, net</th>\n",
       "      <th>Income (Loss) from Continuing Operations</th>\n",
       "      <th>Net Extraordinary Gains (Losses)</th>\n",
       "      <th>Net Income</th>\n",
       "      <th>Net Income Available to Common Shareholders</th>\n",
       "    </tr>\n",
       "    <tr>\n",
       "      <th>Ticker</th>\n",
       "      <th>Publish Date</th>\n",
       "      <th></th>\n",
       "      <th></th>\n",
       "      <th></th>\n",
       "      <th></th>\n",
       "      <th></th>\n",
       "      <th></th>\n",
       "      <th></th>\n",
       "      <th></th>\n",
       "      <th></th>\n",
       "      <th></th>\n",
       "      <th></th>\n",
       "      <th></th>\n",
       "      <th></th>\n",
       "      <th></th>\n",
       "      <th></th>\n",
       "      <th></th>\n",
       "      <th></th>\n",
       "      <th></th>\n",
       "      <th></th>\n",
       "      <th></th>\n",
       "      <th></th>\n",
       "    </tr>\n",
       "  </thead>\n",
       "  <tbody>\n",
       "    <tr>\n",
       "      <td rowspan=\"5\" valign=\"top\">A</td>\n",
       "      <td>2009-10-05</td>\n",
       "      <td>45846</td>\n",
       "      <td>USD</td>\n",
       "      <td>2007</td>\n",
       "      <td>FY</td>\n",
       "      <td>2007-10-31</td>\n",
       "      <td>NaN</td>\n",
       "      <td>NaN</td>\n",
       "      <td>5.420000e+09</td>\n",
       "      <td>-2.451000e+09</td>\n",
       "      <td>2.969000e+09</td>\n",
       "      <td>...</td>\n",
       "      <td>86000000.0</td>\n",
       "      <td>81000000.0</td>\n",
       "      <td>6.700000e+08</td>\n",
       "      <td>NaN</td>\n",
       "      <td>670000000</td>\n",
       "      <td>-32000000.0</td>\n",
       "      <td>638000000</td>\n",
       "      <td>NaN</td>\n",
       "      <td>638000000</td>\n",
       "      <td>638000000</td>\n",
       "    </tr>\n",
       "    <tr>\n",
       "      <td>2009-10-05</td>\n",
       "      <td>45846</td>\n",
       "      <td>USD</td>\n",
       "      <td>2008</td>\n",
       "      <td>FY</td>\n",
       "      <td>2008-10-31</td>\n",
       "      <td>508200000.0</td>\n",
       "      <td>519400000.0</td>\n",
       "      <td>5.774000e+09</td>\n",
       "      <td>-2.578000e+09</td>\n",
       "      <td>3.196000e+09</td>\n",
       "      <td>...</td>\n",
       "      <td>20000000.0</td>\n",
       "      <td>-10000000.0</td>\n",
       "      <td>8.150000e+08</td>\n",
       "      <td>0.0</td>\n",
       "      <td>815000000</td>\n",
       "      <td>-122000000.0</td>\n",
       "      <td>693000000</td>\n",
       "      <td>NaN</td>\n",
       "      <td>693000000</td>\n",
       "      <td>693000000</td>\n",
       "    </tr>\n",
       "    <tr>\n",
       "      <td>2009-12-21</td>\n",
       "      <td>45846</td>\n",
       "      <td>USD</td>\n",
       "      <td>2009</td>\n",
       "      <td>FY</td>\n",
       "      <td>2009-10-31</td>\n",
       "      <td>484400000.0</td>\n",
       "      <td>484400000.0</td>\n",
       "      <td>4.481000e+09</td>\n",
       "      <td>-2.189000e+09</td>\n",
       "      <td>2.292000e+09</td>\n",
       "      <td>...</td>\n",
       "      <td>-40000000.0</td>\n",
       "      <td>-59000000.0</td>\n",
       "      <td>7.000000e+06</td>\n",
       "      <td>0.0</td>\n",
       "      <td>7000000</td>\n",
       "      <td>-38000000.0</td>\n",
       "      <td>-31000000</td>\n",
       "      <td>NaN</td>\n",
       "      <td>-31000000</td>\n",
       "      <td>-31000000</td>\n",
       "    </tr>\n",
       "    <tr>\n",
       "      <td>2010-12-20</td>\n",
       "      <td>45846</td>\n",
       "      <td>USD</td>\n",
       "      <td>2010</td>\n",
       "      <td>FY</td>\n",
       "      <td>2010-10-31</td>\n",
       "      <td>485800000.0</td>\n",
       "      <td>494200000.0</td>\n",
       "      <td>5.444000e+09</td>\n",
       "      <td>-2.514000e+09</td>\n",
       "      <td>2.930000e+09</td>\n",
       "      <td>...</td>\n",
       "      <td>-6000000.0</td>\n",
       "      <td>-76000000.0</td>\n",
       "      <td>5.600000e+08</td>\n",
       "      <td>132000000.0</td>\n",
       "      <td>692000000</td>\n",
       "      <td>-8000000.0</td>\n",
       "      <td>684000000</td>\n",
       "      <td>NaN</td>\n",
       "      <td>684000000</td>\n",
       "      <td>684000000</td>\n",
       "    </tr>\n",
       "    <tr>\n",
       "      <td>2011-12-16</td>\n",
       "      <td>45846</td>\n",
       "      <td>USD</td>\n",
       "      <td>2011</td>\n",
       "      <td>FY</td>\n",
       "      <td>2011-10-31</td>\n",
       "      <td>485800000.0</td>\n",
       "      <td>497000000.0</td>\n",
       "      <td>6.615000e+09</td>\n",
       "      <td>-3.086000e+09</td>\n",
       "      <td>3.529000e+09</td>\n",
       "      <td>...</td>\n",
       "      <td>-39000000.0</td>\n",
       "      <td>-72000000.0</td>\n",
       "      <td>1.032000e+09</td>\n",
       "      <td>NaN</td>\n",
       "      <td>1032000000</td>\n",
       "      <td>-20000000.0</td>\n",
       "      <td>1012000000</td>\n",
       "      <td>NaN</td>\n",
       "      <td>1012000000</td>\n",
       "      <td>1012000000</td>\n",
       "    </tr>\n",
       "  </tbody>\n",
       "</table>\n",
       "<p>5 rows × 25 columns</p>\n",
       "</div>"
      ],
      "text/plain": [
       "                     SimFinId Currency  Fiscal Year Fiscal Period Report Date  \\\n",
       "Ticker Publish Date                                                             \n",
       "A      2009-10-05       45846      USD         2007            FY  2007-10-31   \n",
       "       2009-10-05       45846      USD         2008            FY  2008-10-31   \n",
       "       2009-12-21       45846      USD         2009            FY  2009-10-31   \n",
       "       2010-12-20       45846      USD         2010            FY  2010-10-31   \n",
       "       2011-12-16       45846      USD         2011            FY  2011-10-31   \n",
       "\n",
       "                     Shares (Basic)  Shares (Diluted)       Revenue  \\\n",
       "Ticker Publish Date                                                   \n",
       "A      2009-10-05               NaN               NaN  5.420000e+09   \n",
       "       2009-10-05       508200000.0       519400000.0  5.774000e+09   \n",
       "       2009-12-21       484400000.0       484400000.0  4.481000e+09   \n",
       "       2010-12-20       485800000.0       494200000.0  5.444000e+09   \n",
       "       2011-12-16       485800000.0       497000000.0  6.615000e+09   \n",
       "\n",
       "                     Cost of Revenue  Gross Profit  ...  \\\n",
       "Ticker Publish Date                                 ...   \n",
       "A      2009-10-05      -2.451000e+09  2.969000e+09  ...   \n",
       "       2009-10-05      -2.578000e+09  3.196000e+09  ...   \n",
       "       2009-12-21      -2.189000e+09  2.292000e+09  ...   \n",
       "       2010-12-20      -2.514000e+09  2.930000e+09  ...   \n",
       "       2011-12-16      -3.086000e+09  3.529000e+09  ...   \n",
       "\n",
       "                     Non-Operating Income (Loss)  Interest Expense, net  \\\n",
       "Ticker Publish Date                                                       \n",
       "A      2009-10-05                     86000000.0             81000000.0   \n",
       "       2009-10-05                     20000000.0            -10000000.0   \n",
       "       2009-12-21                    -40000000.0            -59000000.0   \n",
       "       2010-12-20                     -6000000.0            -76000000.0   \n",
       "       2011-12-16                    -39000000.0            -72000000.0   \n",
       "\n",
       "                     Pretax Income (Loss), Adjusted  Abnormal Gains (Losses)  \\\n",
       "Ticker Publish Date                                                            \n",
       "A      2009-10-05                      6.700000e+08                      NaN   \n",
       "       2009-10-05                      8.150000e+08                      0.0   \n",
       "       2009-12-21                      7.000000e+06                      0.0   \n",
       "       2010-12-20                      5.600000e+08              132000000.0   \n",
       "       2011-12-16                      1.032000e+09                      NaN   \n",
       "\n",
       "                     Pretax Income (Loss)  Income Tax (Expense) Benefit, net  \\\n",
       "Ticker Publish Date                                                            \n",
       "A      2009-10-05               670000000                        -32000000.0   \n",
       "       2009-10-05               815000000                       -122000000.0   \n",
       "       2009-12-21                 7000000                        -38000000.0   \n",
       "       2010-12-20               692000000                         -8000000.0   \n",
       "       2011-12-16              1032000000                        -20000000.0   \n",
       "\n",
       "                     Income (Loss) from Continuing Operations  \\\n",
       "Ticker Publish Date                                             \n",
       "A      2009-10-05                                   638000000   \n",
       "       2009-10-05                                   693000000   \n",
       "       2009-12-21                                   -31000000   \n",
       "       2010-12-20                                   684000000   \n",
       "       2011-12-16                                  1012000000   \n",
       "\n",
       "                     Net Extraordinary Gains (Losses)  Net Income  \\\n",
       "Ticker Publish Date                                                 \n",
       "A      2009-10-05                                 NaN   638000000   \n",
       "       2009-10-05                                 NaN   693000000   \n",
       "       2009-12-21                                 NaN   -31000000   \n",
       "       2010-12-20                                 NaN   684000000   \n",
       "       2011-12-16                                 NaN  1012000000   \n",
       "\n",
       "                     Net Income Available to Common Shareholders  \n",
       "Ticker Publish Date                                               \n",
       "A      2009-10-05                                      638000000  \n",
       "       2009-10-05                                      693000000  \n",
       "       2009-12-21                                      -31000000  \n",
       "       2010-12-20                                      684000000  \n",
       "       2011-12-16                                     1012000000  \n",
       "\n",
       "[5 rows x 25 columns]"
      ]
     },
     "execution_count": 26,
     "metadata": {},
     "output_type": "execute_result"
    }
   ],
   "source": [
    "df_income2.head()"
   ]
  },
  {
   "cell_type": "markdown",
   "metadata": {},
   "source": [
    "The difference is as follows:\n",
    "\n",
    "- Report Date is the date of the financial report, but this is not the date when the report was published. For example, an annual report with a Report Date of 2018-12-31 means that the period of the financial report is the 12 months ending on that date.\n",
    "\n",
    "- Publish Date is the date the financial report was actually made public. For example, the financial report for the 12 months ending on 2018-12-31 was first made public a few months later on 2019-02-05.\n",
    "\n",
    "Caveat: Sometimes financial reports are restated one or more times - sometimes even years later. The standard datasets always use the newest available data. In the future, SimFin may also provide datasets that contain all the original and restated reports."
   ]
  },
  {
   "cell_type": "markdown",
   "metadata": {},
   "source": [
    "### Trailing Twelve Months (TTM)\n",
    "\n",
    "The dataset variant 'ttm' stands for Trailing Twelve Months. This dataset is calculated from the quarterly and annual reports, so as to create 4 data-points per year (once for each quarter), but covering the preceding 12 months instead of only 4 months in a normal quarter. This is useful for getting more data-points during a year. For example, we can use the TTM Income Statements when calculating P/E or P/Sales ratios (see further below)."
   ]
  },
  {
   "cell_type": "code",
   "execution_count": 27,
   "metadata": {
    "scrolled": true
   },
   "outputs": [
    {
     "name": "stdout",
     "output_type": "stream",
     "text": [
      "Loading \"income-ttm\" from disk (0 days old).\n"
     ]
    }
   ],
   "source": [
    "df_income_ttm = sf.load_income(variant='ttm')"
   ]
  },
  {
   "cell_type": "code",
   "execution_count": 28,
   "metadata": {},
   "outputs": [
    {
     "data": {
      "text/html": [
       "<div>\n",
       "<style scoped>\n",
       "    .dataframe tbody tr th:only-of-type {\n",
       "        vertical-align: middle;\n",
       "    }\n",
       "\n",
       "    .dataframe tbody tr th {\n",
       "        vertical-align: top;\n",
       "    }\n",
       "\n",
       "    .dataframe thead th {\n",
       "        text-align: right;\n",
       "    }\n",
       "</style>\n",
       "<table border=\"1\" class=\"dataframe\">\n",
       "  <thead>\n",
       "    <tr style=\"text-align: right;\">\n",
       "      <th></th>\n",
       "      <th></th>\n",
       "      <th>SimFinId</th>\n",
       "      <th>Currency</th>\n",
       "      <th>Fiscal Year</th>\n",
       "      <th>Fiscal Period</th>\n",
       "      <th>Publish Date</th>\n",
       "      <th>Shares (Basic)</th>\n",
       "      <th>Shares (Diluted)</th>\n",
       "      <th>Revenue</th>\n",
       "      <th>Cost of Revenue</th>\n",
       "      <th>Gross Profit</th>\n",
       "      <th>...</th>\n",
       "      <th>Non-Operating Income (Loss)</th>\n",
       "      <th>Interest Expense, net</th>\n",
       "      <th>Pretax Income (Loss), Adjusted</th>\n",
       "      <th>Abnormal Gains (Losses)</th>\n",
       "      <th>Pretax Income (Loss)</th>\n",
       "      <th>Income Tax (Expense) Benefit, net</th>\n",
       "      <th>Income (Loss) from Continuing Operations</th>\n",
       "      <th>Net Extraordinary Gains (Losses)</th>\n",
       "      <th>Net Income</th>\n",
       "      <th>Net Income Available to Common Shareholders</th>\n",
       "    </tr>\n",
       "    <tr>\n",
       "      <th>Ticker</th>\n",
       "      <th>Report Date</th>\n",
       "      <th></th>\n",
       "      <th></th>\n",
       "      <th></th>\n",
       "      <th></th>\n",
       "      <th></th>\n",
       "      <th></th>\n",
       "      <th></th>\n",
       "      <th></th>\n",
       "      <th></th>\n",
       "      <th></th>\n",
       "      <th></th>\n",
       "      <th></th>\n",
       "      <th></th>\n",
       "      <th></th>\n",
       "      <th></th>\n",
       "      <th></th>\n",
       "      <th></th>\n",
       "      <th></th>\n",
       "      <th></th>\n",
       "      <th></th>\n",
       "      <th></th>\n",
       "    </tr>\n",
       "  </thead>\n",
       "  <tbody>\n",
       "    <tr>\n",
       "      <td rowspan=\"5\" valign=\"top\">A</td>\n",
       "      <td>2009-04-30</td>\n",
       "      <td>45846</td>\n",
       "      <td>USD</td>\n",
       "      <td>2009</td>\n",
       "      <td>Q2</td>\n",
       "      <td>2010-03-10</td>\n",
       "      <td>NaN</td>\n",
       "      <td>NaN</td>\n",
       "      <td>5.182000e+09</td>\n",
       "      <td>-2.430000e+09</td>\n",
       "      <td>2.752000e+09</td>\n",
       "      <td>...</td>\n",
       "      <td>-6000000.0</td>\n",
       "      <td>-43000000.0</td>\n",
       "      <td>441000000.0</td>\n",
       "      <td>NaN</td>\n",
       "      <td>441000000</td>\n",
       "      <td>-78000000.0</td>\n",
       "      <td>363000000</td>\n",
       "      <td>NaN</td>\n",
       "      <td>363000000</td>\n",
       "      <td>363000000</td>\n",
       "    </tr>\n",
       "    <tr>\n",
       "      <td>2009-07-31</td>\n",
       "      <td>45846</td>\n",
       "      <td>USD</td>\n",
       "      <td>2009</td>\n",
       "      <td>Q3</td>\n",
       "      <td>2009-10-05</td>\n",
       "      <td>NaN</td>\n",
       "      <td>NaN</td>\n",
       "      <td>4.795000e+09</td>\n",
       "      <td>-2.307000e+09</td>\n",
       "      <td>2.488000e+09</td>\n",
       "      <td>...</td>\n",
       "      <td>-43000000.0</td>\n",
       "      <td>-51000000.0</td>\n",
       "      <td>185000000.0</td>\n",
       "      <td>NaN</td>\n",
       "      <td>185000000</td>\n",
       "      <td>-10000000.0</td>\n",
       "      <td>175000000</td>\n",
       "      <td>NaN</td>\n",
       "      <td>175000000</td>\n",
       "      <td>175000000</td>\n",
       "    </tr>\n",
       "    <tr>\n",
       "      <td>2009-10-31</td>\n",
       "      <td>45846</td>\n",
       "      <td>USD</td>\n",
       "      <td>2009</td>\n",
       "      <td>Q4</td>\n",
       "      <td>2009-12-21</td>\n",
       "      <td>NaN</td>\n",
       "      <td>NaN</td>\n",
       "      <td>4.481000e+09</td>\n",
       "      <td>-2.189000e+09</td>\n",
       "      <td>2.292000e+09</td>\n",
       "      <td>...</td>\n",
       "      <td>-40000000.0</td>\n",
       "      <td>-59000000.0</td>\n",
       "      <td>7000000.0</td>\n",
       "      <td>NaN</td>\n",
       "      <td>7000000</td>\n",
       "      <td>-38000000.0</td>\n",
       "      <td>-31000000</td>\n",
       "      <td>NaN</td>\n",
       "      <td>-31000000</td>\n",
       "      <td>-31000000</td>\n",
       "    </tr>\n",
       "    <tr>\n",
       "      <td>2010-01-31</td>\n",
       "      <td>45846</td>\n",
       "      <td>USD</td>\n",
       "      <td>2010</td>\n",
       "      <td>Q1</td>\n",
       "      <td>2010-03-10</td>\n",
       "      <td>NaN</td>\n",
       "      <td>NaN</td>\n",
       "      <td>4.528000e+09</td>\n",
       "      <td>-2.165000e+09</td>\n",
       "      <td>2.363000e+09</td>\n",
       "      <td>...</td>\n",
       "      <td>-54000000.0</td>\n",
       "      <td>-70000000.0</td>\n",
       "      <td>63000000.0</td>\n",
       "      <td>NaN</td>\n",
       "      <td>63000000</td>\n",
       "      <td>-79000000.0</td>\n",
       "      <td>-16000000</td>\n",
       "      <td>NaN</td>\n",
       "      <td>-16000000</td>\n",
       "      <td>-16000000</td>\n",
       "    </tr>\n",
       "    <tr>\n",
       "      <td>2010-04-30</td>\n",
       "      <td>45846</td>\n",
       "      <td>USD</td>\n",
       "      <td>2010</td>\n",
       "      <td>Q2</td>\n",
       "      <td>2011-06-07</td>\n",
       "      <td>484400000.0</td>\n",
       "      <td>488600000.0</td>\n",
       "      <td>4.708000e+09</td>\n",
       "      <td>-2.164000e+09</td>\n",
       "      <td>2.544000e+09</td>\n",
       "      <td>...</td>\n",
       "      <td>-58000000.0</td>\n",
       "      <td>-72000000.0</td>\n",
       "      <td>260000000.0</td>\n",
       "      <td>NaN</td>\n",
       "      <td>260000000</td>\n",
       "      <td>-67000000.0</td>\n",
       "      <td>193000000</td>\n",
       "      <td>NaN</td>\n",
       "      <td>193000000</td>\n",
       "      <td>193000000</td>\n",
       "    </tr>\n",
       "  </tbody>\n",
       "</table>\n",
       "<p>5 rows × 25 columns</p>\n",
       "</div>"
      ],
      "text/plain": [
       "                    SimFinId Currency  Fiscal Year Fiscal Period Publish Date  \\\n",
       "Ticker Report Date                                                              \n",
       "A      2009-04-30      45846      USD         2009            Q2   2010-03-10   \n",
       "       2009-07-31      45846      USD         2009            Q3   2009-10-05   \n",
       "       2009-10-31      45846      USD         2009            Q4   2009-12-21   \n",
       "       2010-01-31      45846      USD         2010            Q1   2010-03-10   \n",
       "       2010-04-30      45846      USD         2010            Q2   2011-06-07   \n",
       "\n",
       "                    Shares (Basic)  Shares (Diluted)       Revenue  \\\n",
       "Ticker Report Date                                                   \n",
       "A      2009-04-30              NaN               NaN  5.182000e+09   \n",
       "       2009-07-31              NaN               NaN  4.795000e+09   \n",
       "       2009-10-31              NaN               NaN  4.481000e+09   \n",
       "       2010-01-31              NaN               NaN  4.528000e+09   \n",
       "       2010-04-30      484400000.0       488600000.0  4.708000e+09   \n",
       "\n",
       "                    Cost of Revenue  Gross Profit  ...  \\\n",
       "Ticker Report Date                                 ...   \n",
       "A      2009-04-30     -2.430000e+09  2.752000e+09  ...   \n",
       "       2009-07-31     -2.307000e+09  2.488000e+09  ...   \n",
       "       2009-10-31     -2.189000e+09  2.292000e+09  ...   \n",
       "       2010-01-31     -2.165000e+09  2.363000e+09  ...   \n",
       "       2010-04-30     -2.164000e+09  2.544000e+09  ...   \n",
       "\n",
       "                    Non-Operating Income (Loss)  Interest Expense, net  \\\n",
       "Ticker Report Date                                                       \n",
       "A      2009-04-30                    -6000000.0            -43000000.0   \n",
       "       2009-07-31                   -43000000.0            -51000000.0   \n",
       "       2009-10-31                   -40000000.0            -59000000.0   \n",
       "       2010-01-31                   -54000000.0            -70000000.0   \n",
       "       2010-04-30                   -58000000.0            -72000000.0   \n",
       "\n",
       "                    Pretax Income (Loss), Adjusted  Abnormal Gains (Losses)  \\\n",
       "Ticker Report Date                                                            \n",
       "A      2009-04-30                      441000000.0                      NaN   \n",
       "       2009-07-31                      185000000.0                      NaN   \n",
       "       2009-10-31                        7000000.0                      NaN   \n",
       "       2010-01-31                       63000000.0                      NaN   \n",
       "       2010-04-30                      260000000.0                      NaN   \n",
       "\n",
       "                    Pretax Income (Loss)  Income Tax (Expense) Benefit, net  \\\n",
       "Ticker Report Date                                                            \n",
       "A      2009-04-30              441000000                        -78000000.0   \n",
       "       2009-07-31              185000000                        -10000000.0   \n",
       "       2009-10-31                7000000                        -38000000.0   \n",
       "       2010-01-31               63000000                        -79000000.0   \n",
       "       2010-04-30              260000000                        -67000000.0   \n",
       "\n",
       "                    Income (Loss) from Continuing Operations  \\\n",
       "Ticker Report Date                                             \n",
       "A      2009-04-30                                  363000000   \n",
       "       2009-07-31                                  175000000   \n",
       "       2009-10-31                                  -31000000   \n",
       "       2010-01-31                                  -16000000   \n",
       "       2010-04-30                                  193000000   \n",
       "\n",
       "                    Net Extraordinary Gains (Losses)  Net Income  \\\n",
       "Ticker Report Date                                                 \n",
       "A      2009-04-30                                NaN   363000000   \n",
       "       2009-07-31                                NaN   175000000   \n",
       "       2009-10-31                                NaN   -31000000   \n",
       "       2010-01-31                                NaN   -16000000   \n",
       "       2010-04-30                                NaN   193000000   \n",
       "\n",
       "                    Net Income Available to Common Shareholders  \n",
       "Ticker Report Date                                               \n",
       "A      2009-04-30                                     363000000  \n",
       "       2009-07-31                                     175000000  \n",
       "       2009-10-31                                     -31000000  \n",
       "       2010-01-31                                     -16000000  \n",
       "       2010-04-30                                     193000000  \n",
       "\n",
       "[5 rows x 25 columns]"
      ]
     },
     "execution_count": 28,
     "metadata": {},
     "output_type": "execute_result"
    }
   ],
   "source": [
    "df_income_ttm.head()"
   ]
  },
  {
   "cell_type": "markdown",
   "metadata": {},
   "source": [
    "### Load Share-Prices\n",
    "\n",
    "The dataset for Share-Prices can also be loaded with the specialized function `sf.load_shareprices()` which takes a single argument for the dataset variant, which currently only supports 'daily' share-prices. The zip-file being downloaded is nearly 100 MB and the extracted CSV-file is nearly 400 MB. Both these file-sizes may grow significantly in the future, as more stocks are added to the database. But it should still be reasonably fast to download and load this dataset from a modern harddisk."
   ]
  },
  {
   "cell_type": "code",
   "execution_count": 29,
   "metadata": {},
   "outputs": [
    {
     "name": "stdout",
     "output_type": "stream",
     "text": [
      "Loading \"shareprices-daily\" from disk (3 days old).\n",
      "CPU times: user 11.7 s, sys: 1.23 s, total: 12.9 s\n",
      "Wall time: 11.5 s\n"
     ]
    }
   ],
   "source": [
    "%%time\n",
    "df_prices = sf.load_shareprices(variant='daily')"
   ]
  },
  {
   "cell_type": "code",
   "execution_count": 30,
   "metadata": {},
   "outputs": [
    {
     "data": {
      "text/html": [
       "<div>\n",
       "<style scoped>\n",
       "    .dataframe tbody tr th:only-of-type {\n",
       "        vertical-align: middle;\n",
       "    }\n",
       "\n",
       "    .dataframe tbody tr th {\n",
       "        vertical-align: top;\n",
       "    }\n",
       "\n",
       "    .dataframe thead th {\n",
       "        text-align: right;\n",
       "    }\n",
       "</style>\n",
       "<table border=\"1\" class=\"dataframe\">\n",
       "  <thead>\n",
       "    <tr style=\"text-align: right;\">\n",
       "      <th></th>\n",
       "      <th></th>\n",
       "      <th>SimFinId</th>\n",
       "      <th>Open</th>\n",
       "      <th>Low</th>\n",
       "      <th>High</th>\n",
       "      <th>Close</th>\n",
       "      <th>Adj. Close</th>\n",
       "      <th>Dividend</th>\n",
       "      <th>Volume</th>\n",
       "    </tr>\n",
       "    <tr>\n",
       "      <th>Ticker</th>\n",
       "      <th>Date</th>\n",
       "      <th></th>\n",
       "      <th></th>\n",
       "      <th></th>\n",
       "      <th></th>\n",
       "      <th></th>\n",
       "      <th></th>\n",
       "      <th></th>\n",
       "      <th></th>\n",
       "    </tr>\n",
       "  </thead>\n",
       "  <tbody>\n",
       "    <tr>\n",
       "      <td rowspan=\"5\" valign=\"top\">A</td>\n",
       "      <td>2007-01-03</td>\n",
       "      <td>45846</td>\n",
       "      <td>25.0286</td>\n",
       "      <td>24.3562</td>\n",
       "      <td>25.3791</td>\n",
       "      <td>24.5351</td>\n",
       "      <td>22.79</td>\n",
       "      <td>NaN</td>\n",
       "      <td>3599200</td>\n",
       "    </tr>\n",
       "    <tr>\n",
       "      <td>2007-01-04</td>\n",
       "      <td>45846</td>\n",
       "      <td>24.5351</td>\n",
       "      <td>23.9342</td>\n",
       "      <td>24.7496</td>\n",
       "      <td>24.6137</td>\n",
       "      <td>22.87</td>\n",
       "      <td>NaN</td>\n",
       "      <td>2899000</td>\n",
       "    </tr>\n",
       "    <tr>\n",
       "      <td>2007-01-05</td>\n",
       "      <td>45846</td>\n",
       "      <td>24.5351</td>\n",
       "      <td>24.3210</td>\n",
       "      <td>24.6066</td>\n",
       "      <td>24.3848</td>\n",
       "      <td>22.65</td>\n",
       "      <td>NaN</td>\n",
       "      <td>3741800</td>\n",
       "    </tr>\n",
       "    <tr>\n",
       "      <td>2007-01-08</td>\n",
       "      <td>45846</td>\n",
       "      <td>24.3062</td>\n",
       "      <td>24.0916</td>\n",
       "      <td>24.3777</td>\n",
       "      <td>24.2990</td>\n",
       "      <td>22.57</td>\n",
       "      <td>NaN</td>\n",
       "      <td>2176900</td>\n",
       "    </tr>\n",
       "    <tr>\n",
       "      <td>2007-01-09</td>\n",
       "      <td>45846</td>\n",
       "      <td>24.3777</td>\n",
       "      <td>24.0558</td>\n",
       "      <td>24.5494</td>\n",
       "      <td>24.3276</td>\n",
       "      <td>22.60</td>\n",
       "      <td>NaN</td>\n",
       "      <td>1937900</td>\n",
       "    </tr>\n",
       "  </tbody>\n",
       "</table>\n",
       "</div>"
      ],
      "text/plain": [
       "                   SimFinId     Open      Low     High    Close  Adj. Close  \\\n",
       "Ticker Date                                                                   \n",
       "A      2007-01-03     45846  25.0286  24.3562  25.3791  24.5351       22.79   \n",
       "       2007-01-04     45846  24.5351  23.9342  24.7496  24.6137       22.87   \n",
       "       2007-01-05     45846  24.5351  24.3210  24.6066  24.3848       22.65   \n",
       "       2007-01-08     45846  24.3062  24.0916  24.3777  24.2990       22.57   \n",
       "       2007-01-09     45846  24.3777  24.0558  24.5494  24.3276       22.60   \n",
       "\n",
       "                   Dividend   Volume  \n",
       "Ticker Date                           \n",
       "A      2007-01-03       NaN  3599200  \n",
       "       2007-01-04       NaN  2899000  \n",
       "       2007-01-05       NaN  3741800  \n",
       "       2007-01-08       NaN  2176900  \n",
       "       2007-01-09       NaN  1937900  "
      ]
     },
     "execution_count": 30,
     "metadata": {},
     "output_type": "execute_result"
    }
   ],
   "source": [
    "df_prices.head()"
   ]
  },
  {
   "cell_type": "markdown",
   "metadata": {},
   "source": [
    "Each data-row contains the following items:\n",
    "\n",
    "- Ticker and SimFinId for identifying the stock.\n",
    "- Date for the trading-day.\n",
    "- Open, Low, High, Close for the share-prices for that day. These are all adjusted for stock-splits but NOT adjusted for dividends.\n",
    "- Adj. Close which is the day's closing share-price adjusted for BOTH stock-splits AND dividends, so the dividends have been reinvested back into the stock without having to pay any taxes. This is also known as the Total Return of the stock.\n",
    "- Dividend per share paid on that day, adjusted for stock-splits.\n",
    "- Volume, which is how many stocks were traded that day, adjusted for stock-splits.\n",
    "\n",
    "When calculating stock-returns you should always use the Adj. Close share-price because it takes both stock-splits and dividends into account. This is especially important over longer periods because the dividend reinvestment can be a significant part of the returns.\n",
    "\n",
    "But when calculating valuation ratios such as P/E or P/Sales you should use the Close share-price instead, which is only adjusted for stock-splits. If you were to use the Adj. Close share-price then you would distort the valuation ratios."
   ]
  },
  {
   "cell_type": "markdown",
   "metadata": {},
   "source": [
    "For example, the stock with ticker MSFT has the following share-price data:"
   ]
  },
  {
   "cell_type": "code",
   "execution_count": 31,
   "metadata": {},
   "outputs": [
    {
     "data": {
      "text/html": [
       "<div>\n",
       "<style scoped>\n",
       "    .dataframe tbody tr th:only-of-type {\n",
       "        vertical-align: middle;\n",
       "    }\n",
       "\n",
       "    .dataframe tbody tr th {\n",
       "        vertical-align: top;\n",
       "    }\n",
       "\n",
       "    .dataframe thead th {\n",
       "        text-align: right;\n",
       "    }\n",
       "</style>\n",
       "<table border=\"1\" class=\"dataframe\">\n",
       "  <thead>\n",
       "    <tr style=\"text-align: right;\">\n",
       "      <th></th>\n",
       "      <th>SimFinId</th>\n",
       "      <th>Open</th>\n",
       "      <th>Low</th>\n",
       "      <th>High</th>\n",
       "      <th>Close</th>\n",
       "      <th>Adj. Close</th>\n",
       "      <th>Dividend</th>\n",
       "      <th>Volume</th>\n",
       "    </tr>\n",
       "    <tr>\n",
       "      <th>Date</th>\n",
       "      <th></th>\n",
       "      <th></th>\n",
       "      <th></th>\n",
       "      <th></th>\n",
       "      <th></th>\n",
       "      <th></th>\n",
       "      <th></th>\n",
       "      <th></th>\n",
       "    </tr>\n",
       "  </thead>\n",
       "  <tbody>\n",
       "    <tr>\n",
       "      <td>2007-01-03</td>\n",
       "      <td>59265</td>\n",
       "      <td>29.9100</td>\n",
       "      <td>29.40</td>\n",
       "      <td>30.25</td>\n",
       "      <td>29.86</td>\n",
       "      <td>22.32</td>\n",
       "      <td>NaN</td>\n",
       "      <td>76935100</td>\n",
       "    </tr>\n",
       "    <tr>\n",
       "      <td>2007-01-04</td>\n",
       "      <td>59265</td>\n",
       "      <td>29.7000</td>\n",
       "      <td>29.44</td>\n",
       "      <td>29.97</td>\n",
       "      <td>29.81</td>\n",
       "      <td>22.28</td>\n",
       "      <td>NaN</td>\n",
       "      <td>45774500</td>\n",
       "    </tr>\n",
       "    <tr>\n",
       "      <td>2007-01-05</td>\n",
       "      <td>59265</td>\n",
       "      <td>29.6307</td>\n",
       "      <td>29.45</td>\n",
       "      <td>29.75</td>\n",
       "      <td>29.64</td>\n",
       "      <td>22.16</td>\n",
       "      <td>NaN</td>\n",
       "      <td>44607200</td>\n",
       "    </tr>\n",
       "    <tr>\n",
       "      <td>2007-01-08</td>\n",
       "      <td>59265</td>\n",
       "      <td>29.6500</td>\n",
       "      <td>29.53</td>\n",
       "      <td>30.10</td>\n",
       "      <td>29.93</td>\n",
       "      <td>22.37</td>\n",
       "      <td>NaN</td>\n",
       "      <td>50220200</td>\n",
       "    </tr>\n",
       "    <tr>\n",
       "      <td>2007-01-09</td>\n",
       "      <td>59265</td>\n",
       "      <td>30.0000</td>\n",
       "      <td>29.73</td>\n",
       "      <td>30.18</td>\n",
       "      <td>29.96</td>\n",
       "      <td>22.40</td>\n",
       "      <td>NaN</td>\n",
       "      <td>44636600</td>\n",
       "    </tr>\n",
       "  </tbody>\n",
       "</table>\n",
       "</div>"
      ],
      "text/plain": [
       "            SimFinId     Open    Low   High  Close  Adj. Close  Dividend  \\\n",
       "Date                                                                       \n",
       "2007-01-03     59265  29.9100  29.40  30.25  29.86       22.32       NaN   \n",
       "2007-01-04     59265  29.7000  29.44  29.97  29.81       22.28       NaN   \n",
       "2007-01-05     59265  29.6307  29.45  29.75  29.64       22.16       NaN   \n",
       "2007-01-08     59265  29.6500  29.53  30.10  29.93       22.37       NaN   \n",
       "2007-01-09     59265  30.0000  29.73  30.18  29.96       22.40       NaN   \n",
       "\n",
       "              Volume  \n",
       "Date                  \n",
       "2007-01-03  76935100  \n",
       "2007-01-04  45774500  \n",
       "2007-01-05  44607200  \n",
       "2007-01-08  50220200  \n",
       "2007-01-09  44636600  "
      ]
     },
     "execution_count": 31,
     "metadata": {},
     "output_type": "execute_result"
    }
   ],
   "source": [
    "df_prices.loc['MSFT'].head()"
   ]
  },
  {
   "cell_type": "markdown",
   "metadata": {},
   "source": [
    "We can plot the daily closing-price for the MSFT stock. We use the name `CLOSE` as an easy reference:"
   ]
  },
  {
   "cell_type": "code",
   "execution_count": 32,
   "metadata": {},
   "outputs": [
    {
     "data": {
      "text/plain": [
       "<matplotlib.axes._subplots.AxesSubplot at 0x7f8d25a5c470>"
      ]
     },
     "execution_count": 32,
     "metadata": {},
     "output_type": "execute_result"
    },
    {
     "data": {
      "image/png": "[encoded data removed]",
      "text/plain": [
       "<Figure size 432x288 with 1 Axes>"
      ]
     },
     "metadata": {},
     "output_type": "display_data"
    }
   ],
   "source": [
    "df_prices.loc['MSFT'][CLOSE].plot(grid=True)"
   ]
  },
  {
   "cell_type": "markdown",
   "metadata": {},
   "source": [
    "By default, we use the name `SHARE_PRICE` as a synonym for the daily closing price:"
   ]
  },
  {
   "cell_type": "code",
   "execution_count": 33,
   "metadata": {},
   "outputs": [
    {
     "data": {
      "text/plain": [
       "<matplotlib.axes._subplots.AxesSubplot at 0x7f8d25969080>"
      ]
     },
     "execution_count": 33,
     "metadata": {},
     "output_type": "execute_result"
    },
    {
     "data": {
      "image/png": "[encoded data removed]",
      "text/plain": [
       "<Figure size 432x288 with 1 Axes>"
      ]
     },
     "metadata": {},
     "output_type": "display_data"
    }
   ],
   "source": [
    "df_prices.loc['MSFT'][SHARE_PRICE].plot(grid=True)"
   ]
  },
  {
   "cell_type": "markdown",
   "metadata": {},
   "source": [
    "We use the name `TOTAL_RETURN` as a synonym for `ADJ_CLOSE`, which is the daily closing share-price, adjusted for BOTH stock-splits AND reinvestment of dividends:"
   ]
  },
  {
   "cell_type": "code",
   "execution_count": 34,
   "metadata": {},
   "outputs": [
    {
     "data": {
      "text/plain": [
       "<matplotlib.axes._subplots.AxesSubplot at 0x7f8d24982358>"
      ]
     },
     "execution_count": 34,
     "metadata": {},
     "output_type": "execute_result"
    },
    {
     "data": {
      "image/png": "[encoded data removed]",
      "text/plain": [
       "<Figure size 432x288 with 1 Axes>"
      ]
     },
     "metadata": {},
     "output_type": "display_data"
    }
   ],
   "source": [
    "df_prices.loc['MSFT'][TOTAL_RETURN].plot(grid=True)"
   ]
  },
  {
   "cell_type": "markdown",
   "metadata": {},
   "source": [
    "We can then compare the Share Price to the Total Return to see the effect of dividend reinvestment (assuming there are no taxes)."
   ]
  },
  {
   "cell_type": "code",
   "execution_count": 35,
   "metadata": {},
   "outputs": [
    {
     "data": {
      "text/plain": [
       "<matplotlib.axes._subplots.AxesSubplot at 0x7f8d24743f28>"
      ]
     },
     "execution_count": 35,
     "metadata": {},
     "output_type": "execute_result"
    },
    {
     "data": {
      "image/png": "[encoded data removed]",
      "text/plain": [
       "<Figure size 432x288 with 1 Axes>"
      ]
     },
     "metadata": {},
     "output_type": "display_data"
    }
   ],
   "source": [
    "# Get the relevant data.\n",
    "df = df_prices.loc['MSFT'][[TOTAL_RETURN, SHARE_PRICE]].copy()\n",
    "\n",
    "# Rename the columns.\n",
    "df.rename(columns={TOTAL_RETURN: 'Total Return',\n",
    "                   SHARE_PRICE: 'Share Price'}, inplace=True)\n",
    "\n",
    "# Normalize to begin at 1.0\n",
    "df /= df.values[0]\n",
    "\n",
    "# Plot it.\n",
    "df.plot(grid=True)"
   ]
  },
  {
   "cell_type": "markdown",
   "metadata": {},
   "source": [
    "We will show further below how to calculate valuation ratios such as P/Sales."
   ]
  },
  {
   "cell_type": "markdown",
   "metadata": {},
   "source": [
    "### Load Company Details\n",
    "\n",
    "The dataset for company details can also be loaded with the specialized function `sf.load_companies()`. This can either be indexed by `TICKER` (which may not be unique) or `SIMFIN_ID` (which is unique). By default it is indexed by `TICKER`."
   ]
  },
  {
   "cell_type": "code",
   "execution_count": 36,
   "metadata": {},
   "outputs": [
    {
     "name": "stdout",
     "output_type": "stream",
     "text": [
      "Loading \"companies\" from disk (1 days old).\n"
     ]
    }
   ],
   "source": [
    "df_companies = sf.load_companies(index=TICKER)"
   ]
  },
  {
   "cell_type": "code",
   "execution_count": 37,
   "metadata": {},
   "outputs": [
    {
     "data": {
      "text/html": [
       "<div>\n",
       "<style scoped>\n",
       "    .dataframe tbody tr th:only-of-type {\n",
       "        vertical-align: middle;\n",
       "    }\n",
       "\n",
       "    .dataframe tbody tr th {\n",
       "        vertical-align: top;\n",
       "    }\n",
       "\n",
       "    .dataframe thead th {\n",
       "        text-align: right;\n",
       "    }\n",
       "</style>\n",
       "<table border=\"1\" class=\"dataframe\">\n",
       "  <thead>\n",
       "    <tr style=\"text-align: right;\">\n",
       "      <th></th>\n",
       "      <th>SimFinId</th>\n",
       "      <th>Company Name</th>\n",
       "      <th>IndustryId</th>\n",
       "    </tr>\n",
       "    <tr>\n",
       "      <th>Ticker</th>\n",
       "      <th></th>\n",
       "      <th></th>\n",
       "      <th></th>\n",
       "    </tr>\n",
       "  </thead>\n",
       "  <tbody>\n",
       "    <tr>\n",
       "      <td>A</td>\n",
       "      <td>45846</td>\n",
       "      <td>AGILENT TECHNOLOGIES INC</td>\n",
       "      <td>106001.0</td>\n",
       "    </tr>\n",
       "    <tr>\n",
       "      <td>AA</td>\n",
       "      <td>367153</td>\n",
       "      <td>Alcoa Corp</td>\n",
       "      <td>110004.0</td>\n",
       "    </tr>\n",
       "    <tr>\n",
       "      <td>AAC</td>\n",
       "      <td>939324</td>\n",
       "      <td>AAC Holdings, Inc.</td>\n",
       "      <td>NaN</td>\n",
       "    </tr>\n",
       "    <tr>\n",
       "      <td>AAL</td>\n",
       "      <td>68568</td>\n",
       "      <td>American Airlines Group Inc.</td>\n",
       "      <td>100006.0</td>\n",
       "    </tr>\n",
       "    <tr>\n",
       "      <td>AAMC</td>\n",
       "      <td>847094</td>\n",
       "      <td>Altisource Asset Management Corp</td>\n",
       "      <td>104001.0</td>\n",
       "    </tr>\n",
       "  </tbody>\n",
       "</table>\n",
       "</div>"
      ],
      "text/plain": [
       "        SimFinId                      Company Name  IndustryId\n",
       "Ticker                                                        \n",
       "A          45846          AGILENT TECHNOLOGIES INC    106001.0\n",
       "AA        367153                        Alcoa Corp    110004.0\n",
       "AAC       939324                AAC Holdings, Inc.         NaN\n",
       "AAL        68568      American Airlines Group Inc.    100006.0\n",
       "AAMC      847094  Altisource Asset Management Corp    104001.0"
      ]
     },
     "execution_count": 37,
     "metadata": {},
     "output_type": "execute_result"
    }
   ],
   "source": [
    "df_companies.head()"
   ]
  },
  {
   "cell_type": "markdown",
   "metadata": {},
   "source": [
    "For example, we can lookup the details for the company with ticker MSFT:"
   ]
  },
  {
   "cell_type": "code",
   "execution_count": 38,
   "metadata": {},
   "outputs": [
    {
     "data": {
      "text/plain": [
       "SimFinId                 59265\n",
       "Company Name    MICROSOFT CORP\n",
       "IndustryId              101003\n",
       "Name: MSFT, dtype: object"
      ]
     },
     "execution_count": 38,
     "metadata": {},
     "output_type": "execute_result"
    }
   ],
   "source": [
    "df_companies.loc['MSFT']"
   ]
  },
  {
   "cell_type": "markdown",
   "metadata": {},
   "source": [
    "### Load Sector and Industry Details\n",
    "\n",
    "The dataset for details of sectors and industries can also be loaded with the specialized function `sf.load_industries()`."
   ]
  },
  {
   "cell_type": "code",
   "execution_count": 39,
   "metadata": {},
   "outputs": [
    {
     "name": "stdout",
     "output_type": "stream",
     "text": [
      "Loading \"industries\" from disk (1 days old).\n"
     ]
    }
   ],
   "source": [
    "df_industries = sf.load_industries()"
   ]
  },
  {
   "cell_type": "code",
   "execution_count": 40,
   "metadata": {},
   "outputs": [
    {
     "data": {
      "text/html": [
       "<div>\n",
       "<style scoped>\n",
       "    .dataframe tbody tr th:only-of-type {\n",
       "        vertical-align: middle;\n",
       "    }\n",
       "\n",
       "    .dataframe tbody tr th {\n",
       "        vertical-align: top;\n",
       "    }\n",
       "\n",
       "    .dataframe thead th {\n",
       "        text-align: right;\n",
       "    }\n",
       "</style>\n",
       "<table border=\"1\" class=\"dataframe\">\n",
       "  <thead>\n",
       "    <tr style=\"text-align: right;\">\n",
       "      <th></th>\n",
       "      <th>Sector</th>\n",
       "      <th>Industry</th>\n",
       "    </tr>\n",
       "    <tr>\n",
       "      <th>IndustryId</th>\n",
       "      <th></th>\n",
       "      <th></th>\n",
       "    </tr>\n",
       "  </thead>\n",
       "  <tbody>\n",
       "    <tr>\n",
       "      <td>100001</td>\n",
       "      <td>Industrials</td>\n",
       "      <td>Industrial Products</td>\n",
       "    </tr>\n",
       "    <tr>\n",
       "      <td>100002</td>\n",
       "      <td>Industrials</td>\n",
       "      <td>Business Services</td>\n",
       "    </tr>\n",
       "    <tr>\n",
       "      <td>100003</td>\n",
       "      <td>Industrials</td>\n",
       "      <td>Engineering &amp; Construction</td>\n",
       "    </tr>\n",
       "    <tr>\n",
       "      <td>100004</td>\n",
       "      <td>Industrials</td>\n",
       "      <td>Waste Management</td>\n",
       "    </tr>\n",
       "    <tr>\n",
       "      <td>100005</td>\n",
       "      <td>Industrials</td>\n",
       "      <td>Industrial Distribution</td>\n",
       "    </tr>\n",
       "  </tbody>\n",
       "</table>\n",
       "</div>"
      ],
      "text/plain": [
       "                 Sector                    Industry\n",
       "IndustryId                                         \n",
       "100001      Industrials         Industrial Products\n",
       "100002      Industrials           Business Services\n",
       "100003      Industrials  Engineering & Construction\n",
       "100004      Industrials            Waste Management\n",
       "100005      Industrials     Industrial Distribution"
      ]
     },
     "execution_count": 40,
     "metadata": {},
     "output_type": "execute_result"
    }
   ],
   "source": [
    "df_industries.head()"
   ]
  },
  {
   "cell_type": "markdown",
   "metadata": {},
   "source": [
    "For example, we can lookup the Industry ID associated with the MSFT stock."
   ]
  },
  {
   "cell_type": "code",
   "execution_count": 41,
   "metadata": {},
   "outputs": [
    {
     "data": {
      "text/plain": [
       "101003.0"
      ]
     },
     "execution_count": 41,
     "metadata": {},
     "output_type": "execute_result"
    }
   ],
   "source": [
    "industry_id = df_companies.loc['MSFT'][INDUSTRY_ID]\n",
    "industry_id"
   ]
  },
  {
   "cell_type": "markdown",
   "metadata": {},
   "source": [
    "We can then lookup the industry and sector details for that Industry ID."
   ]
  },
  {
   "cell_type": "code",
   "execution_count": 42,
   "metadata": {
    "scrolled": true
   },
   "outputs": [
    {
     "data": {
      "text/plain": [
       "Sector                Technology\n",
       "Industry    Application Software\n",
       "Name: 101003, dtype: object"
      ]
     },
     "execution_count": 42,
     "metadata": {},
     "output_type": "execute_result"
    }
   ],
   "source": [
    "df_industries.loc[industry_id]"
   ]
  },
  {
   "cell_type": "markdown",
   "metadata": {},
   "source": [
    "## Calculate Net Profit Margin\n",
    "\n",
    "This is an example of how to create new data-columns using a single DataFrame. In this example we will calculate the Net Profit Margin which is the fraction of the company's sales that are turned into profits for the shareholders. It is defined as the Net Income divided by the Revenue, both of which are found in the Income Statement. This shows it for a single company with the ticker AMZN (Amazon)."
   ]
  },
  {
   "cell_type": "code",
   "execution_count": 43,
   "metadata": {},
   "outputs": [],
   "source": [
    "# Define a name for the data-column.\n",
    "# Many typical names are already imported from sf.names\n",
    "NET_PROFIT_MARGIN = 'Net Profit Margin'\n",
    "\n",
    "# Copy the data for the ticker AMZN.\n",
    "# We will be adding new columns to this DataFrame so it\n",
    "# is best to copy it explicitly to create a new DataFrame.\n",
    "df = df_income.loc['AMZN'].copy()\n",
    "\n",
    "# Calculate the Net Profit Margin and add a new column\n",
    "# to the DataFrame.\n",
    "df[NET_PROFIT_MARGIN] = df[NET_INCOME] / df[REVENUE]"
   ]
  },
  {
   "cell_type": "code",
   "execution_count": 44,
   "metadata": {},
   "outputs": [
    {
     "data": {
      "text/plain": [
       "Report Date\n",
       "2007-12-31    0.032086\n",
       "2008-12-31    0.033653\n",
       "2009-12-31    0.036803\n",
       "2010-12-31    0.033680\n",
       "2011-12-31    0.013125\n",
       "2012-12-31   -0.000638\n",
       "2013-12-31    0.003680\n",
       "2014-12-31   -0.002708\n",
       "2015-12-31    0.005570\n",
       "2016-12-31    0.017435\n",
       "2017-12-31    0.017052\n",
       "2018-12-31    0.043253\n",
       "Name: Net Profit Margin, dtype: float64"
      ]
     },
     "execution_count": 44,
     "metadata": {},
     "output_type": "execute_result"
    }
   ],
   "source": [
    "df[NET_PROFIT_MARGIN]"
   ]
  },
  {
   "cell_type": "code",
   "execution_count": 45,
   "metadata": {},
   "outputs": [
    {
     "data": {
      "text/plain": [
       "<matplotlib.axes._subplots.AxesSubplot at 0x7f8d24dd52e8>"
      ]
     },
     "execution_count": 45,
     "metadata": {},
     "output_type": "execute_result"
    },
    {
     "data": {
      "image/png": "[encoded data removed]",
      "text/plain": [
       "<Figure size 432x288 with 1 Axes>"
      ]
     },
     "metadata": {},
     "output_type": "display_data"
    }
   ],
   "source": [
    "df[NET_PROFIT_MARGIN].plot(grid=True)"
   ]
  },
  {
   "cell_type": "markdown",
   "metadata": {},
   "source": [
    "We can also calculate the Net Profit Margin for *all* Income Statements by updating that DataFrame directly:"
   ]
  },
  {
   "cell_type": "code",
   "execution_count": 46,
   "metadata": {},
   "outputs": [],
   "source": [
    "df_income[NET_PROFIT_MARGIN] = df_income[NET_INCOME] / df_income[REVENUE]"
   ]
  },
  {
   "cell_type": "code",
   "execution_count": 47,
   "metadata": {
    "scrolled": true
   },
   "outputs": [
    {
     "data": {
      "text/plain": [
       "Ticker  Report Date\n",
       "A       2007-10-31     0.117712\n",
       "        2008-10-31     0.120021\n",
       "        2009-10-31    -0.006918\n",
       "        2010-10-31     0.125643\n",
       "        2011-10-31     0.152986\n",
       "                         ...   \n",
       "NaN     2013-01-31     0.002806\n",
       "        2014-01-31    -0.082835\n",
       "        2015-01-31    -0.023623\n",
       "        2016-01-31    -0.011015\n",
       "        2017-01-31    -0.003120\n",
       "Name: Net Profit Margin, Length: 19382, dtype: float64"
      ]
     },
     "execution_count": 47,
     "metadata": {},
     "output_type": "execute_result"
    }
   ],
   "source": [
    "df_income[NET_PROFIT_MARGIN]"
   ]
  },
  {
   "cell_type": "markdown",
   "metadata": {},
   "source": [
    "We can then extract the Net Profit Margin from this DataFrame for any ticker, for example:"
   ]
  },
  {
   "cell_type": "code",
   "execution_count": 48,
   "metadata": {},
   "outputs": [
    {
     "data": {
      "text/plain": [
       "Report Date\n",
       "2007-12-31    0.032086\n",
       "2008-12-31    0.033653\n",
       "2009-12-31    0.036803\n",
       "2010-12-31    0.033680\n",
       "2011-12-31    0.013125\n",
       "2012-12-31   -0.000638\n",
       "2013-12-31    0.003680\n",
       "2014-12-31   -0.002708\n",
       "2015-12-31    0.005570\n",
       "2016-12-31    0.017435\n",
       "2017-12-31    0.017052\n",
       "2018-12-31    0.043253\n",
       "Name: Net Profit Margin, dtype: float64"
      ]
     },
     "execution_count": 48,
     "metadata": {},
     "output_type": "execute_result"
    }
   ],
   "source": [
    "df_income.loc['AMZN'][NET_PROFIT_MARGIN]"
   ]
  },
  {
   "cell_type": "code",
   "execution_count": 49,
   "metadata": {},
   "outputs": [
    {
     "data": {
      "text/plain": [
       "<matplotlib.axes._subplots.AxesSubplot at 0x7f8d251324e0>"
      ]
     },
     "execution_count": 49,
     "metadata": {},
     "output_type": "execute_result"
    },
    {
     "data": {
      "image/png": "[encoded data removed]",
      "text/plain": [
       "<Figure size 432x288 with 1 Axes>"
      ]
     },
     "metadata": {},
     "output_type": "display_data"
    }
   ],
   "source": [
    "df_income.loc['AMZN'][NET_PROFIT_MARGIN].plot(grid=True)"
   ]
  },
  {
   "cell_type": "markdown",
   "metadata": {},
   "source": [
    "## Calculate Return on Equity (One Stock)\n",
    "\n",
    "When a company releases a new financial report, it is split into 3 separate financial statements known as the Income Statement, Balance Sheet, and Cash-Flow Statement, which are stored in 3 different simfin datasets. Some financial calculations involve data from two or more of these datasets. This is an example of how to make calculations by combining data from two different simfin datasets: The annual Income Statements and Balance Sheets."
   ]
  },
  {
   "cell_type": "code",
   "execution_count": 50,
   "metadata": {},
   "outputs": [
    {
     "name": "stdout",
     "output_type": "stream",
     "text": [
      "Loading \"income-annual\" from disk (0 days old).\n",
      "Loading \"balance-annual\" from disk (0 days old).\n"
     ]
    }
   ],
   "source": [
    "df_income = sf.load_income(variant='annual')\n",
    "df_balance = sf.load_balance(variant='annual')"
   ]
  },
  {
   "cell_type": "markdown",
   "metadata": {},
   "source": [
    "We will first consider a single company with the ticker MSFT. From the Income Statement we will use the data for Net Income."
   ]
  },
  {
   "cell_type": "code",
   "execution_count": 51,
   "metadata": {},
   "outputs": [],
   "source": [
    "net_income = df_income.loc['MSFT'][NET_INCOME]"
   ]
  },
  {
   "cell_type": "code",
   "execution_count": 52,
   "metadata": {},
   "outputs": [
    {
     "data": {
      "text/plain": [
       "Report Date\n",
       "2008-06-30    17681000000\n",
       "2009-06-30    14569000000\n",
       "2010-06-30    18760000000\n",
       "2011-06-30    23150000000\n",
       "2012-06-30    16978000000\n",
       "Name: Net Income, dtype: int64"
      ]
     },
     "execution_count": 52,
     "metadata": {},
     "output_type": "execute_result"
    }
   ],
   "source": [
    "net_income.head()"
   ]
  },
  {
   "cell_type": "markdown",
   "metadata": {},
   "source": [
    "From the Balance Sheet we will use the data for Shareholder's Total Equity."
   ]
  },
  {
   "cell_type": "code",
   "execution_count": 53,
   "metadata": {},
   "outputs": [],
   "source": [
    "equity = df_balance.loc['MSFT'][TOTAL_EQUITY]"
   ]
  },
  {
   "cell_type": "code",
   "execution_count": 54,
   "metadata": {},
   "outputs": [
    {
     "data": {
      "text/plain": [
       "Report Date\n",
       "2009-06-30    3.955800e+10\n",
       "2010-06-30    4.617500e+10\n",
       "2011-06-30    5.708300e+10\n",
       "2012-06-30    6.636300e+10\n",
       "2013-06-30    7.894400e+10\n",
       "Name: Total Equity, dtype: float64"
      ]
     },
     "execution_count": 54,
     "metadata": {},
     "output_type": "execute_result"
    }
   ],
   "source": [
    "equity.head()"
   ]
  },
  {
   "cell_type": "markdown",
   "metadata": {},
   "source": [
    "### Return on Equity - Basic Formula\n",
    "\n",
    "The Return on Equity (ROE) is a measure of how much profit is generated on the capital that shareholders have invested in the company through direct cash payments and retained earnings throughout the years.\n",
    "\n",
    "There are different ways of defining and calculating ROE. The first formula is simply the Net Income for a given year $t$ divided by the Shareholder's Equity for the same year $t$.\n",
    "\n",
    "$$\n",
    "ROE_t = \\frac{Net\\ Income_t}{Equity_t}\n",
    "$$\n",
    "\n",
    "This is very easy to calculate from the data we extracted above:"
   ]
  },
  {
   "cell_type": "code",
   "execution_count": 55,
   "metadata": {},
   "outputs": [],
   "source": [
    "roe = net_income / equity"
   ]
  },
  {
   "cell_type": "code",
   "execution_count": 56,
   "metadata": {},
   "outputs": [
    {
     "data": {
      "text/plain": [
       "Report Date\n",
       "2008-06-30         NaN\n",
       "2009-06-30    0.368295\n",
       "2010-06-30    0.406280\n",
       "2011-06-30    0.405550\n",
       "2012-06-30    0.255835\n",
       "dtype: float64"
      ]
     },
     "execution_count": 56,
     "metadata": {},
     "output_type": "execute_result"
    }
   ],
   "source": [
    "roe.head()"
   ]
  },
  {
   "cell_type": "code",
   "execution_count": 57,
   "metadata": {},
   "outputs": [
    {
     "data": {
      "text/plain": [
       "<matplotlib.axes._subplots.AxesSubplot at 0x7f8d24722e48>"
      ]
     },
     "execution_count": 57,
     "metadata": {},
     "output_type": "execute_result"
    },
    {
     "data": {
      "image/png": "[encoded data removed]",
      "text/plain": [
       "<Figure size 432x288 with 1 Axes>"
      ]
     },
     "metadata": {},
     "output_type": "display_data"
    }
   ],
   "source": [
    "roe.dropna().plot(kind='bar')"
   ]
  },
  {
   "cell_type": "markdown",
   "metadata": {},
   "source": [
    "### Return on Equity - Shifted Equity\n",
    "\n",
    "We might argue that the above formula for $ROE_t$ is inaccurate because the Net Income and Equity are taken from the same period $t$. The problem is that $Net\\ Income_t$ is generated in some year $t$ e.g. between January 1. and December 31. 2015, and some or all of these earnings may be retained and hence be a (possibly substantial) part of $Equity_t$ on December 31. 2015. This would distort the true return on shareholder's equity.\n",
    "\n",
    "A simple solution is to calculate the ROE from the Net Income in a given year $t$ divided by the Equity in the previous year:\n",
    "\n",
    "$$\n",
    "ROE_t = \\frac{Net\\ Income_t}{Equity_{t - 1\\ Year}}\n",
    "$$\n",
    "\n",
    "This can be done by shifting the time-series for the Net Income one step backwards in time."
   ]
  },
  {
   "cell_type": "code",
   "execution_count": 58,
   "metadata": {},
   "outputs": [],
   "source": [
    "roe = net_income.shift(-1) / equity"
   ]
  },
  {
   "cell_type": "markdown",
   "metadata": {},
   "source": [
    "Or equivalently it can be done by shifting the Equity time-series on step forwards in time."
   ]
  },
  {
   "cell_type": "code",
   "execution_count": 59,
   "metadata": {},
   "outputs": [],
   "source": [
    "roe = net_income / equity.shift(1)"
   ]
  },
  {
   "cell_type": "code",
   "execution_count": 60,
   "metadata": {},
   "outputs": [
    {
     "data": {
      "text/plain": [
       "Report Date\n",
       "2008-06-30         NaN\n",
       "2009-06-30         NaN\n",
       "2010-06-30    0.474240\n",
       "2011-06-30    0.501354\n",
       "2012-06-30    0.297427\n",
       "dtype: float64"
      ]
     },
     "execution_count": 60,
     "metadata": {},
     "output_type": "execute_result"
    }
   ],
   "source": [
    "roe.head()"
   ]
  },
  {
   "cell_type": "code",
   "execution_count": 61,
   "metadata": {},
   "outputs": [
    {
     "data": {
      "text/plain": [
       "<matplotlib.axes._subplots.AxesSubplot at 0x7f8d24812978>"
      ]
     },
     "execution_count": 61,
     "metadata": {},
     "output_type": "execute_result"
    },
    {
     "data": {
      "image/png": "[encoded data removed]",
      "text/plain": [
       "<Figure size 432x288 with 1 Axes>"
      ]
     },
     "metadata": {},
     "output_type": "display_data"
    }
   ],
   "source": [
    "roe.dropna().plot(kind='bar')"
   ]
  },
  {
   "cell_type": "markdown",
   "metadata": {},
   "source": [
    "### Return on Equity - Average Equity\n",
    "\n",
    "We might also argue that the above formula for $ROE_t$ using shifted Equity data is inaccurate, for example if the company has raised new equity capital by issuing new shares during the year, then $Equity_{t - 1\\ Year}$ would be too low for calculating $ROE_t$.\n",
    "\n",
    "A simple solution is to use the average of the Equity from the current and previous years:\n",
    "\n",
    "$$\n",
    "ROE_t = \\frac{Net\\ Income_t}{\\frac{1}{2} \\cdot \\left( Equity_t + Equity_{t - 1\\ Year} \\right) }\n",
    "$$\n",
    "\n",
    "This can be calculated very easily using Pandas built-in `rolling` functionality:"
   ]
  },
  {
   "cell_type": "code",
   "execution_count": 62,
   "metadata": {},
   "outputs": [],
   "source": [
    "equity_mean = equity.rolling(window=2).mean()"
   ]
  },
  {
   "cell_type": "code",
   "execution_count": 63,
   "metadata": {},
   "outputs": [
    {
     "data": {
      "text/plain": [
       "Report Date\n",
       "2009-06-30             NaN\n",
       "2010-06-30    4.286650e+10\n",
       "2011-06-30    5.162900e+10\n",
       "2012-06-30    6.172300e+10\n",
       "2013-06-30    7.265350e+10\n",
       "Name: Total Equity, dtype: float64"
      ]
     },
     "execution_count": 63,
     "metadata": {},
     "output_type": "execute_result"
    }
   ],
   "source": [
    "equity_mean.head()"
   ]
  },
  {
   "cell_type": "code",
   "execution_count": 64,
   "metadata": {},
   "outputs": [],
   "source": [
    "roe = net_income / equity_mean"
   ]
  },
  {
   "cell_type": "code",
   "execution_count": 65,
   "metadata": {},
   "outputs": [
    {
     "data": {
      "text/plain": [
       "Report Date\n",
       "2008-06-30         NaN\n",
       "2009-06-30         NaN\n",
       "2010-06-30    0.437638\n",
       "2011-06-30    0.448391\n",
       "2012-06-30    0.275068\n",
       "dtype: float64"
      ]
     },
     "execution_count": 65,
     "metadata": {},
     "output_type": "execute_result"
    }
   ],
   "source": [
    "roe.head()"
   ]
  },
  {
   "cell_type": "code",
   "execution_count": 66,
   "metadata": {},
   "outputs": [
    {
     "data": {
      "text/plain": [
       "<matplotlib.axes._subplots.AxesSubplot at 0x7f8d24a0b160>"
      ]
     },
     "execution_count": 66,
     "metadata": {},
     "output_type": "execute_result"
    },
    {
     "data": {
      "image/png": "[encoded data removed]",
      "text/plain": [
       "<Figure size 432x288 with 1 Axes>"
      ]
     },
     "metadata": {},
     "output_type": "display_data"
    }
   ],
   "source": [
    "roe.dropna().plot(kind='bar')"
   ]
  },
  {
   "cell_type": "markdown",
   "metadata": {},
   "source": [
    "## Calculating Return on Equity (Multiple Stocks)\n",
    "\n",
    "We can make calculations for several stocks simultaneously that use multiple simfin datasets. We will again calculate the Return on Equity (ROE) to demonstrate this.\n",
    "\n",
    "We will do this calculation for 3 different stocks simultaneously, and we will plot the results towards the end. Because these 3 companies have different reporting dates, the final plot can become a bit messy if we use the REPORT_DATE of the financial data. We will therefore use the FISCAL_YEAR as the index instead of the REPORT_DATE. This is done very easily by passing it as an argument to the load-functions."
   ]
  },
  {
   "cell_type": "code",
   "execution_count": 67,
   "metadata": {},
   "outputs": [
    {
     "name": "stdout",
     "output_type": "stream",
     "text": [
      "Loading \"income-annual\" from disk (0 days old).\n",
      "Loading \"balance-annual\" from disk (0 days old).\n"
     ]
    }
   ],
   "source": [
    "df_income = sf.load_income(variant='annual', index=FISCAL_YEAR)\n",
    "df_balance = sf.load_balance(variant='annual', index=FISCAL_YEAR)"
   ]
  },
  {
   "cell_type": "markdown",
   "metadata": {},
   "source": [
    "We will calculate the ROE for these 3 stock-tickers."
   ]
  },
  {
   "cell_type": "code",
   "execution_count": 68,
   "metadata": {},
   "outputs": [],
   "source": [
    "tickers = ['MSFT', 'AMZN', 'AAPL']"
   ]
  },
  {
   "cell_type": "markdown",
   "metadata": {},
   "source": [
    "First we extract the Net Income and Shareholder Equity for these 3 stocks."
   ]
  },
  {
   "cell_type": "code",
   "execution_count": 69,
   "metadata": {},
   "outputs": [],
   "source": [
    "net_income = df_income.loc[tickers][NET_INCOME]"
   ]
  },
  {
   "cell_type": "code",
   "execution_count": 70,
   "metadata": {},
   "outputs": [],
   "source": [
    "equity = df_balance.loc[tickers][TOTAL_EQUITY]"
   ]
  },
  {
   "cell_type": "markdown",
   "metadata": {},
   "source": [
    "Then we calculate the Return on Equity (ROE) using the shifted formula from above:\n",
    "\n",
    "$$\n",
    "ROE_t = \\frac{Net\\ Income_t}{Equity_{t - 1\\ Year}}\n",
    "$$"
   ]
  },
  {
   "cell_type": "code",
   "execution_count": 71,
   "metadata": {},
   "outputs": [],
   "source": [
    "roe = net_income.shift(1) / equity"
   ]
  },
  {
   "cell_type": "markdown",
   "metadata": {},
   "source": [
    "By default the new data is unnamed. To make the tables and plots more descriptive, we can assign a name to the data. This name is taken from simfin's imported module `names.py` which defines many commonly used names."
   ]
  },
  {
   "cell_type": "code",
   "execution_count": 72,
   "metadata": {},
   "outputs": [],
   "source": [
    "roe = roe.rename(ROE)"
   ]
  },
  {
   "cell_type": "code",
   "execution_count": 73,
   "metadata": {},
   "outputs": [
    {
     "data": {
      "text/plain": [
       "Ticker  Fiscal Year\n",
       "AAPL    2007                NaN\n",
       "        2008           0.156748\n",
       "        2009           0.193394\n",
       "        2010           0.172313\n",
       "        2011           0.182902\n",
       "Name: Return on Equity, dtype: float64"
      ]
     },
     "execution_count": 73,
     "metadata": {},
     "output_type": "execute_result"
    }
   ],
   "source": [
    "roe.head()"
   ]
  },
  {
   "cell_type": "markdown",
   "metadata": {},
   "source": [
    "We can remove all rows with missing data 'NaN'."
   ]
  },
  {
   "cell_type": "code",
   "execution_count": 74,
   "metadata": {},
   "outputs": [],
   "source": [
    "roe = roe.dropna()"
   ]
  },
  {
   "cell_type": "markdown",
   "metadata": {},
   "source": [
    "Because there is only one data-column, Pandas uses the simpler Series-object to store and handle the data. We can convert it to a DataFrame-object e.g. if we want to show a table."
   ]
  },
  {
   "cell_type": "code",
   "execution_count": 75,
   "metadata": {},
   "outputs": [
    {
     "data": {
      "text/html": [
       "<div>\n",
       "<style scoped>\n",
       "    .dataframe tbody tr th:only-of-type {\n",
       "        vertical-align: middle;\n",
       "    }\n",
       "\n",
       "    .dataframe tbody tr th {\n",
       "        vertical-align: top;\n",
       "    }\n",
       "\n",
       "    .dataframe thead th {\n",
       "        text-align: right;\n",
       "    }\n",
       "</style>\n",
       "<table border=\"1\" class=\"dataframe\">\n",
       "  <thead>\n",
       "    <tr style=\"text-align: right;\">\n",
       "      <th></th>\n",
       "      <th></th>\n",
       "      <th>Return on Equity</th>\n",
       "    </tr>\n",
       "    <tr>\n",
       "      <th>Ticker</th>\n",
       "      <th>Fiscal Year</th>\n",
       "      <th></th>\n",
       "    </tr>\n",
       "  </thead>\n",
       "  <tbody>\n",
       "    <tr>\n",
       "      <td rowspan=\"5\" valign=\"top\">AAPL</td>\n",
       "      <td>2008</td>\n",
       "      <td>0.156748</td>\n",
       "    </tr>\n",
       "    <tr>\n",
       "      <td>2009</td>\n",
       "      <td>0.193394</td>\n",
       "    </tr>\n",
       "    <tr>\n",
       "      <td>2010</td>\n",
       "      <td>0.172313</td>\n",
       "    </tr>\n",
       "    <tr>\n",
       "      <td>2011</td>\n",
       "      <td>0.182902</td>\n",
       "    </tr>\n",
       "    <tr>\n",
       "      <td>2012</td>\n",
       "      <td>0.219288</td>\n",
       "    </tr>\n",
       "  </tbody>\n",
       "</table>\n",
       "</div>"
      ],
      "text/plain": [
       "                    Return on Equity\n",
       "Ticker Fiscal Year                  \n",
       "AAPL   2008                 0.156748\n",
       "       2009                 0.193394\n",
       "       2010                 0.172313\n",
       "       2011                 0.182902\n",
       "       2012                 0.219288"
      ]
     },
     "execution_count": 75,
     "metadata": {},
     "output_type": "execute_result"
    }
   ],
   "source": [
    "pd.DataFrame(roe).head()"
   ]
  },
  {
   "cell_type": "markdown",
   "metadata": {},
   "source": [
    "This can now be plotted using the more advanced plotting package called Seaborn, which combines the plots for these 3 stocks using different colour-codes for the stocks. Note that we have to call `reset_index()` on the data before it is passed to the plotting-function."
   ]
  },
  {
   "cell_type": "code",
   "execution_count": 76,
   "metadata": {},
   "outputs": [
    {
     "data": {
      "text/plain": [
       "<matplotlib.axes._subplots.AxesSubplot at 0x7f8d24dbb940>"
      ]
     },
     "execution_count": 76,
     "metadata": {},
     "output_type": "execute_result"
    },
    {
     "data": {
      "image/png": "[encoded data removed]",
      "text/plain": [
       "<Figure size 432x288 with 1 Axes>"
      ]
     },
     "metadata": {},
     "output_type": "display_data"
    }
   ],
   "source": [
    "sns.barplot(x=FISCAL_YEAR, y=ROE, hue=TICKER,\n",
    "            data=roe.reset_index())"
   ]
  },
  {
   "cell_type": "markdown",
   "metadata": {},
   "source": [
    "## Resample Data (One Stock)\n",
    "\n",
    "The fundamental data is only provided at quarterly or annual intervals, corresponding to the financial reports of the companies. If we want to calculate daily valuation ratios such as P/E or P/Sales then we first need to upsample the fundamental data.\n",
    "\n",
    "We will use the dataset with annual Income Statements in these examples, although you might want to use the TTM-data instead, to get 4 data-points per year instead of just 1."
   ]
  },
  {
   "cell_type": "code",
   "execution_count": 77,
   "metadata": {},
   "outputs": [
    {
     "name": "stdout",
     "output_type": "stream",
     "text": [
      "Loading \"income-annual\" from disk (0 days old).\n"
     ]
    }
   ],
   "source": [
    "df = sf.load_income(variant='annual')"
   ]
  },
  {
   "cell_type": "markdown",
   "metadata": {},
   "source": [
    "We can extract the Revenue for the ticker MSFT."
   ]
  },
  {
   "cell_type": "code",
   "execution_count": 78,
   "metadata": {},
   "outputs": [
    {
     "data": {
      "text/plain": [
       "Report Date\n",
       "2008-06-30    6.042000e+10\n",
       "2009-06-30    5.843700e+10\n",
       "2010-06-30    6.248400e+10\n",
       "2011-06-30    6.994300e+10\n",
       "2012-06-30    7.372300e+10\n",
       "Name: Revenue, dtype: float64"
      ]
     },
     "execution_count": 78,
     "metadata": {},
     "output_type": "execute_result"
    }
   ],
   "source": [
    "df2 = df.loc['MSFT'][REVENUE]\n",
    "df2.head()"
   ]
  },
  {
   "cell_type": "markdown",
   "metadata": {},
   "source": [
    "This can be upsampled to daily data using Pandas' built-in resampling functionality."
   ]
  },
  {
   "cell_type": "code",
   "execution_count": 79,
   "metadata": {},
   "outputs": [
    {
     "data": {
      "text/plain": [
       "Report Date\n",
       "2008-06-30    6.042000e+10\n",
       "2008-07-01    6.042000e+10\n",
       "2008-07-02    6.042000e+10\n",
       "2008-07-03    6.042000e+10\n",
       "2008-07-04    6.042000e+10\n",
       "                  ...     \n",
       "2019-06-26    1.103600e+11\n",
       "2019-06-27    1.103600e+11\n",
       "2019-06-28    1.103600e+11\n",
       "2019-06-29    1.103600e+11\n",
       "2019-06-30    1.258430e+11\n",
       "Freq: D, Name: Revenue, Length: 4018, dtype: float64"
      ]
     },
     "execution_count": 79,
     "metadata": {},
     "output_type": "execute_result"
    }
   ],
   "source": [
    "df2.resample('D').ffill()"
   ]
  },
  {
   "cell_type": "markdown",
   "metadata": {},
   "source": [
    "Let us try and extract more data-columns for a single company."
   ]
  },
  {
   "cell_type": "code",
   "execution_count": 80,
   "metadata": {},
   "outputs": [
    {
     "data": {
      "text/html": [
       "<div>\n",
       "<style scoped>\n",
       "    .dataframe tbody tr th:only-of-type {\n",
       "        vertical-align: middle;\n",
       "    }\n",
       "\n",
       "    .dataframe tbody tr th {\n",
       "        vertical-align: top;\n",
       "    }\n",
       "\n",
       "    .dataframe thead th {\n",
       "        text-align: right;\n",
       "    }\n",
       "</style>\n",
       "<table border=\"1\" class=\"dataframe\">\n",
       "  <thead>\n",
       "    <tr style=\"text-align: right;\">\n",
       "      <th></th>\n",
       "      <th>Revenue</th>\n",
       "      <th>Net Income</th>\n",
       "    </tr>\n",
       "    <tr>\n",
       "      <th>Report Date</th>\n",
       "      <th></th>\n",
       "      <th></th>\n",
       "    </tr>\n",
       "  </thead>\n",
       "  <tbody>\n",
       "    <tr>\n",
       "      <td>2008-06-30</td>\n",
       "      <td>6.042000e+10</td>\n",
       "      <td>17681000000</td>\n",
       "    </tr>\n",
       "    <tr>\n",
       "      <td>2009-06-30</td>\n",
       "      <td>5.843700e+10</td>\n",
       "      <td>14569000000</td>\n",
       "    </tr>\n",
       "    <tr>\n",
       "      <td>2010-06-30</td>\n",
       "      <td>6.248400e+10</td>\n",
       "      <td>18760000000</td>\n",
       "    </tr>\n",
       "    <tr>\n",
       "      <td>2011-06-30</td>\n",
       "      <td>6.994300e+10</td>\n",
       "      <td>23150000000</td>\n",
       "    </tr>\n",
       "    <tr>\n",
       "      <td>2012-06-30</td>\n",
       "      <td>7.372300e+10</td>\n",
       "      <td>16978000000</td>\n",
       "    </tr>\n",
       "  </tbody>\n",
       "</table>\n",
       "</div>"
      ],
      "text/plain": [
       "                  Revenue   Net Income\n",
       "Report Date                           \n",
       "2008-06-30   6.042000e+10  17681000000\n",
       "2009-06-30   5.843700e+10  14569000000\n",
       "2010-06-30   6.248400e+10  18760000000\n",
       "2011-06-30   6.994300e+10  23150000000\n",
       "2012-06-30   7.372300e+10  16978000000"
      ]
     },
     "execution_count": 80,
     "metadata": {},
     "output_type": "execute_result"
    }
   ],
   "source": [
    "df3 = df.loc['MSFT'][[REVENUE, NET_INCOME]]\n",
    "df3.head()"
   ]
  },
  {
   "cell_type": "markdown",
   "metadata": {},
   "source": [
    "We can also upsample multiple data-columns for a single company."
   ]
  },
  {
   "cell_type": "code",
   "execution_count": 81,
   "metadata": {},
   "outputs": [
    {
     "data": {
      "text/html": [
       "<div>\n",
       "<style scoped>\n",
       "    .dataframe tbody tr th:only-of-type {\n",
       "        vertical-align: middle;\n",
       "    }\n",
       "\n",
       "    .dataframe tbody tr th {\n",
       "        vertical-align: top;\n",
       "    }\n",
       "\n",
       "    .dataframe thead th {\n",
       "        text-align: right;\n",
       "    }\n",
       "</style>\n",
       "<table border=\"1\" class=\"dataframe\">\n",
       "  <thead>\n",
       "    <tr style=\"text-align: right;\">\n",
       "      <th></th>\n",
       "      <th>Revenue</th>\n",
       "      <th>Net Income</th>\n",
       "    </tr>\n",
       "    <tr>\n",
       "      <th>Report Date</th>\n",
       "      <th></th>\n",
       "      <th></th>\n",
       "    </tr>\n",
       "  </thead>\n",
       "  <tbody>\n",
       "    <tr>\n",
       "      <td>2008-06-30</td>\n",
       "      <td>6.042000e+10</td>\n",
       "      <td>17681000000</td>\n",
       "    </tr>\n",
       "    <tr>\n",
       "      <td>2008-07-01</td>\n",
       "      <td>6.042000e+10</td>\n",
       "      <td>17681000000</td>\n",
       "    </tr>\n",
       "    <tr>\n",
       "      <td>2008-07-02</td>\n",
       "      <td>6.042000e+10</td>\n",
       "      <td>17681000000</td>\n",
       "    </tr>\n",
       "    <tr>\n",
       "      <td>2008-07-03</td>\n",
       "      <td>6.042000e+10</td>\n",
       "      <td>17681000000</td>\n",
       "    </tr>\n",
       "    <tr>\n",
       "      <td>2008-07-04</td>\n",
       "      <td>6.042000e+10</td>\n",
       "      <td>17681000000</td>\n",
       "    </tr>\n",
       "    <tr>\n",
       "      <td>...</td>\n",
       "      <td>...</td>\n",
       "      <td>...</td>\n",
       "    </tr>\n",
       "    <tr>\n",
       "      <td>2019-06-26</td>\n",
       "      <td>1.103600e+11</td>\n",
       "      <td>16571000000</td>\n",
       "    </tr>\n",
       "    <tr>\n",
       "      <td>2019-06-27</td>\n",
       "      <td>1.103600e+11</td>\n",
       "      <td>16571000000</td>\n",
       "    </tr>\n",
       "    <tr>\n",
       "      <td>2019-06-28</td>\n",
       "      <td>1.103600e+11</td>\n",
       "      <td>16571000000</td>\n",
       "    </tr>\n",
       "    <tr>\n",
       "      <td>2019-06-29</td>\n",
       "      <td>1.103600e+11</td>\n",
       "      <td>16571000000</td>\n",
       "    </tr>\n",
       "    <tr>\n",
       "      <td>2019-06-30</td>\n",
       "      <td>1.258430e+11</td>\n",
       "      <td>39240000000</td>\n",
       "    </tr>\n",
       "  </tbody>\n",
       "</table>\n",
       "<p>4018 rows × 2 columns</p>\n",
       "</div>"
      ],
      "text/plain": [
       "                  Revenue   Net Income\n",
       "Report Date                           \n",
       "2008-06-30   6.042000e+10  17681000000\n",
       "2008-07-01   6.042000e+10  17681000000\n",
       "2008-07-02   6.042000e+10  17681000000\n",
       "2008-07-03   6.042000e+10  17681000000\n",
       "2008-07-04   6.042000e+10  17681000000\n",
       "...                   ...          ...\n",
       "2019-06-26   1.103600e+11  16571000000\n",
       "2019-06-27   1.103600e+11  16571000000\n",
       "2019-06-28   1.103600e+11  16571000000\n",
       "2019-06-29   1.103600e+11  16571000000\n",
       "2019-06-30   1.258430e+11  39240000000\n",
       "\n",
       "[4018 rows x 2 columns]"
      ]
     },
     "execution_count": 81,
     "metadata": {},
     "output_type": "execute_result"
    }
   ],
   "source": [
    "df3.resample('D').ffill()"
   ]
  },
  {
   "cell_type": "markdown",
   "metadata": {},
   "source": [
    "If we plot the upsampled data, we see the time-series have steps. This is because we have used the 'forward fill' option when resampling the data, which uses the last-known values."
   ]
  },
  {
   "cell_type": "code",
   "execution_count": 82,
   "metadata": {},
   "outputs": [
    {
     "data": {
      "text/plain": [
       "<matplotlib.axes._subplots.AxesSubplot at 0x7f8d251b5630>"
      ]
     },
     "execution_count": 82,
     "metadata": {},
     "output_type": "execute_result"
    },
    {
     "data": {
      "image/png": "[encoded data removed]",
      "text/plain": [
       "<Figure size 432x288 with 1 Axes>"
      ]
     },
     "metadata": {},
     "output_type": "display_data"
    }
   ],
   "source": [
    "df3.resample('D').ffill().plot(grid=True)"
   ]
  },
  {
   "cell_type": "markdown",
   "metadata": {},
   "source": [
    "We can also fill in the missing values using linear interpolation between the known values. This is a form of cheating because we are using data before it is actually known (the same can be said of using REPORT_DATE instead of PUBLISH_DATE). This is still useful for some forms of analysis, but you should not use it when back-testing trading strategies."
   ]
  },
  {
   "cell_type": "code",
   "execution_count": 83,
   "metadata": {},
   "outputs": [
    {
     "data": {
      "text/plain": [
       "<matplotlib.axes._subplots.AxesSubplot at 0x7f8d25828e48>"
      ]
     },
     "execution_count": 83,
     "metadata": {},
     "output_type": "execute_result"
    },
    {
     "data": {
      "image/png": "[encoded data removed]",
      "text/plain": [
       "<Figure size 432x288 with 1 Axes>"
      ]
     },
     "metadata": {},
     "output_type": "display_data"
    }
   ],
   "source": [
    "df3.resample('D').interpolate(method='linear').plot(grid=True)"
   ]
  },
  {
   "cell_type": "markdown",
   "metadata": {},
   "source": [
    "### Helper Function\n",
    "\n",
    "Resampling data for a single stock is fairly simple using Pandas' built-in functionality. But it gets very complicated for DataFrames with multiple stocks, because there seems to be some problems with Pandas' semantics (v. 0.25.1). A small helper-function is therefore provided in simfin which can resample DataFrames with either one or multiple stocks."
   ]
  },
  {
   "cell_type": "code",
   "execution_count": 84,
   "metadata": {},
   "outputs": [
    {
     "data": {
      "text/plain": [
       "<matplotlib.axes._subplots.AxesSubplot at 0x7f8d25a27518>"
      ]
     },
     "execution_count": 84,
     "metadata": {},
     "output_type": "execute_result"
    },
    {
     "data": {
      "image/png": "[encoded data removed]",
      "text/plain": [
       "<Figure size 432x288 with 1 Axes>"
      ]
     },
     "metadata": {},
     "output_type": "display_data"
    }
   ],
   "source": [
    "sf.resample_daily(df=df3, method='ffill').plot(grid=True)"
   ]
  },
  {
   "cell_type": "code",
   "execution_count": 85,
   "metadata": {
    "scrolled": true
   },
   "outputs": [
    {
     "data": {
      "text/plain": [
       "<matplotlib.axes._subplots.AxesSubplot at 0x7f8d2598e940>"
      ]
     },
     "execution_count": 85,
     "metadata": {},
     "output_type": "execute_result"
    },
    {
     "data": {
      "image/png": "[encoded data removed]",
      "text/plain": [
       "<Figure size 432x288 with 1 Axes>"
      ]
     },
     "metadata": {},
     "output_type": "display_data"
    }
   ],
   "source": [
    "sf.resample_daily(df=df3, method='linear').plot(grid=True)"
   ]
  },
  {
   "cell_type": "markdown",
   "metadata": {},
   "source": [
    "## Resample Data (Multiple Stocks)\n",
    "\n",
    "Using simfin's helper-function it is easy to resample data for multiple stocks. We will again be using the dataset for annual Income Statements in these examples."
   ]
  },
  {
   "cell_type": "code",
   "execution_count": 86,
   "metadata": {},
   "outputs": [
    {
     "name": "stdout",
     "output_type": "stream",
     "text": [
      "Loading \"income-annual\" from disk (0 days old).\n"
     ]
    }
   ],
   "source": [
    "df = sf.load_income(variant='annual')"
   ]
  },
  {
   "cell_type": "markdown",
   "metadata": {},
   "source": [
    "The dataset contains thousands of stocks. In these examples we will just use these stocks."
   ]
  },
  {
   "cell_type": "code",
   "execution_count": 87,
   "metadata": {},
   "outputs": [],
   "source": [
    "tickers = ['MSFT', 'AMZN', 'AAPL']"
   ]
  },
  {
   "cell_type": "markdown",
   "metadata": {},
   "source": [
    "We can then extract several data-columns for these stock-tickers."
   ]
  },
  {
   "cell_type": "code",
   "execution_count": 88,
   "metadata": {},
   "outputs": [
    {
     "data": {
      "text/html": [
       "<div>\n",
       "<style scoped>\n",
       "    .dataframe tbody tr th:only-of-type {\n",
       "        vertical-align: middle;\n",
       "    }\n",
       "\n",
       "    .dataframe tbody tr th {\n",
       "        vertical-align: top;\n",
       "    }\n",
       "\n",
       "    .dataframe thead th {\n",
       "        text-align: right;\n",
       "    }\n",
       "</style>\n",
       "<table border=\"1\" class=\"dataframe\">\n",
       "  <thead>\n",
       "    <tr style=\"text-align: right;\">\n",
       "      <th></th>\n",
       "      <th></th>\n",
       "      <th>Revenue</th>\n",
       "      <th>Net Income</th>\n",
       "    </tr>\n",
       "    <tr>\n",
       "      <th>Ticker</th>\n",
       "      <th>Report Date</th>\n",
       "      <th></th>\n",
       "      <th></th>\n",
       "    </tr>\n",
       "  </thead>\n",
       "  <tbody>\n",
       "    <tr>\n",
       "      <td rowspan=\"5\" valign=\"top\">AAPL</td>\n",
       "      <td>2007-09-30</td>\n",
       "      <td>2.457800e+10</td>\n",
       "      <td>3495000000</td>\n",
       "    </tr>\n",
       "    <tr>\n",
       "      <td>2008-09-30</td>\n",
       "      <td>3.749100e+10</td>\n",
       "      <td>6119000000</td>\n",
       "    </tr>\n",
       "    <tr>\n",
       "      <td>2009-09-30</td>\n",
       "      <td>4.290500e+10</td>\n",
       "      <td>8235000000</td>\n",
       "    </tr>\n",
       "    <tr>\n",
       "      <td>2010-09-30</td>\n",
       "      <td>6.522500e+10</td>\n",
       "      <td>14013000000</td>\n",
       "    </tr>\n",
       "    <tr>\n",
       "      <td>2011-09-30</td>\n",
       "      <td>1.082490e+11</td>\n",
       "      <td>25922000000</td>\n",
       "    </tr>\n",
       "  </tbody>\n",
       "</table>\n",
       "</div>"
      ],
      "text/plain": [
       "                         Revenue   Net Income\n",
       "Ticker Report Date                           \n",
       "AAPL   2007-09-30   2.457800e+10   3495000000\n",
       "       2008-09-30   3.749100e+10   6119000000\n",
       "       2009-09-30   4.290500e+10   8235000000\n",
       "       2010-09-30   6.522500e+10  14013000000\n",
       "       2011-09-30   1.082490e+11  25922000000"
      ]
     },
     "execution_count": 88,
     "metadata": {},
     "output_type": "execute_result"
    }
   ],
   "source": [
    "df2 = df.loc[tickers][[REVENUE, NET_INCOME]]\n",
    "df2.head()"
   ]
  },
  {
   "cell_type": "markdown",
   "metadata": {},
   "source": [
    "The DataFrame with multiple stocks and several data-columns can be upsampled very easily using simfin's helper-function."
   ]
  },
  {
   "cell_type": "code",
   "execution_count": 89,
   "metadata": {},
   "outputs": [
    {
     "data": {
      "text/html": [
       "<div>\n",
       "<style scoped>\n",
       "    .dataframe tbody tr th:only-of-type {\n",
       "        vertical-align: middle;\n",
       "    }\n",
       "\n",
       "    .dataframe tbody tr th {\n",
       "        vertical-align: top;\n",
       "    }\n",
       "\n",
       "    .dataframe thead th {\n",
       "        text-align: right;\n",
       "    }\n",
       "</style>\n",
       "<table border=\"1\" class=\"dataframe\">\n",
       "  <thead>\n",
       "    <tr style=\"text-align: right;\">\n",
       "      <th></th>\n",
       "      <th></th>\n",
       "      <th>Revenue</th>\n",
       "      <th>Net Income</th>\n",
       "    </tr>\n",
       "    <tr>\n",
       "      <th>Ticker</th>\n",
       "      <th>Report Date</th>\n",
       "      <th></th>\n",
       "      <th></th>\n",
       "    </tr>\n",
       "  </thead>\n",
       "  <tbody>\n",
       "    <tr>\n",
       "      <td rowspan=\"5\" valign=\"top\">AAPL</td>\n",
       "      <td>2007-09-30</td>\n",
       "      <td>2.457800e+10</td>\n",
       "      <td>3495000000</td>\n",
       "    </tr>\n",
       "    <tr>\n",
       "      <td>2007-10-01</td>\n",
       "      <td>2.457800e+10</td>\n",
       "      <td>3495000000</td>\n",
       "    </tr>\n",
       "    <tr>\n",
       "      <td>2007-10-02</td>\n",
       "      <td>2.457800e+10</td>\n",
       "      <td>3495000000</td>\n",
       "    </tr>\n",
       "    <tr>\n",
       "      <td>2007-10-03</td>\n",
       "      <td>2.457800e+10</td>\n",
       "      <td>3495000000</td>\n",
       "    </tr>\n",
       "    <tr>\n",
       "      <td>2007-10-04</td>\n",
       "      <td>2.457800e+10</td>\n",
       "      <td>3495000000</td>\n",
       "    </tr>\n",
       "  </tbody>\n",
       "</table>\n",
       "</div>"
      ],
      "text/plain": [
       "                         Revenue  Net Income\n",
       "Ticker Report Date                          \n",
       "AAPL   2007-09-30   2.457800e+10  3495000000\n",
       "       2007-10-01   2.457800e+10  3495000000\n",
       "       2007-10-02   2.457800e+10  3495000000\n",
       "       2007-10-03   2.457800e+10  3495000000\n",
       "       2007-10-04   2.457800e+10  3495000000"
      ]
     },
     "execution_count": 89,
     "metadata": {},
     "output_type": "execute_result"
    }
   ],
   "source": [
    "df3 = sf.resample_daily(df=df2, method='ffill')\n",
    "df3.head()"
   ]
  },
  {
   "cell_type": "markdown",
   "metadata": {},
   "source": [
    "We can plot the upsampled data for the ticker MSFT. The upsampling was done using the last-known values (aka. 'forward fill') which shows up as steps in the plot."
   ]
  },
  {
   "cell_type": "code",
   "execution_count": 90,
   "metadata": {},
   "outputs": [
    {
     "data": {
      "text/plain": [
       "<matplotlib.axes._subplots.AxesSubplot at 0x7f8d25059a90>"
      ]
     },
     "execution_count": 90,
     "metadata": {},
     "output_type": "execute_result"
    },
    {
     "data": {
      "image/png": "[encoded data removed]",
      "text/plain": [
       "<Figure size 432x288 with 1 Axes>"
      ]
     },
     "metadata": {},
     "output_type": "display_data"
    }
   ],
   "source": [
    "df3.loc['MSFT'].plot(grid=True)"
   ]
  },
  {
   "cell_type": "markdown",
   "metadata": {},
   "source": [
    "We can also interpolate between known values when doing the upsampling by setting the argument `method='linear'` instead of `'ffill'`. As noted above, this is a form of cheating, because we are using data before it was actually known. This should not be done in trading strategies, although it is still useful in some data-analysis."
   ]
  },
  {
   "cell_type": "code",
   "execution_count": 91,
   "metadata": {},
   "outputs": [
    {
     "data": {
      "text/html": [
       "<div>\n",
       "<style scoped>\n",
       "    .dataframe tbody tr th:only-of-type {\n",
       "        vertical-align: middle;\n",
       "    }\n",
       "\n",
       "    .dataframe tbody tr th {\n",
       "        vertical-align: top;\n",
       "    }\n",
       "\n",
       "    .dataframe thead th {\n",
       "        text-align: right;\n",
       "    }\n",
       "</style>\n",
       "<table border=\"1\" class=\"dataframe\">\n",
       "  <thead>\n",
       "    <tr style=\"text-align: right;\">\n",
       "      <th></th>\n",
       "      <th></th>\n",
       "      <th>Revenue</th>\n",
       "      <th>Net Income</th>\n",
       "    </tr>\n",
       "    <tr>\n",
       "      <th>Ticker</th>\n",
       "      <th>Report Date</th>\n",
       "      <th></th>\n",
       "      <th></th>\n",
       "    </tr>\n",
       "  </thead>\n",
       "  <tbody>\n",
       "    <tr>\n",
       "      <td rowspan=\"5\" valign=\"top\">AAPL</td>\n",
       "      <td>2007-09-30</td>\n",
       "      <td>2.457800e+10</td>\n",
       "      <td>3.495000e+09</td>\n",
       "    </tr>\n",
       "    <tr>\n",
       "      <td>2007-10-01</td>\n",
       "      <td>2.461328e+10</td>\n",
       "      <td>3.502169e+09</td>\n",
       "    </tr>\n",
       "    <tr>\n",
       "      <td>2007-10-02</td>\n",
       "      <td>2.464856e+10</td>\n",
       "      <td>3.509339e+09</td>\n",
       "    </tr>\n",
       "    <tr>\n",
       "      <td>2007-10-03</td>\n",
       "      <td>2.468384e+10</td>\n",
       "      <td>3.516508e+09</td>\n",
       "    </tr>\n",
       "    <tr>\n",
       "      <td>2007-10-04</td>\n",
       "      <td>2.471913e+10</td>\n",
       "      <td>3.523678e+09</td>\n",
       "    </tr>\n",
       "  </tbody>\n",
       "</table>\n",
       "</div>"
      ],
      "text/plain": [
       "                         Revenue    Net Income\n",
       "Ticker Report Date                            \n",
       "AAPL   2007-09-30   2.457800e+10  3.495000e+09\n",
       "       2007-10-01   2.461328e+10  3.502169e+09\n",
       "       2007-10-02   2.464856e+10  3.509339e+09\n",
       "       2007-10-03   2.468384e+10  3.516508e+09\n",
       "       2007-10-04   2.471913e+10  3.523678e+09"
      ]
     },
     "execution_count": 91,
     "metadata": {},
     "output_type": "execute_result"
    }
   ],
   "source": [
    "df4 = sf.resample_daily(df=df2, method='linear')\n",
    "df4.head()"
   ]
  },
  {
   "cell_type": "markdown",
   "metadata": {},
   "source": [
    "We can also plot the interpolated data for one of the stock-tickers e.g. MSFT."
   ]
  },
  {
   "cell_type": "code",
   "execution_count": 92,
   "metadata": {},
   "outputs": [
    {
     "data": {
      "text/plain": [
       "<matplotlib.axes._subplots.AxesSubplot at 0x7f8d25173e48>"
      ]
     },
     "execution_count": 92,
     "metadata": {},
     "output_type": "execute_result"
    },
    {
     "data": {
      "image/png": "[encoded data removed]",
      "text/plain": [
       "<Figure size 432x288 with 1 Axes>"
      ]
     },
     "metadata": {},
     "output_type": "display_data"
    }
   ],
   "source": [
    "df4.loc['MSFT'].plot(grid=True)"
   ]
  },
  {
   "cell_type": "markdown",
   "metadata": {},
   "source": [
    "## Calculate P/Sales Ratio (One Stock)\n",
    "\n",
    "Now that we know how to upsample financial data, we may use it to calculate valuation ratios such as P/Sales which is defined as the daily share-price divided by the Sales Per Share for the trailing twelve months (TTM).\n",
    "\n",
    "First we load the dataset with TTM Income Statements."
   ]
  },
  {
   "cell_type": "code",
   "execution_count": 93,
   "metadata": {},
   "outputs": [
    {
     "name": "stdout",
     "output_type": "stream",
     "text": [
      "Loading \"income-ttm\" from disk (0 days old).\n"
     ]
    }
   ],
   "source": [
    "df_income_ttm = sf.load_income(variant='ttm')"
   ]
  },
  {
   "cell_type": "markdown",
   "metadata": {},
   "source": [
    "In this example we will consider a single stock with ticker MSFT. We calculate its Sales Per Share as the Revenue (aka. Sales) divided by the number of diluted shares outstanding. The TTM data is quarterly so we get 4 data-points per year for the Sales Per Share."
   ]
  },
  {
   "cell_type": "code",
   "execution_count": 94,
   "metadata": {},
   "outputs": [],
   "source": [
    "df = df_income_ttm.loc['MSFT']"
   ]
  },
  {
   "cell_type": "code",
   "execution_count": 95,
   "metadata": {},
   "outputs": [
    {
     "data": {
      "text/plain": [
       "Report Date\n",
       "2009-06-30    8.996000e+09\n",
       "2009-09-30    8.946000e+09\n",
       "2009-12-31    8.955250e+09\n",
       "2010-03-31    8.948250e+09\n",
       "2010-06-30    8.927000e+09\n",
       "2010-09-30    8.855000e+09\n",
       "2010-12-31    8.759750e+09\n",
       "2011-03-31    8.668250e+09\n",
       "2011-06-30    8.593000e+09\n",
       "2011-09-30    8.541750e+09\n",
       "2011-12-31    8.515500e+09\n",
       "2012-03-31    8.512500e+09\n",
       "2012-06-30    8.506000e+09\n",
       "2012-09-30    8.507000e+09\n",
       "2012-12-31    8.501750e+09\n",
       "2013-03-31    8.484500e+09\n",
       "2013-06-30    8.470000e+09\n",
       "2013-09-30    8.455000e+09\n",
       "2013-12-31    8.442750e+09\n",
       "2014-03-31    8.427250e+09\n",
       "2014-06-30    8.399000e+09\n",
       "2014-09-30    8.378250e+09\n",
       "2014-12-31    8.353750e+09\n",
       "2015-03-31    8.321250e+09\n",
       "2015-06-30    8.254000e+09\n",
       "2015-09-30    8.187250e+09\n",
       "2015-12-31    8.125750e+09\n",
       "2016-03-31    8.062750e+09\n",
       "2016-06-30    8.013000e+09\n",
       "2016-09-30    7.961000e+09\n",
       "2016-12-31    7.905750e+09\n",
       "2017-03-31    7.862750e+09\n",
       "2017-06-30    7.832000e+09\n",
       "2017-09-30    7.812750e+09\n",
       "2017-12-31    7.782750e+09\n",
       "2018-03-31    7.778000e+09\n",
       "2018-06-30    7.794000e+09\n",
       "2018-09-30    7.785750e+09\n",
       "2018-12-31    7.800250e+09\n",
       "2019-03-31    7.787750e+09\n",
       "2019-06-30    7.753000e+09\n",
       "Name: Shares (Diluted), dtype: float64"
      ]
     },
     "execution_count": 95,
     "metadata": {},
     "output_type": "execute_result"
    }
   ],
   "source": [
    "df[SHARES_DILUTED]"
   ]
  },
  {
   "cell_type": "code",
   "execution_count": 96,
   "metadata": {},
   "outputs": [],
   "source": [
    "sales_per_share = df[REVENUE] / df[SHARES_DILUTED]"
   ]
  },
  {
   "cell_type": "code",
   "execution_count": 97,
   "metadata": {},
   "outputs": [
    {
     "data": {
      "text/plain": [
       "Report Date\n",
       "2009-06-30    6.495887\n",
       "2009-09-30    6.292868\n",
       "2009-12-31    6.553586\n",
       "2010-03-31    6.654262\n",
       "2010-06-30    6.999440\n",
       "dtype: float64"
      ]
     },
     "execution_count": 97,
     "metadata": {},
     "output_type": "execute_result"
    }
   ],
   "source": [
    "sales_per_share.head()"
   ]
  },
  {
   "cell_type": "markdown",
   "metadata": {},
   "source": [
    "The quarterly Sales Per Share data is then upsampled to daily data. In this example we will use the 'forward fill' method of upsampling, which uses the last-known value."
   ]
  },
  {
   "cell_type": "code",
   "execution_count": 98,
   "metadata": {},
   "outputs": [],
   "source": [
    "sales_per_share_daily = sf.resample_daily(df=sales_per_share,\n",
    "                                          method='ffill')"
   ]
  },
  {
   "cell_type": "code",
   "execution_count": 99,
   "metadata": {},
   "outputs": [
    {
     "data": {
      "text/plain": [
       "Report Date\n",
       "2009-06-30    6.495887\n",
       "2009-07-01    6.495887\n",
       "2009-07-02    6.495887\n",
       "2009-07-03    6.495887\n",
       "2009-07-04    6.495887\n",
       "Freq: D, dtype: float64"
      ]
     },
     "execution_count": 99,
     "metadata": {},
     "output_type": "execute_result"
    }
   ],
   "source": [
    "sales_per_share_daily.head()"
   ]
  },
  {
   "cell_type": "markdown",
   "metadata": {},
   "source": [
    "Then we extract the daily share-price for this stock."
   ]
  },
  {
   "cell_type": "code",
   "execution_count": 100,
   "metadata": {},
   "outputs": [],
   "source": [
    "share_price_daily = df_prices.loc['MSFT'][SHARE_PRICE]"
   ]
  },
  {
   "cell_type": "markdown",
   "metadata": {},
   "source": [
    "Finally we calculate the P/Sales ratio as the daily share-price divided by the daily Sales Per Share. Note that these per-share numbers are already adjusted for stock-splits (if any)."
   ]
  },
  {
   "cell_type": "code",
   "execution_count": 101,
   "metadata": {},
   "outputs": [],
   "source": [
    "psales = share_price_daily / sales_per_share_daily"
   ]
  },
  {
   "cell_type": "markdown",
   "metadata": {},
   "source": [
    "The index for this Pandas Series is the index from `share_price_daily`. So if we do not have Sales Per Share data for a given date in the index, then the table shows 'NaN' which means 'Not-a-Number' because the number is unknown - it is not necessarily zero."
   ]
  },
  {
   "cell_type": "code",
   "execution_count": 102,
   "metadata": {},
   "outputs": [
    {
     "data": {
      "text/plain": [
       "2007-01-03   NaN\n",
       "2007-01-04   NaN\n",
       "2007-01-05   NaN\n",
       "2007-01-08   NaN\n",
       "2007-01-09   NaN\n",
       "dtype: float64"
      ]
     },
     "execution_count": 102,
     "metadata": {},
     "output_type": "execute_result"
    }
   ],
   "source": [
    "psales.head()"
   ]
  },
  {
   "cell_type": "markdown",
   "metadata": {},
   "source": [
    "These 'NaN' can easily be removed."
   ]
  },
  {
   "cell_type": "code",
   "execution_count": 103,
   "metadata": {},
   "outputs": [
    {
     "data": {
      "text/plain": [
       "2009-06-30    3.659238\n",
       "2009-07-01    3.700803\n",
       "2009-07-02    3.597661\n",
       "2009-07-06    3.571491\n",
       "2009-07-07    3.468348\n",
       "dtype: float64"
      ]
     },
     "execution_count": 103,
     "metadata": {},
     "output_type": "execute_result"
    }
   ],
   "source": [
    "psales = psales.dropna()\n",
    "psales.head()"
   ]
  },
  {
   "cell_type": "markdown",
   "metadata": {},
   "source": [
    "The P/Sales ratio can then be plotted."
   ]
  },
  {
   "cell_type": "code",
   "execution_count": 104,
   "metadata": {},
   "outputs": [
    {
     "data": {
      "text/plain": [
       "<matplotlib.axes._subplots.AxesSubplot at 0x7f8d24f6a898>"
      ]
     },
     "execution_count": 104,
     "metadata": {},
     "output_type": "execute_result"
    },
    {
     "data": {
      "image/png": "[encoded data removed]",
      "text/plain": [
       "<Figure size 432x288 with 1 Axes>"
      ]
     },
     "metadata": {},
     "output_type": "display_data"
    }
   ],
   "source": [
    "psales.plot(grid=True)"
   ]
  },
  {
   "cell_type": "markdown",
   "metadata": {},
   "source": [
    "## Calculate P/Sales Ratio (Multiple Stocks)\n",
    "\n",
    "Calculating valuation ratios such as P/Sales for multiple stocks is also fairly easy, if you do it the correct way.\n",
    "\n",
    "First we extract the data for the stock-tickers we are interested in, from the TTM Income Statements that we loaded above."
   ]
  },
  {
   "cell_type": "code",
   "execution_count": 105,
   "metadata": {},
   "outputs": [],
   "source": [
    "tickers = ['MSFT', 'AMZN', 'AAPL']\n",
    "df = df_income_ttm.loc[tickers]"
   ]
  },
  {
   "cell_type": "markdown",
   "metadata": {},
   "source": [
    "Then we calculate the Sales Per Share for these stocks, for all the available data-points."
   ]
  },
  {
   "cell_type": "code",
   "execution_count": 106,
   "metadata": {},
   "outputs": [
    {
     "data": {
      "text/plain": [
       "Ticker  Report Date\n",
       "AAPL    2009-03-31     6.537275\n",
       "        2009-06-30     6.884864\n",
       "        2009-09-30     6.757720\n",
       "        2009-12-31     7.319809\n",
       "        2010-03-31     7.968248\n",
       "dtype: float64"
      ]
     },
     "execution_count": 106,
     "metadata": {},
     "output_type": "execute_result"
    }
   ],
   "source": [
    "sales_per_share = df[REVENUE] / df[SHARES_DILUTED]\n",
    "sales_per_share.head()"
   ]
  },
  {
   "cell_type": "markdown",
   "metadata": {},
   "source": [
    "Then we upsample the Sales Per Share to daily data-points using the 'forward fill' method."
   ]
  },
  {
   "cell_type": "code",
   "execution_count": 107,
   "metadata": {},
   "outputs": [
    {
     "data": {
      "text/html": [
       "<div>\n",
       "<style scoped>\n",
       "    .dataframe tbody tr th:only-of-type {\n",
       "        vertical-align: middle;\n",
       "    }\n",
       "\n",
       "    .dataframe tbody tr th {\n",
       "        vertical-align: top;\n",
       "    }\n",
       "\n",
       "    .dataframe thead th {\n",
       "        text-align: right;\n",
       "    }\n",
       "</style>\n",
       "<table border=\"1\" class=\"dataframe\">\n",
       "  <thead>\n",
       "    <tr style=\"text-align: right;\">\n",
       "      <th></th>\n",
       "      <th></th>\n",
       "      <th>0</th>\n",
       "    </tr>\n",
       "    <tr>\n",
       "      <th>Ticker</th>\n",
       "      <th>Report Date</th>\n",
       "      <th></th>\n",
       "    </tr>\n",
       "  </thead>\n",
       "  <tbody>\n",
       "    <tr>\n",
       "      <td rowspan=\"5\" valign=\"top\">AAPL</td>\n",
       "      <td>2009-03-31</td>\n",
       "      <td>6.537275</td>\n",
       "    </tr>\n",
       "    <tr>\n",
       "      <td>2009-04-01</td>\n",
       "      <td>6.537275</td>\n",
       "    </tr>\n",
       "    <tr>\n",
       "      <td>2009-04-02</td>\n",
       "      <td>6.537275</td>\n",
       "    </tr>\n",
       "    <tr>\n",
       "      <td>2009-04-03</td>\n",
       "      <td>6.537275</td>\n",
       "    </tr>\n",
       "    <tr>\n",
       "      <td>2009-04-04</td>\n",
       "      <td>6.537275</td>\n",
       "    </tr>\n",
       "  </tbody>\n",
       "</table>\n",
       "</div>"
      ],
      "text/plain": [
       "                           0\n",
       "Ticker Report Date          \n",
       "AAPL   2009-03-31   6.537275\n",
       "       2009-04-01   6.537275\n",
       "       2009-04-02   6.537275\n",
       "       2009-04-03   6.537275\n",
       "       2009-04-04   6.537275"
      ]
     },
     "execution_count": 107,
     "metadata": {},
     "output_type": "execute_result"
    }
   ],
   "source": [
    "sales_per_share_daily = sf.resample_daily(df=sales_per_share,\n",
    "                                          method='ffill')\n",
    "sales_per_share_daily.head()"
   ]
  },
  {
   "cell_type": "markdown",
   "metadata": {},
   "source": [
    "The way Pandas works when doing arithmetic operations using two DataFrames, is that it matches both the index-names and the column-names. So if we are doing these calculations the \"wrong\" way, we will have to rename columns in order for it to work.\n",
    "\n",
    "It is easier to create a new DataFrame as a copy of the share-price DataFrame, and add the Sales Per Share data as a new column to that DataFrame, and then finally add the P/Sales ratio as another column.\n",
    "\n",
    "First we copy the relevant column from the DataFrame with share-prices. Note that `SHARE_PRICE` is actually given as a list `[SHARE_PRICE]` which means that the result is a Pandas DataFrame, otherwise the result would be a Pandas Series, which we cannot add more columns to."
   ]
  },
  {
   "cell_type": "code",
   "execution_count": 108,
   "metadata": {},
   "outputs": [
    {
     "data": {
      "text/html": [
       "<div>\n",
       "<style scoped>\n",
       "    .dataframe tbody tr th:only-of-type {\n",
       "        vertical-align: middle;\n",
       "    }\n",
       "\n",
       "    .dataframe tbody tr th {\n",
       "        vertical-align: top;\n",
       "    }\n",
       "\n",
       "    .dataframe thead th {\n",
       "        text-align: right;\n",
       "    }\n",
       "</style>\n",
       "<table border=\"1\" class=\"dataframe\">\n",
       "  <thead>\n",
       "    <tr style=\"text-align: right;\">\n",
       "      <th></th>\n",
       "      <th></th>\n",
       "      <th>Close</th>\n",
       "    </tr>\n",
       "    <tr>\n",
       "      <th>Ticker</th>\n",
       "      <th>Date</th>\n",
       "      <th></th>\n",
       "    </tr>\n",
       "  </thead>\n",
       "  <tbody>\n",
       "    <tr>\n",
       "      <td rowspan=\"5\" valign=\"top\">AAPL</td>\n",
       "      <td>2007-01-03</td>\n",
       "      <td>11.9714</td>\n",
       "    </tr>\n",
       "    <tr>\n",
       "      <td>2007-01-04</td>\n",
       "      <td>12.2371</td>\n",
       "    </tr>\n",
       "    <tr>\n",
       "      <td>2007-01-05</td>\n",
       "      <td>12.1500</td>\n",
       "    </tr>\n",
       "    <tr>\n",
       "      <td>2007-01-08</td>\n",
       "      <td>12.2100</td>\n",
       "    </tr>\n",
       "    <tr>\n",
       "      <td>2007-01-09</td>\n",
       "      <td>13.2243</td>\n",
       "    </tr>\n",
       "  </tbody>\n",
       "</table>\n",
       "</div>"
      ],
      "text/plain": [
       "                     Close\n",
       "Ticker Date               \n",
       "AAPL   2007-01-03  11.9714\n",
       "       2007-01-04  12.2371\n",
       "       2007-01-05  12.1500\n",
       "       2007-01-08  12.2100\n",
       "       2007-01-09  13.2243"
      ]
     },
     "execution_count": 108,
     "metadata": {},
     "output_type": "execute_result"
    }
   ],
   "source": [
    "df2 = df_prices.loc[tickers][[SHARE_PRICE]].copy()\n",
    "df2.head()"
   ]
  },
  {
   "cell_type": "markdown",
   "metadata": {},
   "source": [
    "Then we add the daily Sales Per Share as a new column to this DataFrame."
   ]
  },
  {
   "cell_type": "code",
   "execution_count": 109,
   "metadata": {},
   "outputs": [],
   "source": [
    "df2[SALES_PER_SHARE] = sales_per_share_daily"
   ]
  },
  {
   "cell_type": "markdown",
   "metadata": {},
   "source": [
    "The index for this DataFrame is the index from the original share-price data. So if we do not have Sales Per Share data for a given date, then the table shows 'NaN' which means 'Not-a-Number' because the number is unknown - it is not necessarily zero.\n",
    "\n",
    "Furthermore, because the Sales Per Share data has been upsampled from quarterly data-points, it will also have dates for which there was no stock-trading e.g. weekends and holidays. But again because the new DataFrame is indexed by the share-price data, the Sales Per Share data-points for weekends etc. is simply discarded when the data is added as a new column to this DataFrame. So the result is that we only have the dates which were in the original share-price data."
   ]
  },
  {
   "cell_type": "code",
   "execution_count": 110,
   "metadata": {},
   "outputs": [
    {
     "data": {
      "text/html": [
       "<div>\n",
       "<style scoped>\n",
       "    .dataframe tbody tr th:only-of-type {\n",
       "        vertical-align: middle;\n",
       "    }\n",
       "\n",
       "    .dataframe tbody tr th {\n",
       "        vertical-align: top;\n",
       "    }\n",
       "\n",
       "    .dataframe thead th {\n",
       "        text-align: right;\n",
       "    }\n",
       "</style>\n",
       "<table border=\"1\" class=\"dataframe\">\n",
       "  <thead>\n",
       "    <tr style=\"text-align: right;\">\n",
       "      <th></th>\n",
       "      <th></th>\n",
       "      <th>Close</th>\n",
       "      <th>Sales Per Share</th>\n",
       "    </tr>\n",
       "    <tr>\n",
       "      <th>Ticker</th>\n",
       "      <th>Date</th>\n",
       "      <th></th>\n",
       "      <th></th>\n",
       "    </tr>\n",
       "  </thead>\n",
       "  <tbody>\n",
       "    <tr>\n",
       "      <td rowspan=\"5\" valign=\"top\">AAPL</td>\n",
       "      <td>2007-01-03</td>\n",
       "      <td>11.9714</td>\n",
       "      <td>NaN</td>\n",
       "    </tr>\n",
       "    <tr>\n",
       "      <td>2007-01-04</td>\n",
       "      <td>12.2371</td>\n",
       "      <td>NaN</td>\n",
       "    </tr>\n",
       "    <tr>\n",
       "      <td>2007-01-05</td>\n",
       "      <td>12.1500</td>\n",
       "      <td>NaN</td>\n",
       "    </tr>\n",
       "    <tr>\n",
       "      <td>2007-01-08</td>\n",
       "      <td>12.2100</td>\n",
       "      <td>NaN</td>\n",
       "    </tr>\n",
       "    <tr>\n",
       "      <td>2007-01-09</td>\n",
       "      <td>13.2243</td>\n",
       "      <td>NaN</td>\n",
       "    </tr>\n",
       "  </tbody>\n",
       "</table>\n",
       "</div>"
      ],
      "text/plain": [
       "                     Close  Sales Per Share\n",
       "Ticker Date                                \n",
       "AAPL   2007-01-03  11.9714              NaN\n",
       "       2007-01-04  12.2371              NaN\n",
       "       2007-01-05  12.1500              NaN\n",
       "       2007-01-08  12.2100              NaN\n",
       "       2007-01-09  13.2243              NaN"
      ]
     },
     "execution_count": 110,
     "metadata": {},
     "output_type": "execute_result"
    }
   ],
   "source": [
    "df2.head()"
   ]
  },
  {
   "cell_type": "markdown",
   "metadata": {},
   "source": [
    "We can remove all the 'NaN' values from the DataFrame."
   ]
  },
  {
   "cell_type": "code",
   "execution_count": 111,
   "metadata": {},
   "outputs": [],
   "source": [
    "df2 = df2.dropna()"
   ]
  },
  {
   "cell_type": "code",
   "execution_count": 112,
   "metadata": {},
   "outputs": [
    {
     "data": {
      "text/html": [
       "<div>\n",
       "<style scoped>\n",
       "    .dataframe tbody tr th:only-of-type {\n",
       "        vertical-align: middle;\n",
       "    }\n",
       "\n",
       "    .dataframe tbody tr th {\n",
       "        vertical-align: top;\n",
       "    }\n",
       "\n",
       "    .dataframe thead th {\n",
       "        text-align: right;\n",
       "    }\n",
       "</style>\n",
       "<table border=\"1\" class=\"dataframe\">\n",
       "  <thead>\n",
       "    <tr style=\"text-align: right;\">\n",
       "      <th></th>\n",
       "      <th></th>\n",
       "      <th>Close</th>\n",
       "      <th>Sales Per Share</th>\n",
       "    </tr>\n",
       "    <tr>\n",
       "      <th>Ticker</th>\n",
       "      <th>Date</th>\n",
       "      <th></th>\n",
       "      <th></th>\n",
       "    </tr>\n",
       "  </thead>\n",
       "  <tbody>\n",
       "    <tr>\n",
       "      <td rowspan=\"5\" valign=\"top\">AAPL</td>\n",
       "      <td>2009-03-31</td>\n",
       "      <td>15.0171</td>\n",
       "      <td>6.537275</td>\n",
       "    </tr>\n",
       "    <tr>\n",
       "      <td>2009-04-01</td>\n",
       "      <td>15.5271</td>\n",
       "      <td>6.537275</td>\n",
       "    </tr>\n",
       "    <tr>\n",
       "      <td>2009-04-02</td>\n",
       "      <td>16.1014</td>\n",
       "      <td>6.537275</td>\n",
       "    </tr>\n",
       "    <tr>\n",
       "      <td>2009-04-03</td>\n",
       "      <td>16.5700</td>\n",
       "      <td>6.537275</td>\n",
       "    </tr>\n",
       "    <tr>\n",
       "      <td>2009-04-06</td>\n",
       "      <td>16.9214</td>\n",
       "      <td>6.537275</td>\n",
       "    </tr>\n",
       "  </tbody>\n",
       "</table>\n",
       "</div>"
      ],
      "text/plain": [
       "                     Close  Sales Per Share\n",
       "Ticker Date                                \n",
       "AAPL   2009-03-31  15.0171         6.537275\n",
       "       2009-04-01  15.5271         6.537275\n",
       "       2009-04-02  16.1014         6.537275\n",
       "       2009-04-03  16.5700         6.537275\n",
       "       2009-04-06  16.9214         6.537275"
      ]
     },
     "execution_count": 112,
     "metadata": {},
     "output_type": "execute_result"
    }
   ],
   "source": [
    "df2.head()"
   ]
  },
  {
   "cell_type": "markdown",
   "metadata": {},
   "source": [
    "Now the DataFrame contains the daily share-price and the upsampled daily Sales Per Share, so we can finally calculate the P/Sales for all the stocks in the DataFrame."
   ]
  },
  {
   "cell_type": "code",
   "execution_count": 113,
   "metadata": {},
   "outputs": [],
   "source": [
    "df2[PSALES] = df2[SHARE_PRICE] / df2[SALES_PER_SHARE]"
   ]
  },
  {
   "cell_type": "code",
   "execution_count": 114,
   "metadata": {},
   "outputs": [
    {
     "data": {
      "text/html": [
       "<div>\n",
       "<style scoped>\n",
       "    .dataframe tbody tr th:only-of-type {\n",
       "        vertical-align: middle;\n",
       "    }\n",
       "\n",
       "    .dataframe tbody tr th {\n",
       "        vertical-align: top;\n",
       "    }\n",
       "\n",
       "    .dataframe thead th {\n",
       "        text-align: right;\n",
       "    }\n",
       "</style>\n",
       "<table border=\"1\" class=\"dataframe\">\n",
       "  <thead>\n",
       "    <tr style=\"text-align: right;\">\n",
       "      <th></th>\n",
       "      <th></th>\n",
       "      <th>Close</th>\n",
       "      <th>Sales Per Share</th>\n",
       "      <th>P/Sales</th>\n",
       "    </tr>\n",
       "    <tr>\n",
       "      <th>Ticker</th>\n",
       "      <th>Date</th>\n",
       "      <th></th>\n",
       "      <th></th>\n",
       "      <th></th>\n",
       "    </tr>\n",
       "  </thead>\n",
       "  <tbody>\n",
       "    <tr>\n",
       "      <td rowspan=\"5\" valign=\"top\">AAPL</td>\n",
       "      <td>2009-03-31</td>\n",
       "      <td>15.0171</td>\n",
       "      <td>6.537275</td>\n",
       "      <td>2.297150</td>\n",
       "    </tr>\n",
       "    <tr>\n",
       "      <td>2009-04-01</td>\n",
       "      <td>15.5271</td>\n",
       "      <td>6.537275</td>\n",
       "      <td>2.375164</td>\n",
       "    </tr>\n",
       "    <tr>\n",
       "      <td>2009-04-02</td>\n",
       "      <td>16.1014</td>\n",
       "      <td>6.537275</td>\n",
       "      <td>2.463014</td>\n",
       "    </tr>\n",
       "    <tr>\n",
       "      <td>2009-04-03</td>\n",
       "      <td>16.5700</td>\n",
       "      <td>6.537275</td>\n",
       "      <td>2.534695</td>\n",
       "    </tr>\n",
       "    <tr>\n",
       "      <td>2009-04-06</td>\n",
       "      <td>16.9214</td>\n",
       "      <td>6.537275</td>\n",
       "      <td>2.588448</td>\n",
       "    </tr>\n",
       "  </tbody>\n",
       "</table>\n",
       "</div>"
      ],
      "text/plain": [
       "                     Close  Sales Per Share   P/Sales\n",
       "Ticker Date                                          \n",
       "AAPL   2009-03-31  15.0171         6.537275  2.297150\n",
       "       2009-04-01  15.5271         6.537275  2.375164\n",
       "       2009-04-02  16.1014         6.537275  2.463014\n",
       "       2009-04-03  16.5700         6.537275  2.534695\n",
       "       2009-04-06  16.9214         6.537275  2.588448"
      ]
     },
     "execution_count": 114,
     "metadata": {},
     "output_type": "execute_result"
    }
   ],
   "source": [
    "df2.head()"
   ]
  },
  {
   "cell_type": "markdown",
   "metadata": {},
   "source": [
    "We can extract and plot the P/Sales ratio for a single stock e.g. MSFT."
   ]
  },
  {
   "cell_type": "code",
   "execution_count": 115,
   "metadata": {},
   "outputs": [
    {
     "data": {
      "text/plain": [
       "<matplotlib.axes._subplots.AxesSubplot at 0x7f8d24946eb8>"
      ]
     },
     "execution_count": 115,
     "metadata": {},
     "output_type": "execute_result"
    },
    {
     "data": {
      "image/png": "[encoded data removed]",
      "text/plain": [
       "<Figure size 432x288 with 1 Axes>"
      ]
     },
     "metadata": {},
     "output_type": "display_data"
    }
   ],
   "source": [
    "df2.loc['MSFT'][PSALES].plot(grid=True)"
   ]
  },
  {
   "cell_type": "markdown",
   "metadata": {},
   "source": [
    "We can also use the more advanced plotting package called Seaborn to plot the P/Sales ratios for all the stocks in the DataFrame with different colours. Note that we have to call `reset_index()` on the DataFrame before it is passed to the Seaborn plotting-function."
   ]
  },
  {
   "cell_type": "code",
   "execution_count": 116,
   "metadata": {},
   "outputs": [
    {
     "data": {
      "text/plain": [
       "<matplotlib.axes._subplots.AxesSubplot at 0x7f8d24a49780>"
      ]
     },
     "execution_count": 116,
     "metadata": {},
     "output_type": "execute_result"
    },
    {
     "data": {
      "image/png": "[encoded data removed]",
      "text/plain": [
       "<Figure size 432x288 with 1 Axes>"
      ]
     },
     "metadata": {},
     "output_type": "display_data"
    }
   ],
   "source": [
    "sns.lineplot(x=DATE, y=PSALES, hue=TICKER, data=df2.reset_index())"
   ]
  },
  {
   "cell_type": "markdown",
   "metadata": {},
   "source": [
    "## Server Errors\n",
    "\n",
    "If the SimFin server returns an error, then it raises an exception named `sf.ServerException` which is a sub-class of Python's built-in `Exception` class.\n",
    "\n",
    "For example, we can try and load a dataset from the SimFin server that requires a paid subscription and a valid API key. ??? Will this dataset-name be changed to columns=all?"
   ]
  },
  {
   "cell_type": "code",
   "execution_count": 117,
   "metadata": {},
   "outputs": [
    {
     "name": "stdout",
     "output_type": "stream",
     "text": [
      "Dataset \"income-full\" does not exist on disk, downloading ... \n",
      "SimFin server error: An api key is needed for premium datasets, please append your api-key to the query using the 'api-key' parameter.\n"
     ]
    }
   ],
   "source": [
    "try:\n",
    "    df = sf.load(dataset='income-full')\n",
    "except sf.ServerException as e:\n",
    "    print(e)"
   ]
  },
  {
   "cell_type": "markdown",
   "metadata": {},
   "source": [
    "We can also try and load a dataset that does not exist on the SimFin server, which gives another error message."
   ]
  },
  {
   "cell_type": "code",
   "execution_count": 118,
   "metadata": {},
   "outputs": [
    {
     "name": "stdout",
     "output_type": "stream",
     "text": [
      "Dataset \"grays-sports-almanac\" does not exist on disk, downloading ... \n",
      "SimFin server error: The specified dataset was not found.\n"
     ]
    }
   ],
   "source": [
    "try:\n",
    "    df = sf.load(dataset='grays-sports-almanac')\n",
    "except sf.ServerException as e:\n",
    "    print(e)"
   ]
  },
  {
   "cell_type": "markdown",
   "metadata": {},
   "source": [
    "Many other types of exceptions can also be raised e.g. if there is no internet connection, or if there are problems with your disk, etc."
   ]
  },
  {
   "cell_type": "markdown",
   "metadata": {},
   "source": [
    "## License (MIT)\n",
    "\n",
    "This is published under the\n",
    "[MIT License](https://github.com/simfin/simfin-tutorials/blob/master/LICENSE)\n",
    "which allows very broad use for both academic and commercial purposes.\n",
    "\n",
    "You are very welcome to modify and use this source-code in your own project. Please keep a link to the [original repository](https://github.com/simfin/simfin-tutorials).\n"
   ]
  }
 ],
 "metadata": {
  "kernelspec": {
   "display_name": "Python 3",
   "language": "python",
   "name": "python3"
  },
  "language_info": {
   "codemirror_mode": {
    "name": "ipython",
    "version": 3
   },
   "file_extension": ".py",
   "mimetype": "text/x-python",
   "name": "python",
   "nbconvert_exporter": "python",
   "pygments_lexer": "ipython3",
   "version": "3.6.8"
  }
 },
 "nbformat": 4,
 "nbformat_minor": 2
}
