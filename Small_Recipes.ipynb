{
 "cells": [
  {
   "cell_type": "markdown",
   "metadata": {},
   "source": [
    "# SimFin - Small Recipes Cookbook\n",
    "This is a collection of small recipes for users that are already familiar with the [basics](https://github.com/simfin/simfin-tutorials/blob/master/01_Basics.ipynb) (will be extended steadily with new examples)."
   ]
  },
  {
   "cell_type": "markdown",
   "metadata": {},
   "source": [
    "## Imports"
   ]
  },
  {
   "cell_type": "code",
   "execution_count": 1,
   "metadata": {},
   "outputs": [],
   "source": [
    "# Import the main functionality from the SimFin Python API.\n",
    "import simfin as sf\n",
    "\n",
    "# Import names used for easy access to SimFin's data-columns.\n",
    "from simfin.names import *"
   ]
  },
  {
   "cell_type": "markdown",
   "metadata": {},
   "source": [
    "## Config"
   ]
  },
  {
   "cell_type": "code",
   "execution_count": 2,
   "metadata": {},
   "outputs": [],
   "source": [
    "# SimFin data-directory.\n",
    "sf.set_data_dir('~/simfin_data/')\n",
    "\n",
    "# SimFin load API key or use free data.\n",
    "sf.load_api_key(path='~/simfin_api_key.txt', default_key='free')"
   ]
  },
  {
   "cell_type": "markdown",
   "metadata": {},
   "source": [
    "## Load Datasets\n",
    "\n",
    "In these examples, we will use the following datasets:"
   ]
  },
  {
   "cell_type": "code",
   "execution_count": 5,
   "metadata": {},
   "outputs": [
    {
     "name": "stdout",
     "output_type": "stream",
     "text": [
      "Dataset \"us-income-ttm\" on disk (1 days old), loading.\n",
      "Dataset \"us-cashflow-ttm\" on disk (1 days old), loading.\n"
     ]
    }
   ],
   "source": [
    "# Data for USA.\n",
    "market = 'us'\n",
    "\n",
    "# ticker: MSFT (Microsoft)\n",
    "ticker = 'MSFT'\n",
    "\n",
    "# Load TTM Income Statements.\n",
    "df_inc = sf.load_income(variant='ttm', market=market).loc[ticker]\n",
    "\n",
    "# Load TTM Cash-Flow Statements.\n",
    "df_cf = sf.load_cashflow(variant='ttm', market=market).loc[ticker]"
   ]
  },
  {
   "cell_type": "markdown",
   "metadata": {},
   "source": [
    "## Recipes"
   ]
  },
  {
   "cell_type": "markdown",
   "metadata": {},
   "source": [
    "### Calculate EBITDA"
   ]
  },
  {
   "cell_type": "code",
   "execution_count": 7,
   "metadata": {},
   "outputs": [
    {
     "name": "stdout",
     "output_type": "stream",
     "text": [
      "Report Date\n",
      "2010-03-31    2.450100e+10\n",
      "2010-06-30    2.677100e+10\n",
      "2010-09-30    2.945300e+10\n",
      "2010-12-31    2.915300e+10\n",
      "2011-03-31    2.971500e+10\n",
      "2011-06-30    2.992700e+10\n",
      "2011-09-30    3.004600e+10\n",
      "2011-12-31    2.989000e+10\n",
      "2012-03-31    3.060100e+10\n",
      "2012-06-30    3.092300e+10\n",
      "2012-09-30    2.901200e+10\n",
      "2012-12-31    2.912000e+10\n",
      "2013-03-31    3.064500e+10\n",
      "2013-06-30    3.051900e+10\n",
      "2013-09-30    3.178900e+10\n",
      "2013-12-31    3.223900e+10\n",
      "2014-03-31    3.180300e+10\n",
      "2014-06-30    3.309800e+10\n",
      "2014-09-30    3.422200e+10\n",
      "2014-12-31    3.453200e+10\n",
      "2015-03-31    3.460200e+10\n",
      "2015-06-30    3.412900e+10\n",
      "2015-09-30    3.297100e+10\n",
      "2015-12-31    3.100100e+10\n",
      "2016-03-31    2.969200e+10\n",
      "2016-06-30    3.381000e+10\n",
      "2016-09-30    3.508700e+10\n",
      "2016-12-31    3.758800e+10\n",
      "2017-03-31    3.977400e+10\n",
      "2017-06-30    3.810900e+10\n",
      "2017-09-30    3.978500e+10\n",
      "2017-12-31    4.092900e+10\n",
      "2018-03-31    4.275500e+10\n",
      "2018-06-30    4.531900e+10\n",
      "2018-09-30    4.790400e+10\n",
      "2018-12-31    4.994200e+10\n",
      "2019-03-31    5.220700e+10\n",
      "2019-06-30    5.464100e+10\n",
      "2019-09-30    5.750600e+10\n",
      "dtype: float64\n"
     ]
    }
   ],
   "source": [
    "# Calculates EBITDA for ticker\n",
    "df_ebitda = df_inc[OP_INCOME_LOSS] + df_cf[DEPR_AMOR]\n",
    "\n",
    "print(df_ebitda)"
   ]
  },
  {
   "cell_type": "code",
   "execution_count": null,
   "metadata": {
    "collapsed": true
   },
   "outputs": [],
   "source": []
  }
 ],
 "metadata": {
  "kernelspec": {
   "display_name": "Python 3",
   "language": "python",
   "name": "python3"
  },
  "language_info": {
   "codemirror_mode": {
    "name": "ipython",
    "version": 3
   },
   "file_extension": ".py",
   "mimetype": "text/x-python",
   "name": "python",
   "nbconvert_exporter": "python",
   "pygments_lexer": "ipython3",
   "version": "3.6.4"
  }
 },
 "nbformat": 4,
 "nbformat_minor": 2
}
